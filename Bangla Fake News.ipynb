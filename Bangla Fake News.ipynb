{
 "cells": [
  {
   "cell_type": "markdown",
   "metadata": {},
   "source": [
    "### Md. Asifur Rahman"
   ]
  },
  {
   "cell_type": "markdown",
   "metadata": {},
   "source": [
    "### ID: 18.02.04.114"
   ]
  },
  {
   "cell_type": "code",
   "execution_count": 170,
   "metadata": {},
   "outputs": [],
   "source": [
    "import pandas as pd\n",
    "import numpy as np\n",
    "from sklearn.model_selection import train_test_split,GridSearchCV\n",
    "from sklearn.metrics import accuracy_score, confusion_matrix, roc_curve, roc_auc_score\n",
    "\n",
    "from sklearn.feature_extraction.text import TfidfVectorizer\n",
    "from sklearn.tree import DecisionTreeClassifier\n",
    "from sklearn.linear_model import LogisticRegression\n",
    "from sklearn.svm import SVC\n",
    "from sklearn.ensemble import RandomForestClassifier\n",
    "from sklearn.neighbors import KNeighborsClassifier\n",
    "from sklearn.naive_bayes import GaussianNB\n",
    "from sklearn.naive_bayes import MultinomialNB\n",
    "from sklearn.metrics import accuracy_score, classification_report, confusion_matrix\n",
    "from sklearn.model_selection import cross_val_score\n",
    "from sklearn.datasets import make_classification\n",
    "from sklearn.ensemble import GradientBoostingClassifier\n",
    "\n",
    "import sklearn\n",
    "from imblearn.combine import SMOTETomek\n",
    "from imblearn.under_sampling import NearMiss\n",
    "from imblearn.over_sampling import RandomOverSampler\n",
    "from sklearn.svm import SVC\n",
    "from sklearn.linear_model import LogisticRegression\n",
    "from sklearn import svm"
   ]
  },
  {
   "cell_type": "markdown",
   "metadata": {},
   "source": [
    "### Dataset Loading"
   ]
  },
  {
   "cell_type": "code",
   "execution_count": 32,
   "metadata": {},
   "outputs": [],
   "source": [
    "df_fake = pd.read_csv(\"Fake-1K.csv\")"
   ]
  },
  {
   "cell_type": "code",
   "execution_count": 33,
   "metadata": {},
   "outputs": [
    {
     "data": {
      "text/html": [
       "<div>\n",
       "<style scoped>\n",
       "    .dataframe tbody tr th:only-of-type {\n",
       "        vertical-align: middle;\n",
       "    }\n",
       "\n",
       "    .dataframe tbody tr th {\n",
       "        vertical-align: top;\n",
       "    }\n",
       "\n",
       "    .dataframe thead th {\n",
       "        text-align: right;\n",
       "    }\n",
       "</style>\n",
       "<table border=\"1\" class=\"dataframe\">\n",
       "  <thead>\n",
       "    <tr style=\"text-align: right;\">\n",
       "      <th></th>\n",
       "      <th>articleID</th>\n",
       "      <th>domain</th>\n",
       "      <th>date</th>\n",
       "      <th>category</th>\n",
       "      <th>headline</th>\n",
       "      <th>content</th>\n",
       "      <th>label</th>\n",
       "    </tr>\n",
       "  </thead>\n",
       "  <tbody>\n",
       "    <tr>\n",
       "      <th>0</th>\n",
       "      <td>1</td>\n",
       "      <td>channeldhaka.news</td>\n",
       "      <td>2019-03-14T13:34:14+00:00</td>\n",
       "      <td>International</td>\n",
       "      <td>মুরগির হামলায় শেয়াল নিহত</td>\n",
       "      <td>বাংলায় একটা প্রবাদ আছে, শেয়ালের কাছে মুরগী বর্...</td>\n",
       "      <td>0</td>\n",
       "    </tr>\n",
       "    <tr>\n",
       "      <th>1</th>\n",
       "      <td>2</td>\n",
       "      <td>earki.com</td>\n",
       "      <td>সেম্বর ১৭, ২০১৮</td>\n",
       "      <td>Miscellaneous</td>\n",
       "      <td>বিটিভিতে যেবার আমি ইন্টারভিউ দিতে গেলাম</td>\n",
       "      <td>BTV থেকে লোকজন আসছে, ইন্টারভিউ নিবে।চারজনের টি...</td>\n",
       "      <td>0</td>\n",
       "    </tr>\n",
       "    <tr>\n",
       "      <th>2</th>\n",
       "      <td>3</td>\n",
       "      <td>earki.com</td>\n",
       "      <td>২০:৩৯, জানুয়ারি ১৪, ২০১৯</td>\n",
       "      <td>Miscellaneous</td>\n",
       "      <td>বিদেশ থেকে উন্নতমানের বিরোধীদল আমদানি করার পরা...</td>\n",
       "      <td>অদ্ভুত বিরোধীদলহীনতায় ভুগছে সরকার। এ এক অন্যরক...</td>\n",
       "      <td>0</td>\n",
       "    </tr>\n",
       "    <tr>\n",
       "      <th>3</th>\n",
       "      <td>4</td>\n",
       "      <td>channeldhaka.news</td>\n",
       "      <td>2018-06-30T15:56:47+00:00</td>\n",
       "      <td>Sports</td>\n",
       "      <td>অবসর নেয়ার ঘোষণা দিলেন মেসি !</td>\n",
       "      <td>রাশিয়া বিশ্বকাপ নকআউট পর্বে ফ্রান্সের সাথে ৪-৩...</td>\n",
       "      <td>0</td>\n",
       "    </tr>\n",
       "    <tr>\n",
       "      <th>4</th>\n",
       "      <td>5</td>\n",
       "      <td>motikontho.wordpress.com</td>\n",
       "      <td>2013-03-05T21:55:45+00:00</td>\n",
       "      <td>Miscellaneous</td>\n",
       "      <td>মাদারফাকার নহে, ব্রাদারফাকার: সাকা | দৈনিক মতি...</td>\n",
       "      <td>নিজস্ব মতিবেদক‘মাদারফাকার নহে, আমি ব্রাদারফাকা...</td>\n",
       "      <td>0</td>\n",
       "    </tr>\n",
       "    <tr>\n",
       "      <th>...</th>\n",
       "      <td>...</td>\n",
       "      <td>...</td>\n",
       "      <td>...</td>\n",
       "      <td>...</td>\n",
       "      <td>...</td>\n",
       "      <td>...</td>\n",
       "      <td>...</td>\n",
       "    </tr>\n",
       "    <tr>\n",
       "      <th>1294</th>\n",
       "      <td>1303</td>\n",
       "      <td>bengalbeats.com</td>\n",
       "      <td>2019-03-31T21:34:42+00:00</td>\n",
       "      <td>Miscellaneous</td>\n",
       "      <td>রাজশাহীতে স্বামীর হাঁচির আওয়াজে ঘুমের মধ্যেই স...</td>\n",
       "      <td>রাজশাহীর সাহেব বাজার মোড়ে রাতে ঘুমের মধ্যে হাস...</td>\n",
       "      <td>0</td>\n",
       "    </tr>\n",
       "    <tr>\n",
       "      <th>1295</th>\n",
       "      <td>1304</td>\n",
       "      <td>bengaliviralnews.com</td>\n",
       "      <td>2018-01-16T15:36:12+00:00</td>\n",
       "      <td>Miscellaneous</td>\n",
       "      <td>IAS ইন্টারভিউ এ মেয়েটিকে জিজ্ঞসা করা হল মেয়েদে...</td>\n",
       "      <td>IAS পরীক্ষায় এমন এমন অবাক করে দেওয়া প্রশ্ন এসে...</td>\n",
       "      <td>0</td>\n",
       "    </tr>\n",
       "    <tr>\n",
       "      <th>1296</th>\n",
       "      <td>1305</td>\n",
       "      <td>channeldhaka.news</td>\n",
       "      <td>2018-12-03T18:09:08+00:00</td>\n",
       "      <td>Crime</td>\n",
       "      <td>শাওমি মোবাইল বিস্ফোরণে কলেজছাত্রের মৃত্যু!</td>\n",
       "      <td>শাওমি মোবাইল ফোন বিস্ফোরণ হয়ে স্বপ্নীল মজুমদা...</td>\n",
       "      <td>0</td>\n",
       "    </tr>\n",
       "    <tr>\n",
       "      <th>1297</th>\n",
       "      <td>1306</td>\n",
       "      <td>earki.com</td>\n",
       "      <td>১৭:৩৬, জানুয়ারি ০৭, ২০১৯</td>\n",
       "      <td>Miscellaneous</td>\n",
       "      <td>ফেসবুকে যেভাবে নতুন মন্ত্রীদের অভিনন্দন বার্তা...</td>\n",
       "      <td>আপনাকে নতুন মন্ত্রিসভার সদস্যদের অভিনন্দন জানা...</td>\n",
       "      <td>0</td>\n",
       "    </tr>\n",
       "    <tr>\n",
       "      <th>1298</th>\n",
       "      <td>1307</td>\n",
       "      <td>channeldhaka.news</td>\n",
       "      <td>2019-03-09T23:00:05+00:00</td>\n",
       "      <td>International</td>\n",
       "      <td>মাঝ আকাশে পর্ন দেখার অভিযোগে পাইলট আটক!</td>\n",
       "      <td>বিমান যখন আকাশে তখন আর কোনও দিকে খেয়াল না রেখ...</td>\n",
       "      <td>0</td>\n",
       "    </tr>\n",
       "  </tbody>\n",
       "</table>\n",
       "<p>1299 rows × 7 columns</p>\n",
       "</div>"
      ],
      "text/plain": [
       "      articleID                    domain                        date  \\\n",
       "0             1         channeldhaka.news   2019-03-14T13:34:14+00:00   \n",
       "1             2                 earki.com            সেম্বর ১৭, ২০১৮    \n",
       "2             3                 earki.com  ২০:৩৯, জানুয়ারি ১৪, ২০১৯    \n",
       "3             4         channeldhaka.news   2018-06-30T15:56:47+00:00   \n",
       "4             5  motikontho.wordpress.com   2013-03-05T21:55:45+00:00   \n",
       "...         ...                       ...                         ...   \n",
       "1294       1303           bengalbeats.com   2019-03-31T21:34:42+00:00   \n",
       "1295       1304      bengaliviralnews.com   2018-01-16T15:36:12+00:00   \n",
       "1296       1305         channeldhaka.news   2018-12-03T18:09:08+00:00   \n",
       "1297       1306                 earki.com  ১৭:৩৬, জানুয়ারি ০৭, ২০১৯    \n",
       "1298       1307         channeldhaka.news   2019-03-09T23:00:05+00:00   \n",
       "\n",
       "           category                                           headline  \\\n",
       "0     International                           মুরগির হামলায় শেয়াল নিহত   \n",
       "1     Miscellaneous            বিটিভিতে যেবার আমি ইন্টারভিউ দিতে গেলাম   \n",
       "2     Miscellaneous  বিদেশ থেকে উন্নতমানের বিরোধীদল আমদানি করার পরা...   \n",
       "3            Sports                      অবসর নেয়ার ঘোষণা দিলেন মেসি !   \n",
       "4     Miscellaneous  মাদারফাকার নহে, ব্রাদারফাকার: সাকা | দৈনিক মতি...   \n",
       "...             ...                                                ...   \n",
       "1294  Miscellaneous  রাজশাহীতে স্বামীর হাঁচির আওয়াজে ঘুমের মধ্যেই স...   \n",
       "1295  Miscellaneous  IAS ইন্টারভিউ এ মেয়েটিকে জিজ্ঞসা করা হল মেয়েদে...   \n",
       "1296          Crime         শাওমি মোবাইল বিস্ফোরণে কলেজছাত্রের মৃত্যু!   \n",
       "1297  Miscellaneous  ফেসবুকে যেভাবে নতুন মন্ত্রীদের অভিনন্দন বার্তা...   \n",
       "1298  International            মাঝ আকাশে পর্ন দেখার অভিযোগে পাইলট আটক!   \n",
       "\n",
       "                                                content  label  \n",
       "0     বাংলায় একটা প্রবাদ আছে, শেয়ালের কাছে মুরগী বর্...      0  \n",
       "1     BTV থেকে লোকজন আসছে, ইন্টারভিউ নিবে।চারজনের টি...      0  \n",
       "2     অদ্ভুত বিরোধীদলহীনতায় ভুগছে সরকার। এ এক অন্যরক...      0  \n",
       "3     রাশিয়া বিশ্বকাপ নকআউট পর্বে ফ্রান্সের সাথে ৪-৩...      0  \n",
       "4     নিজস্ব মতিবেদক‘মাদারফাকার নহে, আমি ব্রাদারফাকা...      0  \n",
       "...                                                 ...    ...  \n",
       "1294  রাজশাহীর সাহেব বাজার মোড়ে রাতে ঘুমের মধ্যে হাস...      0  \n",
       "1295  IAS পরীক্ষায় এমন এমন অবাক করে দেওয়া প্রশ্ন এসে...      0  \n",
       "1296  শাওমি মোবাইল ফোন বিস্ফোরণ হয়ে স্বপ্নীল মজুমদা...      0  \n",
       "1297  আপনাকে নতুন মন্ত্রিসভার সদস্যদের অভিনন্দন জানা...      0  \n",
       "1298  বিমান যখন আকাশে তখন আর কোনও দিকে খেয়াল না রেখ...      0  \n",
       "\n",
       "[1299 rows x 7 columns]"
      ]
     },
     "execution_count": 33,
     "metadata": {},
     "output_type": "execute_result"
    }
   ],
   "source": [
    "df_fake"
   ]
  },
  {
   "cell_type": "code",
   "execution_count": 34,
   "metadata": {},
   "outputs": [],
   "source": [
    "df_true = pd.read_csv(\"Authentic-48K.csv\")"
   ]
  },
  {
   "cell_type": "code",
   "execution_count": 35,
   "metadata": {},
   "outputs": [
    {
     "data": {
      "text/html": [
       "<div>\n",
       "<style scoped>\n",
       "    .dataframe tbody tr th:only-of-type {\n",
       "        vertical-align: middle;\n",
       "    }\n",
       "\n",
       "    .dataframe tbody tr th {\n",
       "        vertical-align: top;\n",
       "    }\n",
       "\n",
       "    .dataframe thead th {\n",
       "        text-align: right;\n",
       "    }\n",
       "</style>\n",
       "<table border=\"1\" class=\"dataframe\">\n",
       "  <thead>\n",
       "    <tr style=\"text-align: right;\">\n",
       "      <th></th>\n",
       "      <th>articleID</th>\n",
       "      <th>domain</th>\n",
       "      <th>date</th>\n",
       "      <th>category</th>\n",
       "      <th>headline</th>\n",
       "      <th>content</th>\n",
       "      <th>label</th>\n",
       "    </tr>\n",
       "  </thead>\n",
       "  <tbody>\n",
       "    <tr>\n",
       "      <th>0</th>\n",
       "      <td>1</td>\n",
       "      <td>jagonews24.com</td>\n",
       "      <td>2018-09-19 17:48:18</td>\n",
       "      <td>Education</td>\n",
       "      <td>হট্টগোল করায় বাকৃবিতে দুইজন বরখাস্ত, ৬ জনকে শোকজ</td>\n",
       "      <td>গত ১৭ সেপ্টেম্বর বাংলাদেশ কৃষি বিশ্ববিদ্যালয়ে ...</td>\n",
       "      <td>1</td>\n",
       "    </tr>\n",
       "    <tr>\n",
       "      <th>1</th>\n",
       "      <td>2</td>\n",
       "      <td>jagonews24.com</td>\n",
       "      <td>2018-09-19 17:48:19</td>\n",
       "      <td>National</td>\n",
       "      <td>মালয়েশিয়ায় কর্মী পাঠানোর ব্যবস্থা নেয়ার সুপারিশ</td>\n",
       "      <td>বাংলাদেশের বৃহৎ শ্রমবাজার মালয়েশিয়ায় আবার শ্রম...</td>\n",
       "      <td>1</td>\n",
       "    </tr>\n",
       "    <tr>\n",
       "      <th>2</th>\n",
       "      <td>3</td>\n",
       "      <td>jagonews24.com</td>\n",
       "      <td>2018-09-19 17:48:20</td>\n",
       "      <td>National</td>\n",
       "      <td>প্রেমের প্রস্তাবে রাজি না হওয়ায় স্কুলছাত্রীকে ...</td>\n",
       "      <td>নরসিংদীর মনোহরদীতে প্রেমের প্রস্তাবে রাজি না হ...</td>\n",
       "      <td>1</td>\n",
       "    </tr>\n",
       "    <tr>\n",
       "      <th>3</th>\n",
       "      <td>4</td>\n",
       "      <td>jagonews24.com</td>\n",
       "      <td>2018-09-19 17:48:21</td>\n",
       "      <td>Crime</td>\n",
       "      <td>মেডিয়েশনই মামলাজট নিরসনের পথ : বিচারপতি আহমেদ ...</td>\n",
       "      <td>সুপ্রিম কোর্টের হাইকোর্ট বিভাগের বিচারপতি আহমে...</td>\n",
       "      <td>1</td>\n",
       "    </tr>\n",
       "    <tr>\n",
       "      <th>4</th>\n",
       "      <td>5</td>\n",
       "      <td>jagonews24.com</td>\n",
       "      <td>2018-09-19 17:48:21</td>\n",
       "      <td>National</td>\n",
       "      <td>টকশোতে বক্তব্য দিতে গিয়ে জাপা নেতার মৃত্যু</td>\n",
       "      <td>মাদারীপুর সদরের উপজেলার লেকেরপাড়ে একটি বেসরকার...</td>\n",
       "      <td>1</td>\n",
       "    </tr>\n",
       "    <tr>\n",
       "      <th>...</th>\n",
       "      <td>...</td>\n",
       "      <td>...</td>\n",
       "      <td>...</td>\n",
       "      <td>...</td>\n",
       "      <td>...</td>\n",
       "      <td>...</td>\n",
       "      <td>...</td>\n",
       "    </tr>\n",
       "    <tr>\n",
       "      <th>48673</th>\n",
       "      <td>61776</td>\n",
       "      <td>banglanews24.com</td>\n",
       "      <td>2018-10-11 16:39:23</td>\n",
       "      <td>Sports</td>\n",
       "      <td>এনসিএলে তিতলির প্রভাব, সব ম্যাচ ড্র</td>\n",
       "      <td>প্রথমে বাংলাদেশের কাছ দিয়ে যাওয়ার কথা থাকলেও ঘ...</td>\n",
       "      <td>1</td>\n",
       "    </tr>\n",
       "    <tr>\n",
       "      <th>48674</th>\n",
       "      <td>61777</td>\n",
       "      <td>banglanews24.com</td>\n",
       "      <td>2018-10-11 16:39:27</td>\n",
       "      <td>International</td>\n",
       "      <td>কর্ম-বসবাসে সেরা সিঙ্গাপুর, আয়ে সুইজারল্যান্ড</td>\n",
       "      <td>উন্নত জীবনযাপনের জন্য অনেকেই বিদেশে পাড়ি দেন। ...</td>\n",
       "      <td>1</td>\n",
       "    </tr>\n",
       "    <tr>\n",
       "      <th>48675</th>\n",
       "      <td>61778</td>\n",
       "      <td>banglanews24.com</td>\n",
       "      <td>2018-10-11 16:39:30</td>\n",
       "      <td>Politics</td>\n",
       "      <td>জয়পুরহাটে জামায়াতের ১৯ নেতাকর্মী আটক</td>\n",
       "      <td>জয়পুরহাট: সরকার বিরোধী গোপন বৈঠকের সময় জয়পুরহা...</td>\n",
       "      <td>1</td>\n",
       "    </tr>\n",
       "    <tr>\n",
       "      <th>48676</th>\n",
       "      <td>61779</td>\n",
       "      <td>banglanews24.com</td>\n",
       "      <td>2018-10-11 16:39:32</td>\n",
       "      <td>National</td>\n",
       "      <td>ভ্যানগার্ড পোশাক কারখানাকে জরিমানা</td>\n",
       "      <td>চট্টগ্রাম: পরিবেশ দূষণের দায়ে নগরের আগ্রাবাদ এ...</td>\n",
       "      <td>1</td>\n",
       "    </tr>\n",
       "    <tr>\n",
       "      <th>48677</th>\n",
       "      <td>61780</td>\n",
       "      <td>banglanews24.com</td>\n",
       "      <td>2018-10-11 16:39:36</td>\n",
       "      <td>National</td>\n",
       "      <td>উল্লাপাড়ায় ভেজাল সার-কীটনাশক তৈরির কারখানা সিল...</td>\n",
       "      <td>সিরাজগঞ্জ: সিরাজগঞ্জের উল্লাপাড়ায় অভিযান চালিয়...</td>\n",
       "      <td>1</td>\n",
       "    </tr>\n",
       "  </tbody>\n",
       "</table>\n",
       "<p>48678 rows × 7 columns</p>\n",
       "</div>"
      ],
      "text/plain": [
       "       articleID            domain                 date       category  \\\n",
       "0              1    jagonews24.com  2018-09-19 17:48:18      Education   \n",
       "1              2    jagonews24.com  2018-09-19 17:48:19       National   \n",
       "2              3    jagonews24.com  2018-09-19 17:48:20       National   \n",
       "3              4    jagonews24.com  2018-09-19 17:48:21          Crime   \n",
       "4              5    jagonews24.com  2018-09-19 17:48:21       National   \n",
       "...          ...               ...                  ...            ...   \n",
       "48673      61776  banglanews24.com  2018-10-11 16:39:23         Sports   \n",
       "48674      61777  banglanews24.com  2018-10-11 16:39:27  International   \n",
       "48675      61778  banglanews24.com  2018-10-11 16:39:30       Politics   \n",
       "48676      61779  banglanews24.com  2018-10-11 16:39:32       National   \n",
       "48677      61780  banglanews24.com  2018-10-11 16:39:36       National   \n",
       "\n",
       "                                                headline  \\\n",
       "0       হট্টগোল করায় বাকৃবিতে দুইজন বরখাস্ত, ৬ জনকে শোকজ   \n",
       "1        মালয়েশিয়ায় কর্মী পাঠানোর ব্যবস্থা নেয়ার সুপারিশ   \n",
       "2      প্রেমের প্রস্তাবে রাজি না হওয়ায় স্কুলছাত্রীকে ...   \n",
       "3      মেডিয়েশনই মামলাজট নিরসনের পথ : বিচারপতি আহমেদ ...   \n",
       "4             টকশোতে বক্তব্য দিতে গিয়ে জাপা নেতার মৃত্যু   \n",
       "...                                                  ...   \n",
       "48673                এনসিএলে তিতলির প্রভাব, সব ম্যাচ ড্র   \n",
       "48674      কর্ম-বসবাসে সেরা সিঙ্গাপুর, আয়ে সুইজারল্যান্ড   \n",
       "48675               জয়পুরহাটে জামায়াতের ১৯ নেতাকর্মী আটক   \n",
       "48676                 ভ্যানগার্ড পোশাক কারখানাকে জরিমানা   \n",
       "48677  উল্লাপাড়ায় ভেজাল সার-কীটনাশক তৈরির কারখানা সিল...   \n",
       "\n",
       "                                                 content  label  \n",
       "0      গত ১৭ সেপ্টেম্বর বাংলাদেশ কৃষি বিশ্ববিদ্যালয়ে ...      1  \n",
       "1      বাংলাদেশের বৃহৎ শ্রমবাজার মালয়েশিয়ায় আবার শ্রম...      1  \n",
       "2      নরসিংদীর মনোহরদীতে প্রেমের প্রস্তাবে রাজি না হ...      1  \n",
       "3      সুপ্রিম কোর্টের হাইকোর্ট বিভাগের বিচারপতি আহমে...      1  \n",
       "4      মাদারীপুর সদরের উপজেলার লেকেরপাড়ে একটি বেসরকার...      1  \n",
       "...                                                  ...    ...  \n",
       "48673  প্রথমে বাংলাদেশের কাছ দিয়ে যাওয়ার কথা থাকলেও ঘ...      1  \n",
       "48674  উন্নত জীবনযাপনের জন্য অনেকেই বিদেশে পাড়ি দেন। ...      1  \n",
       "48675  জয়পুরহাট: সরকার বিরোধী গোপন বৈঠকের সময় জয়পুরহা...      1  \n",
       "48676  চট্টগ্রাম: পরিবেশ দূষণের দায়ে নগরের আগ্রাবাদ এ...      1  \n",
       "48677  সিরাজগঞ্জ: সিরাজগঞ্জের উল্লাপাড়ায় অভিযান চালিয়...      1  \n",
       "\n",
       "[48678 rows x 7 columns]"
      ]
     },
     "execution_count": 35,
     "metadata": {},
     "output_type": "execute_result"
    }
   ],
   "source": [
    "df_true"
   ]
  },
  {
   "cell_type": "markdown",
   "metadata": {},
   "source": [
    "### Concating Authentic and Fake News"
   ]
  },
  {
   "cell_type": "code",
   "execution_count": 36,
   "metadata": {},
   "outputs": [
    {
     "data": {
      "text/html": [
       "<div>\n",
       "<style scoped>\n",
       "    .dataframe tbody tr th:only-of-type {\n",
       "        vertical-align: middle;\n",
       "    }\n",
       "\n",
       "    .dataframe tbody tr th {\n",
       "        vertical-align: top;\n",
       "    }\n",
       "\n",
       "    .dataframe thead th {\n",
       "        text-align: right;\n",
       "    }\n",
       "</style>\n",
       "<table border=\"1\" class=\"dataframe\">\n",
       "  <thead>\n",
       "    <tr style=\"text-align: right;\">\n",
       "      <th></th>\n",
       "      <th>articleID</th>\n",
       "      <th>domain</th>\n",
       "      <th>date</th>\n",
       "      <th>category</th>\n",
       "      <th>headline</th>\n",
       "      <th>content</th>\n",
       "      <th>label</th>\n",
       "    </tr>\n",
       "  </thead>\n",
       "  <tbody>\n",
       "    <tr>\n",
       "      <th>0</th>\n",
       "      <td>1</td>\n",
       "      <td>jagonews24.com</td>\n",
       "      <td>2018-09-19 17:48:18</td>\n",
       "      <td>Education</td>\n",
       "      <td>হট্টগোল করায় বাকৃবিতে দুইজন বরখাস্ত, ৬ জনকে শোকজ</td>\n",
       "      <td>গত ১৭ সেপ্টেম্বর বাংলাদেশ কৃষি বিশ্ববিদ্যালয়ে ...</td>\n",
       "      <td>1</td>\n",
       "    </tr>\n",
       "    <tr>\n",
       "      <th>1</th>\n",
       "      <td>2</td>\n",
       "      <td>jagonews24.com</td>\n",
       "      <td>2018-09-19 17:48:19</td>\n",
       "      <td>National</td>\n",
       "      <td>মালয়েশিয়ায় কর্মী পাঠানোর ব্যবস্থা নেয়ার সুপারিশ</td>\n",
       "      <td>বাংলাদেশের বৃহৎ শ্রমবাজার মালয়েশিয়ায় আবার শ্রম...</td>\n",
       "      <td>1</td>\n",
       "    </tr>\n",
       "    <tr>\n",
       "      <th>2</th>\n",
       "      <td>3</td>\n",
       "      <td>jagonews24.com</td>\n",
       "      <td>2018-09-19 17:48:20</td>\n",
       "      <td>National</td>\n",
       "      <td>প্রেমের প্রস্তাবে রাজি না হওয়ায় স্কুলছাত্রীকে ...</td>\n",
       "      <td>নরসিংদীর মনোহরদীতে প্রেমের প্রস্তাবে রাজি না হ...</td>\n",
       "      <td>1</td>\n",
       "    </tr>\n",
       "    <tr>\n",
       "      <th>3</th>\n",
       "      <td>4</td>\n",
       "      <td>jagonews24.com</td>\n",
       "      <td>2018-09-19 17:48:21</td>\n",
       "      <td>Crime</td>\n",
       "      <td>মেডিয়েশনই মামলাজট নিরসনের পথ : বিচারপতি আহমেদ ...</td>\n",
       "      <td>সুপ্রিম কোর্টের হাইকোর্ট বিভাগের বিচারপতি আহমে...</td>\n",
       "      <td>1</td>\n",
       "    </tr>\n",
       "    <tr>\n",
       "      <th>4</th>\n",
       "      <td>5</td>\n",
       "      <td>jagonews24.com</td>\n",
       "      <td>2018-09-19 17:48:21</td>\n",
       "      <td>National</td>\n",
       "      <td>টকশোতে বক্তব্য দিতে গিয়ে জাপা নেতার মৃত্যু</td>\n",
       "      <td>মাদারীপুর সদরের উপজেলার লেকেরপাড়ে একটি বেসরকার...</td>\n",
       "      <td>1</td>\n",
       "    </tr>\n",
       "    <tr>\n",
       "      <th>...</th>\n",
       "      <td>...</td>\n",
       "      <td>...</td>\n",
       "      <td>...</td>\n",
       "      <td>...</td>\n",
       "      <td>...</td>\n",
       "      <td>...</td>\n",
       "      <td>...</td>\n",
       "    </tr>\n",
       "    <tr>\n",
       "      <th>1294</th>\n",
       "      <td>1303</td>\n",
       "      <td>bengalbeats.com</td>\n",
       "      <td>2019-03-31T21:34:42+00:00</td>\n",
       "      <td>Miscellaneous</td>\n",
       "      <td>রাজশাহীতে স্বামীর হাঁচির আওয়াজে ঘুমের মধ্যেই স...</td>\n",
       "      <td>রাজশাহীর সাহেব বাজার মোড়ে রাতে ঘুমের মধ্যে হাস...</td>\n",
       "      <td>0</td>\n",
       "    </tr>\n",
       "    <tr>\n",
       "      <th>1295</th>\n",
       "      <td>1304</td>\n",
       "      <td>bengaliviralnews.com</td>\n",
       "      <td>2018-01-16T15:36:12+00:00</td>\n",
       "      <td>Miscellaneous</td>\n",
       "      <td>IAS ইন্টারভিউ এ মেয়েটিকে জিজ্ঞসা করা হল মেয়েদে...</td>\n",
       "      <td>IAS পরীক্ষায় এমন এমন অবাক করে দেওয়া প্রশ্ন এসে...</td>\n",
       "      <td>0</td>\n",
       "    </tr>\n",
       "    <tr>\n",
       "      <th>1296</th>\n",
       "      <td>1305</td>\n",
       "      <td>channeldhaka.news</td>\n",
       "      <td>2018-12-03T18:09:08+00:00</td>\n",
       "      <td>Crime</td>\n",
       "      <td>শাওমি মোবাইল বিস্ফোরণে কলেজছাত্রের মৃত্যু!</td>\n",
       "      <td>শাওমি মোবাইল ফোন বিস্ফোরণ হয়ে স্বপ্নীল মজুমদা...</td>\n",
       "      <td>0</td>\n",
       "    </tr>\n",
       "    <tr>\n",
       "      <th>1297</th>\n",
       "      <td>1306</td>\n",
       "      <td>earki.com</td>\n",
       "      <td>১৭:৩৬, জানুয়ারি ০৭, ২০১৯</td>\n",
       "      <td>Miscellaneous</td>\n",
       "      <td>ফেসবুকে যেভাবে নতুন মন্ত্রীদের অভিনন্দন বার্তা...</td>\n",
       "      <td>আপনাকে নতুন মন্ত্রিসভার সদস্যদের অভিনন্দন জানা...</td>\n",
       "      <td>0</td>\n",
       "    </tr>\n",
       "    <tr>\n",
       "      <th>1298</th>\n",
       "      <td>1307</td>\n",
       "      <td>channeldhaka.news</td>\n",
       "      <td>2019-03-09T23:00:05+00:00</td>\n",
       "      <td>International</td>\n",
       "      <td>মাঝ আকাশে পর্ন দেখার অভিযোগে পাইলট আটক!</td>\n",
       "      <td>বিমান যখন আকাশে তখন আর কোনও দিকে খেয়াল না রেখ...</td>\n",
       "      <td>0</td>\n",
       "    </tr>\n",
       "  </tbody>\n",
       "</table>\n",
       "<p>49977 rows × 7 columns</p>\n",
       "</div>"
      ],
      "text/plain": [
       "      articleID                domain                        date  \\\n",
       "0             1        jagonews24.com         2018-09-19 17:48:18   \n",
       "1             2        jagonews24.com         2018-09-19 17:48:19   \n",
       "2             3        jagonews24.com         2018-09-19 17:48:20   \n",
       "3             4        jagonews24.com         2018-09-19 17:48:21   \n",
       "4             5        jagonews24.com         2018-09-19 17:48:21   \n",
       "...         ...                   ...                         ...   \n",
       "1294       1303       bengalbeats.com   2019-03-31T21:34:42+00:00   \n",
       "1295       1304  bengaliviralnews.com   2018-01-16T15:36:12+00:00   \n",
       "1296       1305     channeldhaka.news   2018-12-03T18:09:08+00:00   \n",
       "1297       1306             earki.com  ১৭:৩৬, জানুয়ারি ০৭, ২০১৯    \n",
       "1298       1307     channeldhaka.news   2019-03-09T23:00:05+00:00   \n",
       "\n",
       "           category                                           headline  \\\n",
       "0         Education   হট্টগোল করায় বাকৃবিতে দুইজন বরখাস্ত, ৬ জনকে শোকজ   \n",
       "1          National    মালয়েশিয়ায় কর্মী পাঠানোর ব্যবস্থা নেয়ার সুপারিশ   \n",
       "2          National  প্রেমের প্রস্তাবে রাজি না হওয়ায় স্কুলছাত্রীকে ...   \n",
       "3             Crime  মেডিয়েশনই মামলাজট নিরসনের পথ : বিচারপতি আহমেদ ...   \n",
       "4          National         টকশোতে বক্তব্য দিতে গিয়ে জাপা নেতার মৃত্যু   \n",
       "...             ...                                                ...   \n",
       "1294  Miscellaneous  রাজশাহীতে স্বামীর হাঁচির আওয়াজে ঘুমের মধ্যেই স...   \n",
       "1295  Miscellaneous  IAS ইন্টারভিউ এ মেয়েটিকে জিজ্ঞসা করা হল মেয়েদে...   \n",
       "1296          Crime         শাওমি মোবাইল বিস্ফোরণে কলেজছাত্রের মৃত্যু!   \n",
       "1297  Miscellaneous  ফেসবুকে যেভাবে নতুন মন্ত্রীদের অভিনন্দন বার্তা...   \n",
       "1298  International            মাঝ আকাশে পর্ন দেখার অভিযোগে পাইলট আটক!   \n",
       "\n",
       "                                                content  label  \n",
       "0     গত ১৭ সেপ্টেম্বর বাংলাদেশ কৃষি বিশ্ববিদ্যালয়ে ...      1  \n",
       "1     বাংলাদেশের বৃহৎ শ্রমবাজার মালয়েশিয়ায় আবার শ্রম...      1  \n",
       "2     নরসিংদীর মনোহরদীতে প্রেমের প্রস্তাবে রাজি না হ...      1  \n",
       "3     সুপ্রিম কোর্টের হাইকোর্ট বিভাগের বিচারপতি আহমে...      1  \n",
       "4     মাদারীপুর সদরের উপজেলার লেকেরপাড়ে একটি বেসরকার...      1  \n",
       "...                                                 ...    ...  \n",
       "1294  রাজশাহীর সাহেব বাজার মোড়ে রাতে ঘুমের মধ্যে হাস...      0  \n",
       "1295  IAS পরীক্ষায় এমন এমন অবাক করে দেওয়া প্রশ্ন এসে...      0  \n",
       "1296  শাওমি মোবাইল ফোন বিস্ফোরণ হয়ে স্বপ্নীল মজুমদা...      0  \n",
       "1297  আপনাকে নতুন মন্ত্রিসভার সদস্যদের অভিনন্দন জানা...      0  \n",
       "1298  বিমান যখন আকাশে তখন আর কোনও দিকে খেয়াল না রেখ...      0  \n",
       "\n",
       "[49977 rows x 7 columns]"
      ]
     },
     "execution_count": 36,
     "metadata": {},
     "output_type": "execute_result"
    }
   ],
   "source": [
    "merge_data = pd.concat([df_true, df_fake])\n",
    "merge_data"
   ]
  },
  {
   "cell_type": "code",
   "execution_count": 37,
   "metadata": {},
   "outputs": [
    {
     "data": {
      "text/html": [
       "<div>\n",
       "<style scoped>\n",
       "    .dataframe tbody tr th:only-of-type {\n",
       "        vertical-align: middle;\n",
       "    }\n",
       "\n",
       "    .dataframe tbody tr th {\n",
       "        vertical-align: top;\n",
       "    }\n",
       "\n",
       "    .dataframe thead th {\n",
       "        text-align: right;\n",
       "    }\n",
       "</style>\n",
       "<table border=\"1\" class=\"dataframe\">\n",
       "  <thead>\n",
       "    <tr style=\"text-align: right;\">\n",
       "      <th></th>\n",
       "      <th>articleID</th>\n",
       "      <th>domain</th>\n",
       "      <th>date</th>\n",
       "      <th>category</th>\n",
       "      <th>headline</th>\n",
       "      <th>content</th>\n",
       "      <th>label</th>\n",
       "    </tr>\n",
       "  </thead>\n",
       "  <tbody>\n",
       "    <tr>\n",
       "      <th>0</th>\n",
       "      <td>1</td>\n",
       "      <td>jagonews24.com</td>\n",
       "      <td>2018-09-19 17:48:18</td>\n",
       "      <td>Education</td>\n",
       "      <td>হট্টগোল করায় বাকৃবিতে দুইজন বরখাস্ত, ৬ জনকে শোকজ</td>\n",
       "      <td>গত ১৭ সেপ্টেম্বর বাংলাদেশ কৃষি বিশ্ববিদ্যালয়ে ...</td>\n",
       "      <td>1</td>\n",
       "    </tr>\n",
       "    <tr>\n",
       "      <th>1</th>\n",
       "      <td>2</td>\n",
       "      <td>jagonews24.com</td>\n",
       "      <td>2018-09-19 17:48:19</td>\n",
       "      <td>National</td>\n",
       "      <td>মালয়েশিয়ায় কর্মী পাঠানোর ব্যবস্থা নেয়ার সুপারিশ</td>\n",
       "      <td>বাংলাদেশের বৃহৎ শ্রমবাজার মালয়েশিয়ায় আবার শ্রম...</td>\n",
       "      <td>1</td>\n",
       "    </tr>\n",
       "    <tr>\n",
       "      <th>2</th>\n",
       "      <td>3</td>\n",
       "      <td>jagonews24.com</td>\n",
       "      <td>2018-09-19 17:48:20</td>\n",
       "      <td>National</td>\n",
       "      <td>প্রেমের প্রস্তাবে রাজি না হওয়ায় স্কুলছাত্রীকে ...</td>\n",
       "      <td>নরসিংদীর মনোহরদীতে প্রেমের প্রস্তাবে রাজি না হ...</td>\n",
       "      <td>1</td>\n",
       "    </tr>\n",
       "    <tr>\n",
       "      <th>3</th>\n",
       "      <td>4</td>\n",
       "      <td>jagonews24.com</td>\n",
       "      <td>2018-09-19 17:48:21</td>\n",
       "      <td>Crime</td>\n",
       "      <td>মেডিয়েশনই মামলাজট নিরসনের পথ : বিচারপতি আহমেদ ...</td>\n",
       "      <td>সুপ্রিম কোর্টের হাইকোর্ট বিভাগের বিচারপতি আহমে...</td>\n",
       "      <td>1</td>\n",
       "    </tr>\n",
       "    <tr>\n",
       "      <th>4</th>\n",
       "      <td>5</td>\n",
       "      <td>jagonews24.com</td>\n",
       "      <td>2018-09-19 17:48:21</td>\n",
       "      <td>National</td>\n",
       "      <td>টকশোতে বক্তব্য দিতে গিয়ে জাপা নেতার মৃত্যু</td>\n",
       "      <td>মাদারীপুর সদরের উপজেলার লেকেরপাড়ে একটি বেসরকার...</td>\n",
       "      <td>1</td>\n",
       "    </tr>\n",
       "    <tr>\n",
       "      <th>...</th>\n",
       "      <td>...</td>\n",
       "      <td>...</td>\n",
       "      <td>...</td>\n",
       "      <td>...</td>\n",
       "      <td>...</td>\n",
       "      <td>...</td>\n",
       "      <td>...</td>\n",
       "    </tr>\n",
       "    <tr>\n",
       "      <th>1294</th>\n",
       "      <td>1303</td>\n",
       "      <td>bengalbeats.com</td>\n",
       "      <td>2019-03-31T21:34:42+00:00</td>\n",
       "      <td>Miscellaneous</td>\n",
       "      <td>রাজশাহীতে স্বামীর হাঁচির আওয়াজে ঘুমের মধ্যেই স...</td>\n",
       "      <td>রাজশাহীর সাহেব বাজার মোড়ে রাতে ঘুমের মধ্যে হাস...</td>\n",
       "      <td>0</td>\n",
       "    </tr>\n",
       "    <tr>\n",
       "      <th>1295</th>\n",
       "      <td>1304</td>\n",
       "      <td>bengaliviralnews.com</td>\n",
       "      <td>2018-01-16T15:36:12+00:00</td>\n",
       "      <td>Miscellaneous</td>\n",
       "      <td>IAS ইন্টারভিউ এ মেয়েটিকে জিজ্ঞসা করা হল মেয়েদে...</td>\n",
       "      <td>IAS পরীক্ষায় এমন এমন অবাক করে দেওয়া প্রশ্ন এসে...</td>\n",
       "      <td>0</td>\n",
       "    </tr>\n",
       "    <tr>\n",
       "      <th>1296</th>\n",
       "      <td>1305</td>\n",
       "      <td>channeldhaka.news</td>\n",
       "      <td>2018-12-03T18:09:08+00:00</td>\n",
       "      <td>Crime</td>\n",
       "      <td>শাওমি মোবাইল বিস্ফোরণে কলেজছাত্রের মৃত্যু!</td>\n",
       "      <td>শাওমি মোবাইল ফোন বিস্ফোরণ হয়ে স্বপ্নীল মজুমদা...</td>\n",
       "      <td>0</td>\n",
       "    </tr>\n",
       "    <tr>\n",
       "      <th>1297</th>\n",
       "      <td>1306</td>\n",
       "      <td>earki.com</td>\n",
       "      <td>১৭:৩৬, জানুয়ারি ০৭, ২০১৯</td>\n",
       "      <td>Miscellaneous</td>\n",
       "      <td>ফেসবুকে যেভাবে নতুন মন্ত্রীদের অভিনন্দন বার্তা...</td>\n",
       "      <td>আপনাকে নতুন মন্ত্রিসভার সদস্যদের অভিনন্দন জানা...</td>\n",
       "      <td>0</td>\n",
       "    </tr>\n",
       "    <tr>\n",
       "      <th>1298</th>\n",
       "      <td>1307</td>\n",
       "      <td>channeldhaka.news</td>\n",
       "      <td>2019-03-09T23:00:05+00:00</td>\n",
       "      <td>International</td>\n",
       "      <td>মাঝ আকাশে পর্ন দেখার অভিযোগে পাইলট আটক!</td>\n",
       "      <td>বিমান যখন আকাশে তখন আর কোনও দিকে খেয়াল না রেখ...</td>\n",
       "      <td>0</td>\n",
       "    </tr>\n",
       "  </tbody>\n",
       "</table>\n",
       "<p>49977 rows × 7 columns</p>\n",
       "</div>"
      ],
      "text/plain": [
       "      articleID                domain                        date  \\\n",
       "0             1        jagonews24.com         2018-09-19 17:48:18   \n",
       "1             2        jagonews24.com         2018-09-19 17:48:19   \n",
       "2             3        jagonews24.com         2018-09-19 17:48:20   \n",
       "3             4        jagonews24.com         2018-09-19 17:48:21   \n",
       "4             5        jagonews24.com         2018-09-19 17:48:21   \n",
       "...         ...                   ...                         ...   \n",
       "1294       1303       bengalbeats.com   2019-03-31T21:34:42+00:00   \n",
       "1295       1304  bengaliviralnews.com   2018-01-16T15:36:12+00:00   \n",
       "1296       1305     channeldhaka.news   2018-12-03T18:09:08+00:00   \n",
       "1297       1306             earki.com  ১৭:৩৬, জানুয়ারি ০৭, ২০১৯    \n",
       "1298       1307     channeldhaka.news   2019-03-09T23:00:05+00:00   \n",
       "\n",
       "           category                                           headline  \\\n",
       "0         Education   হট্টগোল করায় বাকৃবিতে দুইজন বরখাস্ত, ৬ জনকে শোকজ   \n",
       "1          National    মালয়েশিয়ায় কর্মী পাঠানোর ব্যবস্থা নেয়ার সুপারিশ   \n",
       "2          National  প্রেমের প্রস্তাবে রাজি না হওয়ায় স্কুলছাত্রীকে ...   \n",
       "3             Crime  মেডিয়েশনই মামলাজট নিরসনের পথ : বিচারপতি আহমেদ ...   \n",
       "4          National         টকশোতে বক্তব্য দিতে গিয়ে জাপা নেতার মৃত্যু   \n",
       "...             ...                                                ...   \n",
       "1294  Miscellaneous  রাজশাহীতে স্বামীর হাঁচির আওয়াজে ঘুমের মধ্যেই স...   \n",
       "1295  Miscellaneous  IAS ইন্টারভিউ এ মেয়েটিকে জিজ্ঞসা করা হল মেয়েদে...   \n",
       "1296          Crime         শাওমি মোবাইল বিস্ফোরণে কলেজছাত্রের মৃত্যু!   \n",
       "1297  Miscellaneous  ফেসবুকে যেভাবে নতুন মন্ত্রীদের অভিনন্দন বার্তা...   \n",
       "1298  International            মাঝ আকাশে পর্ন দেখার অভিযোগে পাইলট আটক!   \n",
       "\n",
       "                                                content  label  \n",
       "0     গত ১৭ সেপ্টেম্বর বাংলাদেশ কৃষি বিশ্ববিদ্যালয়ে ...      1  \n",
       "1     বাংলাদেশের বৃহৎ শ্রমবাজার মালয়েশিয়ায় আবার শ্রম...      1  \n",
       "2     নরসিংদীর মনোহরদীতে প্রেমের প্রস্তাবে রাজি না হ...      1  \n",
       "3     সুপ্রিম কোর্টের হাইকোর্ট বিভাগের বিচারপতি আহমে...      1  \n",
       "4     মাদারীপুর সদরের উপজেলার লেকেরপাড়ে একটি বেসরকার...      1  \n",
       "...                                                 ...    ...  \n",
       "1294  রাজশাহীর সাহেব বাজার মোড়ে রাতে ঘুমের মধ্যে হাস...      0  \n",
       "1295  IAS পরীক্ষায় এমন এমন অবাক করে দেওয়া প্রশ্ন এসে...      0  \n",
       "1296  শাওমি মোবাইল ফোন বিস্ফোরণ হয়ে স্বপ্নীল মজুমদা...      0  \n",
       "1297  আপনাকে নতুন মন্ত্রিসভার সদস্যদের অভিনন্দন জানা...      0  \n",
       "1298  বিমান যখন আকাশে তখন আর কোনও দিকে খেয়াল না রেখ...      0  \n",
       "\n",
       "[49977 rows x 7 columns]"
      ]
     },
     "execution_count": 37,
     "metadata": {},
     "output_type": "execute_result"
    }
   ],
   "source": [
    "merge_data"
   ]
  },
  {
   "cell_type": "markdown",
   "metadata": {},
   "source": [
    "### Checking for Null values"
   ]
  },
  {
   "cell_type": "code",
   "execution_count": 38,
   "metadata": {},
   "outputs": [
    {
     "data": {
      "text/plain": [
       "articleID    0\n",
       "domain       0\n",
       "date         0\n",
       "category     0\n",
       "headline     0\n",
       "content      0\n",
       "label        0\n",
       "dtype: int64"
      ]
     },
     "execution_count": 38,
     "metadata": {},
     "output_type": "execute_result"
    }
   ],
   "source": [
    "merge_data.isnull().sum()"
   ]
  },
  {
   "cell_type": "code",
   "execution_count": 39,
   "metadata": {},
   "outputs": [
    {
     "data": {
      "text/plain": [
       "(49977, 7)"
      ]
     },
     "execution_count": 39,
     "metadata": {},
     "output_type": "execute_result"
    }
   ],
   "source": [
    "merge_data.shape"
   ]
  },
  {
   "cell_type": "markdown",
   "metadata": {},
   "source": [
    "### Checking the labels of the data"
   ]
  },
  {
   "cell_type": "code",
   "execution_count": 40,
   "metadata": {},
   "outputs": [
    {
     "name": "stdout",
     "output_type": "stream",
     "text": [
      "Total news: 49977 \n",
      "Total Authentic news: 48678 \n",
      "Total Fake news: 1299\n"
     ]
    }
   ],
   "source": [
    "print(\"Total news:\",len(merge_data),\n",
    "      \"\\nTotal Authentic news:\",len(merge_data[merge_data.label ==1]),\n",
    "      \"\\nTotal Fake news:\",len(merge_data[merge_data.label ==0]))"
   ]
  },
  {
   "cell_type": "markdown",
   "metadata": {},
   "source": [
    "### Ploting the Dataset Distribution graph"
   ]
  },
  {
   "cell_type": "code",
   "execution_count": 41,
   "metadata": {},
   "outputs": [
    {
     "data": {
      "text/plain": [
       "Text(0.5, 1.1, 'Dataset Distribution')"
      ]
     },
     "execution_count": 41,
     "metadata": {},
     "output_type": "execute_result"
    },
    {
     "data": {
      "image/png": "[encoded data removed]",
      "text/plain": [
       "<Figure size 1000x300 with 1 Axes>"
      ]
     },
     "metadata": {},
     "output_type": "display_data"
    }
   ],
   "source": [
    "import seaborn as sns\n",
    "import matplotlib.pyplot as plt\n",
    "\n",
    "sns.set(font_scale=1.4)\n",
    "merge_data['label'].value_counts().plot(kind='barh', figsize=(10,3))\n",
    "plt.xlabel(\"Number of rows\",labelpad=12)\n",
    "plt.ylabel(\"label\",labelpad=12)\n",
    "plt.title(\"Dataset Distribution\",y=1.10)"
   ]
  },
  {
   "cell_type": "code",
   "execution_count": 42,
   "metadata": {},
   "outputs": [
    {
     "data": {
      "text/html": [
       "<div>\n",
       "<style scoped>\n",
       "    .dataframe tbody tr th:only-of-type {\n",
       "        vertical-align: middle;\n",
       "    }\n",
       "\n",
       "    .dataframe tbody tr th {\n",
       "        vertical-align: top;\n",
       "    }\n",
       "\n",
       "    .dataframe thead th {\n",
       "        text-align: right;\n",
       "    }\n",
       "</style>\n",
       "<table border=\"1\" class=\"dataframe\">\n",
       "  <thead>\n",
       "    <tr style=\"text-align: right;\">\n",
       "      <th></th>\n",
       "      <th>articleID</th>\n",
       "      <th>domain</th>\n",
       "      <th>date</th>\n",
       "      <th>category</th>\n",
       "      <th>headline</th>\n",
       "      <th>content</th>\n",
       "      <th>label</th>\n",
       "    </tr>\n",
       "  </thead>\n",
       "  <tbody>\n",
       "    <tr>\n",
       "      <th>0</th>\n",
       "      <td>1</td>\n",
       "      <td>jagonews24.com</td>\n",
       "      <td>2018-09-19 17:48:18</td>\n",
       "      <td>Education</td>\n",
       "      <td>হট্টগোল করায় বাকৃবিতে দুইজন বরখাস্ত, ৬ জনকে শোকজ</td>\n",
       "      <td>গত ১৭ সেপ্টেম্বর বাংলাদেশ কৃষি বিশ্ববিদ্যালয়ে ...</td>\n",
       "      <td>1</td>\n",
       "    </tr>\n",
       "    <tr>\n",
       "      <th>1</th>\n",
       "      <td>2</td>\n",
       "      <td>jagonews24.com</td>\n",
       "      <td>2018-09-19 17:48:19</td>\n",
       "      <td>National</td>\n",
       "      <td>মালয়েশিয়ায় কর্মী পাঠানোর ব্যবস্থা নেয়ার সুপারিশ</td>\n",
       "      <td>বাংলাদেশের বৃহৎ শ্রমবাজার মালয়েশিয়ায় আবার শ্রম...</td>\n",
       "      <td>1</td>\n",
       "    </tr>\n",
       "    <tr>\n",
       "      <th>2</th>\n",
       "      <td>3</td>\n",
       "      <td>jagonews24.com</td>\n",
       "      <td>2018-09-19 17:48:20</td>\n",
       "      <td>National</td>\n",
       "      <td>প্রেমের প্রস্তাবে রাজি না হওয়ায় স্কুলছাত্রীকে ...</td>\n",
       "      <td>নরসিংদীর মনোহরদীতে প্রেমের প্রস্তাবে রাজি না হ...</td>\n",
       "      <td>1</td>\n",
       "    </tr>\n",
       "    <tr>\n",
       "      <th>3</th>\n",
       "      <td>4</td>\n",
       "      <td>jagonews24.com</td>\n",
       "      <td>2018-09-19 17:48:21</td>\n",
       "      <td>Crime</td>\n",
       "      <td>মেডিয়েশনই মামলাজট নিরসনের পথ : বিচারপতি আহমেদ ...</td>\n",
       "      <td>সুপ্রিম কোর্টের হাইকোর্ট বিভাগের বিচারপতি আহমে...</td>\n",
       "      <td>1</td>\n",
       "    </tr>\n",
       "    <tr>\n",
       "      <th>4</th>\n",
       "      <td>5</td>\n",
       "      <td>jagonews24.com</td>\n",
       "      <td>2018-09-19 17:48:21</td>\n",
       "      <td>National</td>\n",
       "      <td>টকশোতে বক্তব্য দিতে গিয়ে জাপা নেতার মৃত্যু</td>\n",
       "      <td>মাদারীপুর সদরের উপজেলার লেকেরপাড়ে একটি বেসরকার...</td>\n",
       "      <td>1</td>\n",
       "    </tr>\n",
       "    <tr>\n",
       "      <th>...</th>\n",
       "      <td>...</td>\n",
       "      <td>...</td>\n",
       "      <td>...</td>\n",
       "      <td>...</td>\n",
       "      <td>...</td>\n",
       "      <td>...</td>\n",
       "      <td>...</td>\n",
       "    </tr>\n",
       "    <tr>\n",
       "      <th>1294</th>\n",
       "      <td>1303</td>\n",
       "      <td>bengalbeats.com</td>\n",
       "      <td>2019-03-31T21:34:42+00:00</td>\n",
       "      <td>Miscellaneous</td>\n",
       "      <td>রাজশাহীতে স্বামীর হাঁচির আওয়াজে ঘুমের মধ্যেই স...</td>\n",
       "      <td>রাজশাহীর সাহেব বাজার মোড়ে রাতে ঘুমের মধ্যে হাস...</td>\n",
       "      <td>0</td>\n",
       "    </tr>\n",
       "    <tr>\n",
       "      <th>1295</th>\n",
       "      <td>1304</td>\n",
       "      <td>bengaliviralnews.com</td>\n",
       "      <td>2018-01-16T15:36:12+00:00</td>\n",
       "      <td>Miscellaneous</td>\n",
       "      <td>IAS ইন্টারভিউ এ মেয়েটিকে জিজ্ঞসা করা হল মেয়েদে...</td>\n",
       "      <td>IAS পরীক্ষায় এমন এমন অবাক করে দেওয়া প্রশ্ন এসে...</td>\n",
       "      <td>0</td>\n",
       "    </tr>\n",
       "    <tr>\n",
       "      <th>1296</th>\n",
       "      <td>1305</td>\n",
       "      <td>channeldhaka.news</td>\n",
       "      <td>2018-12-03T18:09:08+00:00</td>\n",
       "      <td>Crime</td>\n",
       "      <td>শাওমি মোবাইল বিস্ফোরণে কলেজছাত্রের মৃত্যু!</td>\n",
       "      <td>শাওমি মোবাইল ফোন বিস্ফোরণ হয়ে স্বপ্নীল মজুমদা...</td>\n",
       "      <td>0</td>\n",
       "    </tr>\n",
       "    <tr>\n",
       "      <th>1297</th>\n",
       "      <td>1306</td>\n",
       "      <td>earki.com</td>\n",
       "      <td>১৭:৩৬, জানুয়ারি ০৭, ২০১৯</td>\n",
       "      <td>Miscellaneous</td>\n",
       "      <td>ফেসবুকে যেভাবে নতুন মন্ত্রীদের অভিনন্দন বার্তা...</td>\n",
       "      <td>আপনাকে নতুন মন্ত্রিসভার সদস্যদের অভিনন্দন জানা...</td>\n",
       "      <td>0</td>\n",
       "    </tr>\n",
       "    <tr>\n",
       "      <th>1298</th>\n",
       "      <td>1307</td>\n",
       "      <td>channeldhaka.news</td>\n",
       "      <td>2019-03-09T23:00:05+00:00</td>\n",
       "      <td>International</td>\n",
       "      <td>মাঝ আকাশে পর্ন দেখার অভিযোগে পাইলট আটক!</td>\n",
       "      <td>বিমান যখন আকাশে তখন আর কোনও দিকে খেয়াল না রেখ...</td>\n",
       "      <td>0</td>\n",
       "    </tr>\n",
       "  </tbody>\n",
       "</table>\n",
       "<p>49977 rows × 7 columns</p>\n",
       "</div>"
      ],
      "text/plain": [
       "      articleID                domain                        date  \\\n",
       "0             1        jagonews24.com         2018-09-19 17:48:18   \n",
       "1             2        jagonews24.com         2018-09-19 17:48:19   \n",
       "2             3        jagonews24.com         2018-09-19 17:48:20   \n",
       "3             4        jagonews24.com         2018-09-19 17:48:21   \n",
       "4             5        jagonews24.com         2018-09-19 17:48:21   \n",
       "...         ...                   ...                         ...   \n",
       "1294       1303       bengalbeats.com   2019-03-31T21:34:42+00:00   \n",
       "1295       1304  bengaliviralnews.com   2018-01-16T15:36:12+00:00   \n",
       "1296       1305     channeldhaka.news   2018-12-03T18:09:08+00:00   \n",
       "1297       1306             earki.com  ১৭:৩৬, জানুয়ারি ০৭, ২০১৯    \n",
       "1298       1307     channeldhaka.news   2019-03-09T23:00:05+00:00   \n",
       "\n",
       "           category                                           headline  \\\n",
       "0         Education   হট্টগোল করায় বাকৃবিতে দুইজন বরখাস্ত, ৬ জনকে শোকজ   \n",
       "1          National    মালয়েশিয়ায় কর্মী পাঠানোর ব্যবস্থা নেয়ার সুপারিশ   \n",
       "2          National  প্রেমের প্রস্তাবে রাজি না হওয়ায় স্কুলছাত্রীকে ...   \n",
       "3             Crime  মেডিয়েশনই মামলাজট নিরসনের পথ : বিচারপতি আহমেদ ...   \n",
       "4          National         টকশোতে বক্তব্য দিতে গিয়ে জাপা নেতার মৃত্যু   \n",
       "...             ...                                                ...   \n",
       "1294  Miscellaneous  রাজশাহীতে স্বামীর হাঁচির আওয়াজে ঘুমের মধ্যেই স...   \n",
       "1295  Miscellaneous  IAS ইন্টারভিউ এ মেয়েটিকে জিজ্ঞসা করা হল মেয়েদে...   \n",
       "1296          Crime         শাওমি মোবাইল বিস্ফোরণে কলেজছাত্রের মৃত্যু!   \n",
       "1297  Miscellaneous  ফেসবুকে যেভাবে নতুন মন্ত্রীদের অভিনন্দন বার্তা...   \n",
       "1298  International            মাঝ আকাশে পর্ন দেখার অভিযোগে পাইলট আটক!   \n",
       "\n",
       "                                                content  label  \n",
       "0     গত ১৭ সেপ্টেম্বর বাংলাদেশ কৃষি বিশ্ববিদ্যালয়ে ...      1  \n",
       "1     বাংলাদেশের বৃহৎ শ্রমবাজার মালয়েশিয়ায় আবার শ্রম...      1  \n",
       "2     নরসিংদীর মনোহরদীতে প্রেমের প্রস্তাবে রাজি না হ...      1  \n",
       "3     সুপ্রিম কোর্টের হাইকোর্ট বিভাগের বিচারপতি আহমে...      1  \n",
       "4     মাদারীপুর সদরের উপজেলার লেকেরপাড়ে একটি বেসরকার...      1  \n",
       "...                                                 ...    ...  \n",
       "1294  রাজশাহীর সাহেব বাজার মোড়ে রাতে ঘুমের মধ্যে হাস...      0  \n",
       "1295  IAS পরীক্ষায় এমন এমন অবাক করে দেওয়া প্রশ্ন এসে...      0  \n",
       "1296  শাওমি মোবাইল ফোন বিস্ফোরণ হয়ে স্বপ্নীল মজুমদা...      0  \n",
       "1297  আপনাকে নতুন মন্ত্রিসভার সদস্যদের অভিনন্দন জানা...      0  \n",
       "1298  বিমান যখন আকাশে তখন আর কোনও দিকে খেয়াল না রেখ...      0  \n",
       "\n",
       "[49977 rows x 7 columns]"
      ]
     },
     "execution_count": 42,
     "metadata": {},
     "output_type": "execute_result"
    }
   ],
   "source": [
    "merge_data"
   ]
  },
  {
   "cell_type": "markdown",
   "metadata": {},
   "source": [
    "### Droping the unnecessary columns"
   ]
  },
  {
   "cell_type": "code",
   "execution_count": 43,
   "metadata": {},
   "outputs": [],
   "source": [
    "merge_data=merge_data.drop('articleID', axis=1)\n",
    "merge_data=merge_data.drop('domain', axis=1)\n",
    "merge_data=merge_data.drop('date', axis=1)\n",
    "merge_data=merge_data.drop('category', axis=1)"
   ]
  },
  {
   "cell_type": "code",
   "execution_count": 44,
   "metadata": {},
   "outputs": [
    {
     "data": {
      "text/html": [
       "<div>\n",
       "<style scoped>\n",
       "    .dataframe tbody tr th:only-of-type {\n",
       "        vertical-align: middle;\n",
       "    }\n",
       "\n",
       "    .dataframe tbody tr th {\n",
       "        vertical-align: top;\n",
       "    }\n",
       "\n",
       "    .dataframe thead th {\n",
       "        text-align: right;\n",
       "    }\n",
       "</style>\n",
       "<table border=\"1\" class=\"dataframe\">\n",
       "  <thead>\n",
       "    <tr style=\"text-align: right;\">\n",
       "      <th></th>\n",
       "      <th>headline</th>\n",
       "      <th>content</th>\n",
       "      <th>label</th>\n",
       "    </tr>\n",
       "  </thead>\n",
       "  <tbody>\n",
       "    <tr>\n",
       "      <th>0</th>\n",
       "      <td>হট্টগোল করায় বাকৃবিতে দুইজন বরখাস্ত, ৬ জনকে শোকজ</td>\n",
       "      <td>গত ১৭ সেপ্টেম্বর বাংলাদেশ কৃষি বিশ্ববিদ্যালয়ে ...</td>\n",
       "      <td>1</td>\n",
       "    </tr>\n",
       "    <tr>\n",
       "      <th>1</th>\n",
       "      <td>মালয়েশিয়ায় কর্মী পাঠানোর ব্যবস্থা নেয়ার সুপারিশ</td>\n",
       "      <td>বাংলাদেশের বৃহৎ শ্রমবাজার মালয়েশিয়ায় আবার শ্রম...</td>\n",
       "      <td>1</td>\n",
       "    </tr>\n",
       "    <tr>\n",
       "      <th>2</th>\n",
       "      <td>প্রেমের প্রস্তাবে রাজি না হওয়ায় স্কুলছাত্রীকে ...</td>\n",
       "      <td>নরসিংদীর মনোহরদীতে প্রেমের প্রস্তাবে রাজি না হ...</td>\n",
       "      <td>1</td>\n",
       "    </tr>\n",
       "    <tr>\n",
       "      <th>3</th>\n",
       "      <td>মেডিয়েশনই মামলাজট নিরসনের পথ : বিচারপতি আহমেদ ...</td>\n",
       "      <td>সুপ্রিম কোর্টের হাইকোর্ট বিভাগের বিচারপতি আহমে...</td>\n",
       "      <td>1</td>\n",
       "    </tr>\n",
       "    <tr>\n",
       "      <th>4</th>\n",
       "      <td>টকশোতে বক্তব্য দিতে গিয়ে জাপা নেতার মৃত্যু</td>\n",
       "      <td>মাদারীপুর সদরের উপজেলার লেকেরপাড়ে একটি বেসরকার...</td>\n",
       "      <td>1</td>\n",
       "    </tr>\n",
       "    <tr>\n",
       "      <th>...</th>\n",
       "      <td>...</td>\n",
       "      <td>...</td>\n",
       "      <td>...</td>\n",
       "    </tr>\n",
       "    <tr>\n",
       "      <th>1294</th>\n",
       "      <td>রাজশাহীতে স্বামীর হাঁচির আওয়াজে ঘুমের মধ্যেই স...</td>\n",
       "      <td>রাজশাহীর সাহেব বাজার মোড়ে রাতে ঘুমের মধ্যে হাস...</td>\n",
       "      <td>0</td>\n",
       "    </tr>\n",
       "    <tr>\n",
       "      <th>1295</th>\n",
       "      <td>IAS ইন্টারভিউ এ মেয়েটিকে জিজ্ঞসা করা হল মেয়েদে...</td>\n",
       "      <td>IAS পরীক্ষায় এমন এমন অবাক করে দেওয়া প্রশ্ন এসে...</td>\n",
       "      <td>0</td>\n",
       "    </tr>\n",
       "    <tr>\n",
       "      <th>1296</th>\n",
       "      <td>শাওমি মোবাইল বিস্ফোরণে কলেজছাত্রের মৃত্যু!</td>\n",
       "      <td>শাওমি মোবাইল ফোন বিস্ফোরণ হয়ে স্বপ্নীল মজুমদা...</td>\n",
       "      <td>0</td>\n",
       "    </tr>\n",
       "    <tr>\n",
       "      <th>1297</th>\n",
       "      <td>ফেসবুকে যেভাবে নতুন মন্ত্রীদের অভিনন্দন বার্তা...</td>\n",
       "      <td>আপনাকে নতুন মন্ত্রিসভার সদস্যদের অভিনন্দন জানা...</td>\n",
       "      <td>0</td>\n",
       "    </tr>\n",
       "    <tr>\n",
       "      <th>1298</th>\n",
       "      <td>মাঝ আকাশে পর্ন দেখার অভিযোগে পাইলট আটক!</td>\n",
       "      <td>বিমান যখন আকাশে তখন আর কোনও দিকে খেয়াল না রেখ...</td>\n",
       "      <td>0</td>\n",
       "    </tr>\n",
       "  </tbody>\n",
       "</table>\n",
       "<p>49977 rows × 3 columns</p>\n",
       "</div>"
      ],
      "text/plain": [
       "                                               headline  \\\n",
       "0      হট্টগোল করায় বাকৃবিতে দুইজন বরখাস্ত, ৬ জনকে শোকজ   \n",
       "1       মালয়েশিয়ায় কর্মী পাঠানোর ব্যবস্থা নেয়ার সুপারিশ   \n",
       "2     প্রেমের প্রস্তাবে রাজি না হওয়ায় স্কুলছাত্রীকে ...   \n",
       "3     মেডিয়েশনই মামলাজট নিরসনের পথ : বিচারপতি আহমেদ ...   \n",
       "4            টকশোতে বক্তব্য দিতে গিয়ে জাপা নেতার মৃত্যু   \n",
       "...                                                 ...   \n",
       "1294  রাজশাহীতে স্বামীর হাঁচির আওয়াজে ঘুমের মধ্যেই স...   \n",
       "1295  IAS ইন্টারভিউ এ মেয়েটিকে জিজ্ঞসা করা হল মেয়েদে...   \n",
       "1296         শাওমি মোবাইল বিস্ফোরণে কলেজছাত্রের মৃত্যু!   \n",
       "1297  ফেসবুকে যেভাবে নতুন মন্ত্রীদের অভিনন্দন বার্তা...   \n",
       "1298            মাঝ আকাশে পর্ন দেখার অভিযোগে পাইলট আটক!   \n",
       "\n",
       "                                                content  label  \n",
       "0     গত ১৭ সেপ্টেম্বর বাংলাদেশ কৃষি বিশ্ববিদ্যালয়ে ...      1  \n",
       "1     বাংলাদেশের বৃহৎ শ্রমবাজার মালয়েশিয়ায় আবার শ্রম...      1  \n",
       "2     নরসিংদীর মনোহরদীতে প্রেমের প্রস্তাবে রাজি না হ...      1  \n",
       "3     সুপ্রিম কোর্টের হাইকোর্ট বিভাগের বিচারপতি আহমে...      1  \n",
       "4     মাদারীপুর সদরের উপজেলার লেকেরপাড়ে একটি বেসরকার...      1  \n",
       "...                                                 ...    ...  \n",
       "1294  রাজশাহীর সাহেব বাজার মোড়ে রাতে ঘুমের মধ্যে হাস...      0  \n",
       "1295  IAS পরীক্ষায় এমন এমন অবাক করে দেওয়া প্রশ্ন এসে...      0  \n",
       "1296  শাওমি মোবাইল ফোন বিস্ফোরণ হয়ে স্বপ্নীল মজুমদা...      0  \n",
       "1297  আপনাকে নতুন মন্ত্রিসভার সদস্যদের অভিনন্দন জানা...      0  \n",
       "1298  বিমান যখন আকাশে তখন আর কোনও দিকে খেয়াল না রেখ...      0  \n",
       "\n",
       "[49977 rows x 3 columns]"
      ]
     },
     "execution_count": 44,
     "metadata": {},
     "output_type": "execute_result"
    }
   ],
   "source": [
    "merge_data"
   ]
  },
  {
   "cell_type": "markdown",
   "metadata": {},
   "source": [
    "### Creating a new feature named 'content1'. Where 'headline' and 'content' feature's data is kept after concating"
   ]
  },
  {
   "cell_type": "code",
   "execution_count": 45,
   "metadata": {},
   "outputs": [],
   "source": [
    "merge_data['content1'] = merge_data['headline']+' '+merge_data['content']"
   ]
  },
  {
   "cell_type": "code",
   "execution_count": 46,
   "metadata": {},
   "outputs": [
    {
     "name": "stdout",
     "output_type": "stream",
     "text": [
      "0       হট্টগোল করায় বাকৃবিতে দুইজন বরখাস্ত, ৬ জনকে শো...\n",
      "1       মালয়েশিয়ায় কর্মী পাঠানোর ব্যবস্থা নেয়ার সুপারি...\n",
      "2       প্রেমের প্রস্তাবে রাজি না হওয়ায় স্কুলছাত্রীকে ...\n",
      "3       মেডিয়েশনই মামলাজট নিরসনের পথ : বিচারপতি আহমেদ ...\n",
      "4       টকশোতে বক্তব্য দিতে গিয়ে জাপা নেতার মৃত্যু মাদ...\n",
      "                              ...                        \n",
      "1294    রাজশাহীতে স্বামীর হাঁচির আওয়াজে ঘুমের মধ্যেই স...\n",
      "1295    IAS ইন্টারভিউ এ মেয়েটিকে জিজ্ঞসা করা হল মেয়েদে...\n",
      "1296    শাওমি মোবাইল বিস্ফোরণে কলেজছাত্রের মৃত্যু! শাও...\n",
      "1297    ফেসবুকে যেভাবে নতুন মন্ত্রীদের অভিনন্দন বার্তা...\n",
      "1298    মাঝ আকাশে পর্ন দেখার অভিযোগে পাইলট আটক! বিমান ...\n",
      "Name: content1, Length: 49977, dtype: object\n"
     ]
    }
   ],
   "source": [
    "print(merge_data['content1'])"
   ]
  },
  {
   "cell_type": "markdown",
   "metadata": {},
   "source": [
    "### Defining the feature variable & the target variable"
   ]
  },
  {
   "cell_type": "code",
   "execution_count": 47,
   "metadata": {},
   "outputs": [],
   "source": [
    "X = merge_data.drop(columns='label', axis=1)\n",
    "Y = merge_data['label']"
   ]
  },
  {
   "cell_type": "code",
   "execution_count": 48,
   "metadata": {},
   "outputs": [
    {
     "name": "stdout",
     "output_type": "stream",
     "text": [
      "                                               headline  \\\n",
      "0      হট্টগোল করায় বাকৃবিতে দুইজন বরখাস্ত, ৬ জনকে শোকজ   \n",
      "1       মালয়েশিয়ায় কর্মী পাঠানোর ব্যবস্থা নেয়ার সুপারিশ   \n",
      "2     প্রেমের প্রস্তাবে রাজি না হওয়ায় স্কুলছাত্রীকে ...   \n",
      "3     মেডিয়েশনই মামলাজট নিরসনের পথ : বিচারপতি আহমেদ ...   \n",
      "4            টকশোতে বক্তব্য দিতে গিয়ে জাপা নেতার মৃত্যু   \n",
      "...                                                 ...   \n",
      "1294  রাজশাহীতে স্বামীর হাঁচির আওয়াজে ঘুমের মধ্যেই স...   \n",
      "1295  IAS ইন্টারভিউ এ মেয়েটিকে জিজ্ঞসা করা হল মেয়েদে...   \n",
      "1296         শাওমি মোবাইল বিস্ফোরণে কলেজছাত্রের মৃত্যু!   \n",
      "1297  ফেসবুকে যেভাবে নতুন মন্ত্রীদের অভিনন্দন বার্তা...   \n",
      "1298            মাঝ আকাশে পর্ন দেখার অভিযোগে পাইলট আটক!   \n",
      "\n",
      "                                                content  \\\n",
      "0     গত ১৭ সেপ্টেম্বর বাংলাদেশ কৃষি বিশ্ববিদ্যালয়ে ...   \n",
      "1     বাংলাদেশের বৃহৎ শ্রমবাজার মালয়েশিয়ায় আবার শ্রম...   \n",
      "2     নরসিংদীর মনোহরদীতে প্রেমের প্রস্তাবে রাজি না হ...   \n",
      "3     সুপ্রিম কোর্টের হাইকোর্ট বিভাগের বিচারপতি আহমে...   \n",
      "4     মাদারীপুর সদরের উপজেলার লেকেরপাড়ে একটি বেসরকার...   \n",
      "...                                                 ...   \n",
      "1294  রাজশাহীর সাহেব বাজার মোড়ে রাতে ঘুমের মধ্যে হাস...   \n",
      "1295  IAS পরীক্ষায় এমন এমন অবাক করে দেওয়া প্রশ্ন এসে...   \n",
      "1296  শাওমি মোবাইল ফোন বিস্ফোরণ হয়ে স্বপ্নীল মজুমদা...   \n",
      "1297  আপনাকে নতুন মন্ত্রিসভার সদস্যদের অভিনন্দন জানা...   \n",
      "1298  বিমান যখন আকাশে তখন আর কোনও দিকে খেয়াল না রেখ...   \n",
      "\n",
      "                                               content1  \n",
      "0     হট্টগোল করায় বাকৃবিতে দুইজন বরখাস্ত, ৬ জনকে শো...  \n",
      "1     মালয়েশিয়ায় কর্মী পাঠানোর ব্যবস্থা নেয়ার সুপারি...  \n",
      "2     প্রেমের প্রস্তাবে রাজি না হওয়ায় স্কুলছাত্রীকে ...  \n",
      "3     মেডিয়েশনই মামলাজট নিরসনের পথ : বিচারপতি আহমেদ ...  \n",
      "4     টকশোতে বক্তব্য দিতে গিয়ে জাপা নেতার মৃত্যু মাদ...  \n",
      "...                                                 ...  \n",
      "1294  রাজশাহীতে স্বামীর হাঁচির আওয়াজে ঘুমের মধ্যেই স...  \n",
      "1295  IAS ইন্টারভিউ এ মেয়েটিকে জিজ্ঞসা করা হল মেয়েদে...  \n",
      "1296  শাওমি মোবাইল বিস্ফোরণে কলেজছাত্রের মৃত্যু! শাও...  \n",
      "1297  ফেসবুকে যেভাবে নতুন মন্ত্রীদের অভিনন্দন বার্তা...  \n",
      "1298  মাঝ আকাশে পর্ন দেখার অভিযোগে পাইলট আটক! বিমান ...  \n",
      "\n",
      "[49977 rows x 3 columns]\n",
      "0       1\n",
      "1       1\n",
      "2       1\n",
      "3       1\n",
      "4       1\n",
      "       ..\n",
      "1294    0\n",
      "1295    0\n",
      "1296    0\n",
      "1297    0\n",
      "1298    0\n",
      "Name: label, Length: 49977, dtype: int64\n"
     ]
    }
   ],
   "source": [
    "print(X)\n",
    "print(Y)"
   ]
  },
  {
   "cell_type": "markdown",
   "metadata": {},
   "source": [
    "### Removing unnecessary punctuations and special characters"
   ]
  },
  {
   "cell_type": "code",
   "execution_count": 49,
   "metadata": {},
   "outputs": [],
   "source": [
    "import re\n",
    "def process_content1(content1):\n",
    "   content1=re.sub('[^\\u0980-\\u09FF]',' ',str(content1)) \n",
    "   return content1"
   ]
  },
  {
   "cell_type": "markdown",
   "metadata": {},
   "source": [
    "### Data cleaning"
   ]
  },
  {
   "cell_type": "code",
   "execution_count": 50,
   "metadata": {},
   "outputs": [
    {
     "name": "stdout",
     "output_type": "stream",
     "text": [
      "Original:\n",
      " 0    হট্টগোল করায় বাকৃবিতে দুইজন বরখাস্ত, ৬ জনকে শো...\n",
      "0    মুরগির হামলায় শেয়াল নিহত বাংলায় একটা প্রবাদ আছ...\n",
      "Name: content1, dtype: object \n",
      "Cleaned:\n",
      " 0    হট্টগোল করায় বাকৃবিতে দুইজন বরখাস্ত  ৬ জনকে শো...\n",
      "0    মুরগির হামলায় শেয়াল নিহত বাংলায় একটা প্রবাদ আছ...\n",
      "Name: cleaned, dtype: object \n",
      " Sentiment:--- 0    1\n",
      "0    0\n",
      "Name: label, dtype: int64 \n",
      "\n",
      "Original:\n",
      " 1    মালয়েশিয়ায় কর্মী পাঠানোর ব্যবস্থা নেয়ার সুপারি...\n",
      "1    বিটিভিতে যেবার আমি ইন্টারভিউ দিতে গেলাম BTV থে...\n",
      "Name: content1, dtype: object \n",
      "Cleaned:\n",
      " 1    মালয়েশিয়ায় কর্মী পাঠানোর ব্যবস্থা নেয়ার সুপারি...\n",
      "1    বিটিভিতে যেবার আমি ইন্টারভিউ দিতে গেলাম     থে...\n",
      "Name: cleaned, dtype: object \n",
      " Sentiment:--- 1    1\n",
      "1    0\n",
      "Name: label, dtype: int64 \n",
      "\n",
      "Original:\n",
      " 100    জিতে ব্যাটিংয়ে পাকিস্তান এশিয়া কাপ ক্রিকেটের ১...\n",
      "100    ভুলে নব-বধূর ছবিতে হা হা রিয়েক্ট দিলো স্বামী, ...\n",
      "Name: content1, dtype: object \n",
      "Cleaned:\n",
      " 100    জিতে ব্যাটিংয়ে পাকিস্তান এশিয়া কাপ ক্রিকেটের ১...\n",
      "100    ভুলে নব বধূর ছবিতে হা হা রিয়েক্ট দিলো স্বামী  ...\n",
      "Name: cleaned, dtype: object \n",
      " Sentiment:--- 100    1\n",
      "100    0\n",
      "Name: label, dtype: int64 \n",
      "\n",
      "Original:\n",
      " 102    ফুলবাড়ীতে মাছ ধরতে গিয়ে যুবকের মৃত্যু কুড়িগ্রা...\n",
      "102    ওয়াইফাই স্পিড বাড়ানোর ৫টি উপায় জেনে নিন – ctn...\n",
      "Name: content1, dtype: object \n",
      "Cleaned:\n",
      " 102    ফুলবাড়ীতে মাছ ধরতে গিয়ে যুবকের মৃত্যু কুড়িগ্রা...\n",
      "102    ওয়াইফাই স্পিড বাড়ানোর ৫টি উপায় জেনে নিন      ...\n",
      "Name: cleaned, dtype: object \n",
      " Sentiment:--- 102    1\n",
      "102    0\n",
      "Name: label, dtype: int64 \n",
      "\n",
      "Original:\n",
      " 128    উস্কানি রোধে নজরদারি থাকবে সামাজিক যোগাযোগ মাধ...\n",
      "128    'জ্বি জ্বি জ্বি জ্বি হুজুর' এখন হয়ে গেলো 'জ্বি...\n",
      "Name: content1, dtype: object \n",
      "Cleaned:\n",
      " 128    উস্কানি রোধে নজরদারি থাকবে সামাজিক যোগাযোগ মাধ...\n",
      "128     জ্বি জ্বি জ্বি জ্বি হুজুর  এখন হয়ে গেলো  জ্বি...\n",
      "Name: cleaned, dtype: object \n",
      " Sentiment:--- 128    1\n",
      "128    0\n",
      "Name: label, dtype: int64 \n",
      "\n",
      "Original:\n",
      " 1005    পান্ডিয়ার দুর্দান্ত ক্যাচ, সাজঘরে সরফরাজ চোটে ...\n",
      "1005    বিরাট কোহলির দুর্দিনে মা হচ্ছেন আনুশকা! চ্যাম্...\n",
      "Name: content1, dtype: object \n",
      "Cleaned:\n",
      " 1005    পান্ডিয়ার দুর্দান্ত ক্যাচ  সাজঘরে সরফরাজ চোটে ...\n",
      "1005    বিরাট কোহলির দুর্দিনে মা হচ্ছেন আনুশকা  চ্যাম্...\n",
      "Name: cleaned, dtype: object \n",
      " Sentiment:--- 1005    1\n",
      "1005    0\n",
      "Name: label, dtype: int64 \n",
      "\n",
      "Original:\n",
      " 'নিরাপত্তার স্বার্থেই করা হয়েছে ডিজিটাল নিরাপত্তা আইন' গণমাধ্যমের কন্ঠ রোধে নয়, ডিজিটাল নিরাপত্তা আইন দেশের সামগ্রিক নিরাপত্তার স্বার্থে করা হয়েছে বলে সংসদকে জানিয়েছেন প্রধানমন্ত্রী শেখ হাসিনা। এ আইন নিয়ে সাংবাদিকরা বেশি সংবেদনশীল হয়ে ওঠেছেন বলেও মন্তব্য করেন তিনি। দশম সংসদের ২২তম অধিবেশনের সমাপনী ভাষণে প্রধানমন্ত্রী আরও বলেন, সরকারি ও বিরোধী দলের গঠনমূলক কার্যক্রমে সংসদের প্রতি দেশবাসীর আস্থা ফিরেছে। সংক্ষিপ্ত এ অধিবেশনে ১০ কার্যদিবসে পাস হয়েছে ১৮টি বিল। ডিজিটাল নিরাপত্তা ও সড়ক পরিবহন বিল পাসের পর বিভিন্ন মহলের আলোচনা-সমালোচনার উত্তর দেন সংসদ নেতা ও প্রধানমন্ত্রী শেখ হাসিনা। সমাপনী বক্তব্য তিনি দশম জাতীয় সংসদের কার্যক্রম তুলে ধরেন। সদ্য পাস হওয়া ডিজাটাল বিলের যৌক্তিকতা প্রধানমন্ত্রী সংসদকে ব্যাখ্যা করেন। জানান, নতুন আইন করার ক্ষেত্রে কোনো গোষ্ঠী নয়, বরং দেশের স্বার্থকেই বড় করে দেখা হয়েছে। সাংবাদিকদের উদ্বিগ্ন হওয়ার কিছু নেই বলেও আশ্বস্ত করেন তিনি। তড়িঘড়ি করে নয়, দীর্ঘ দিন আলোচনার পরই সড়ক পরিবহন ও কাওমি মাদ্রাসার দাওরায়ে হাদিস সনদ স্নাকোত্তর সমমান করার বিল পাস করা হয়েছে বলেও জানান প্রধানমন্ত্রী। আগামীতে সরকার গঠনে সফল হলে পরবর্তী কর্মপরিকল্পনা তুলে ধরেন প্রধানমন্ত্রী। বলেন, দেশের সব গ্রামকে শহরে উন্নীত করার পাশাপাশি গ্রামীণ জনগোষ্ঠীর নাগরিক সেবা নিশ্চিত করাই হবে তার মূল লক্ষ্য। /এইচ.এ/ \n",
      "Cleaned:\n",
      "  নিরাপত্তার স্বার্থেই করা হয়েছে ডিজিটাল নিরাপত্তা আইন  গণমাধ্যমের কন্ঠ রোধে নয়  ডিজিটাল নিরাপত্তা আইন দেশের সামগ্রিক নিরাপত্তার স্বার্থে করা হয়েছে বলে সংসদকে জানিয়েছেন প্রধানমন্ত্রী শেখ হাসিনা  এ আইন নিয়ে সাংবাদিকরা বেশি সংবেদনশীল হয়ে ওঠেছেন বলেও মন্তব্য করেন তিনি  দশম সংসদের ২২তম অধিবেশনের সমাপনী ভাষণে প্রধানমন্ত্রী আরও বলেন  সরকারি ও বিরোধী দলের গঠনমূলক কার্যক্রমে সংসদের প্রতি দেশবাসীর আস্থা ফিরেছে  সংক্ষিপ্ত এ অধিবেশনে ১০ কার্যদিবসে পাস হয়েছে ১৮টি বিল  ডিজিটাল নিরাপত্তা ও সড়ক পরিবহন বিল পাসের পর বিভিন্ন মহলের আলোচনা সমালোচনার উত্তর দেন সংসদ নেতা ও প্রধানমন্ত্রী শেখ হাসিনা  সমাপনী বক্তব্য তিনি দশম জাতীয় সংসদের কার্যক্রম তুলে ধরেন  সদ্য পাস হওয়া ডিজাটাল বিলের যৌক্তিকতা প্রধানমন্ত্রী সংসদকে ব্যাখ্যা করেন  জানান  নতুন আইন করার ক্ষেত্রে কোনো গোষ্ঠী নয়  বরং দেশের স্বার্থকেই বড় করে দেখা হয়েছে  সাংবাদিকদের উদ্বিগ্ন হওয়ার কিছু নেই বলেও আশ্বস্ত করেন তিনি  তড়িঘড়ি করে নয়  দীর্ঘ দিন আলোচনার পরই সড়ক পরিবহন ও কাওমি মাদ্রাসার দাওরায়ে হাদিস সনদ স্নাকোত্তর সমমান করার বিল পাস করা হয়েছে বলেও জানান প্রধানমন্ত্রী  আগামীতে সরকার গঠনে সফল হলে পরবর্তী কর্মপরিকল্পনা তুলে ধরেন প্রধানমন্ত্রী  বলেন  দেশের সব গ্রামকে শহরে উন্নীত করার পাশাপাশি গ্রামীণ জনগোষ্ঠীর নাগরিক সেবা নিশ্চিত করাই হবে তার মূল লক্ষ্য   এইচ এ  \n",
      " Sentiment:--- 1 \n",
      "\n",
      "Original:\n",
      " ভারতের বাজারে আসছে গো-মূত্রের শ্যাম্পু ও গোবরের সাবান ভারতে গোমূত্র থেকে তৈরি জৈব সার যেমন চাষের জন্য প্রয়োজনীয়, তেমনই গোমূত্রের মধ্যে যেসব উপকারী রাসায়নিক রয়েছে, যা ঔষধি হিসাবেও ব্যবহার করা হচ্ছে। এছাড়াও হিন্দুদের পূজা অর্চনার জন্যও গোমূত্র ব্যবহার করা হয়ে থাকে। এমনকি সামাজিক যোগাযোগের মাধ্যমে অনেক সময় দেখা যায়, অনলাইনে বিক্রি হচ্ছে গো-মূত্র বা গোবর। এ নিয়ে কৌতুকও কম হয়নি সোশ্যাল মিডিয়ায়। কিন্তু তার পরেও দেখা গেছে অনলাইনে দেদারসে বিক্রি হচ্ছে গোবর, গো-মূত্র! অনলাইনে প্রাকৃতিক উপায়ে ওষুধ বিক্রির পাশাপাশি গোবর, গো-মূত্র বিক্রি শুরু করেছিল বাবা রামদেবের সংস্থা পতঞ্জলী। রামদেবের দেখানো সেই পথেই এবার হাঁটা শুরু করল রাষ্ট্রীয় স্বয়ংসেবক প্রভাবিত সংস্থা। এবার অনলাইনে এই গো-মূত্রের তৈরি সাবান, শ্যাম্পুসহ প্রাকৃতিক উপায়ে তৈরি নানা প্রসাধনী জিনিস বিক্রি করতে নামছে সংস্থাটি। মথুরায় দীনদয়াল ধাম নামে আরএসএস-এর যে কেন্দ্রটি রয়েছে সেখানেই তৈরি হচ্ছে প্রসাধনী থেকে শুরু করে পোশাক এমনকি ওষুধও। ধামের প্রধান রাজেন্দ্র জানান, চাহিদার কথা মাথায় রেখেই এই জিনিসগুলো তৈরি করা হচ্ছে। তবে তার আশা, গোমূত্রের তৈরি জিনিসের চাহিদাই সবচেয়ে বেশি হবে। যে জিনিসগুলো বিক্রি করা হবে তার দামও খুব একটা বেশি নয় বলে জানিয়েছেন তিনি। ১০ টাকা থেকে দুইশ ৩০ টাকা দামের জিনিস পাওয়া যাবে। আর বিক্রির মাধ্যম হিসেবে বেছে নেওয়া হয়েছে অনলাইন বিপণন সংস্থা অ্যামাজন-কে। প্রাথমিকভাবে ৩০ রকমের থেরাপিউটিক দ্রব্য বিক্রি করা হবে। সঙ্গে থাকবে ১০ রকমের পোশাকও। তবে এ সবের মধ্যেও নজরকাড়ার মতো বিষয় হলো নরেন্দ্র মোদি ও যোগির জামা। ৫৬ ইঞ্চি ছাতির পোশাক নিয়ে লোকজনের মধ্যে কৌতুহল কম নয়। সেই জনপ্রিয়তা যে কাজে আসবে সেটা আশা করছেন সংস্থার কর্মীরা। মোদি বা যোগি জামার দাম এক একটি ২২০ টাকা। তবে যোগির জামা নতুন সংযোজন। আরএসএস মুখপাত্র অরুণ কুমার জানান, স্থানীয়দের জন্য কাজের আরও সুযোগ করে দিতে এবং তাদের স্বনির্ভর করে তুলতে এই সিদ্ধান্ত। যদি অনলাইনে এই বিক্রি শুরু হয়, তাহলে চাহিদা বাড়বে।  সেই সঙ্গে কাজেরও সুযোগ বাড়বে। বিডি-প্রতিদিন/ ই-জাহান \n",
      "Cleaned:\n",
      " ভারতের বাজারে আসছে গো মূত্রের শ্যাম্পু ও গোবরের সাবান ভারতে গোমূত্র থেকে তৈরি জৈব সার যেমন চাষের জন্য প্রয়োজনীয়  তেমনই গোমূত্রের মধ্যে যেসব উপকারী রাসায়নিক রয়েছে  যা ঔষধি হিসাবেও ব্যবহার করা হচ্ছে  এছাড়াও হিন্দুদের পূজা অর্চনার জন্যও গোমূত্র ব্যবহার করা হয়ে থাকে  এমনকি সামাজিক যোগাযোগের মাধ্যমে অনেক সময় দেখা যায়  অনলাইনে বিক্রি হচ্ছে গো মূত্র বা গোবর  এ নিয়ে কৌতুকও কম হয়নি সোশ্যাল মিডিয়ায়  কিন্তু তার পরেও দেখা গেছে অনলাইনে দেদারসে বিক্রি হচ্ছে গোবর  গো মূত্র  অনলাইনে প্রাকৃতিক উপায়ে ওষুধ বিক্রির পাশাপাশি গোবর  গো মূত্র বিক্রি শুরু করেছিল বাবা রামদেবের সংস্থা পতঞ্জলী  রামদেবের দেখানো সেই পথেই এবার হাঁটা শুরু করল রাষ্ট্রীয় স্বয়ংসেবক প্রভাবিত সংস্থা  এবার অনলাইনে এই গো মূত্রের তৈরি সাবান  শ্যাম্পুসহ প্রাকৃতিক উপায়ে তৈরি নানা প্রসাধনী জিনিস বিক্রি করতে নামছে সংস্থাটি  মথুরায় দীনদয়াল ধাম নামে আরএসএস এর যে কেন্দ্রটি রয়েছে সেখানেই তৈরি হচ্ছে প্রসাধনী থেকে শুরু করে পোশাক এমনকি ওষুধও  ধামের প্রধান রাজেন্দ্র জানান  চাহিদার কথা মাথায় রেখেই এই জিনিসগুলো তৈরি করা হচ্ছে  তবে তার আশা  গোমূত্রের তৈরি জিনিসের চাহিদাই সবচেয়ে বেশি হবে  যে জিনিসগুলো বিক্রি করা হবে তার দামও খুব একটা বেশি নয় বলে জানিয়েছেন তিনি  ১০ টাকা থেকে দুইশ ৩০ টাকা দামের জিনিস পাওয়া যাবে  আর বিক্রির মাধ্যম হিসেবে বেছে নেওয়া হয়েছে অনলাইন বিপণন সংস্থা অ্যামাজন কে  প্রাথমিকভাবে ৩০ রকমের থেরাপিউটিক দ্রব্য বিক্রি করা হবে  সঙ্গে থাকবে ১০ রকমের পোশাকও  তবে এ সবের মধ্যেও নজরকাড়ার মতো বিষয় হলো নরেন্দ্র মোদি ও যোগির জামা  ৫৬ ইঞ্চি ছাতির পোশাক নিয়ে লোকজনের মধ্যে কৌতুহল কম নয়  সেই জনপ্রিয়তা যে কাজে আসবে সেটা আশা করছেন সংস্থার কর্মীরা  মোদি বা যোগি জামার দাম এক একটি ২২০ টাকা  তবে যোগির জামা নতুন সংযোজন  আরএসএস মুখপাত্র অরুণ কুমার জানান  স্থানীয়দের জন্য কাজের আরও সুযোগ করে দিতে এবং তাদের স্বনির্ভর করে তুলতে এই সিদ্ধান্ত  যদি অনলাইনে এই বিক্রি শুরু হয়  তাহলে চাহিদা বাড়বে   সেই সঙ্গে কাজেরও সুযোগ বাড়বে  বিডি প্রতিদিন  ই জাহান \n",
      " Sentiment:--- 1 \n",
      "\n",
      "Original:\n",
      " মুক্তিযুদ্ধের চেতনায় প্রগতিশীল রাজনীতি চর্চা করতে হবে ঢাকা: ‘বাংলাদেশ উন্নয়নের মহাসড়কে অবস্থান করছে। আর এটা অব্যাহত রাখতে মুক্তিযুদ্ধের চেতনায় ও প্রগতিশীল ভাবধারার রাজনীতির চর্চা করতে হবে। আর সে রাজনীতি যদি উন্নয়নের পক্ষে, গণতন্ত্রের পক্ষে না হয়, তাহলে বাংলাদেশের অবস্থাও পাকিস্তানের মতো হবে, পিছিয়ে যাবে।’ এমনটাই মনে করেন সামাজিক উন্নয়ন ও গবেষণামূলক সংস্থা সুচিন্তা ফাউন্ডেশনের চেয়ারপারসন মোহাম্মদ এ আরাফাত। সম্প্রতি রাজধানীর বনানীতে নিজ কার্যালয়ে বাংলানিউজের সঙ্গে আলাপকালে বাংলাদেশের রাজনীতি, উন্নয়ন ও জঙ্গিবাদ বিরোধী কর্মকাণ্ড নিয়ে তিনি কথা বলেন। শিক্ষক ও গবেষক মোহাম্মদ এ আরাফাত সুচিন্তা ফাউন্ডেশনের চেয়ারপারসন ছাড়াও দায়িত্ব পালন করছেন সুচিন্তা বাংলাদেশের আহ্বায়ক হিসেবে। পররাষ্ট্রনীতি, আন্তর্জাতিক রাজনীতি, সহযোগিতা, পানি বণ্টন, যুদ্ধাপরাধ, সংবিধান বিষয়ে তার নানা গবেষণা রয়েছে। মোহাম্মদ এ আরাফাত বলেন, পাকিস্তানিরাই বলছে, আমরা তাদের থেকে ১০ বছর এগিয়ে আছি। মজার ব্যাপার হচ্ছে, তারা আমাদের আগে স্বাধীনতা অর্জন করেছে। তারা স্বাধীন হয়েছে ৪৭ সালে (১৯৪৭) আর আমরা একাত্তরে (১৯৭১)। আগে স্বাধীন হওয়া একটি দেশ বাংলাদেশ থেকে ১০ বছর পিছিয়ে গেলো কেন? কারণ হচ্ছে- পাকিস্তানে যে রাজনীতি চর্চা হয়েছে, সেটা আইএসআই কেন্দ্রিক, ধর্মীয় মৌলবাদীকে উসকে দিয়ে এবং ধর্মের অব্যবহার করে। ‘সেই রাজনীতি গণতান্ত্রিক ও উদারনৈতিক এবং প্রগতিশীল রাজনীতি না। মূলত এজন্যই ৪৭ সালে জন্ম হওয়ার পর এখনও বিশ্বের অন্যান্য দেশের তুলনায় এতটা পাকিস্তান পিছিয়ে আছে। আর যতটুকু সময় বাংলাদেশে প্রগতিশীল রাজনীতি ও মুক্তিযুদ্ধের চেতনায় দেশ পরিচালিত হয়েছে সেই সময়েই আমরা এগিয়ে গেছি।’ বাংলাদেশেও এ ভাবধারার সরকার দেশ পরিচালনা করেছে উল্লেখ করে এই গবেষক বলেন, বাংলাদেশের দুর্ভাগ্য হচ্ছে- স্বাধীন হওয়ার পর এদেশেও পাকিস্তানি ভাবধারার রাজনীতি দেশকে অধিক সময় পরিচালিত করেছে। তখন ক্ষমতায় থেকে সামরিক শাসকরা মৌলবাদী ও প্রতিক্রিয়াশীল রাজনীতি চর্চা করেছে। আর স্বাধীনতার পর মাত্র ১৮ বছর দেশ পরিচালনা করেছে মুক্তিযুদ্ধের চেতনায় নেতৃত্বদানকারী দল আওয়ামী লীগ। এই সময়ের মধ্যেই পাকিস্তানকে ১০ বছর পেছনে ফেলে দিয়েছি আমরা। ‘আমরা তো তাদের (পাকিস্তান) ১০০ বছর এগিয়ে থাকতাম, পুরোটা সময় যদি প্রগতিশীল চিন্তা-চেতনায় দেশ পরিচালনা হতো। এর মধ্যে  গ্যাপ সময়ে বাংলাদেশেও চলেছে পাকিস্তানি ভাবধারার রাজনীতি। ফলে দেশ পিছিয়ে গেছে। এখন এটা খুবই স্পষ্ট, কোন রাজনীতি দেশকে এগিয়ে নিয়ে গেছে, আর কোন রাজনীতি দেশকে পিছিয়ে নিয়ে গেছে।’ সুচিন্তার চেয়ারপারসন বলেন, ‘ভবিষ্যতেও এটা যদি মুক্তিুদ্ধের চেতনায় না হয়, প্রগতিশীল ভাবধারার না হয়, উন্নয়নের পক্ষে, গণতন্ত্রের পক্ষে না হয় তাহলে বাংলাদেশও পাকিস্তানের মতো অবস্থা হবে, পিছিয়ে যাবে। সেক্ষেত্রে সমৃদ্ধ ও ‍উন্নয়নের জন্য মুক্তিযুদ্ধের চেতনার সরকারের বিকল্প নেই।’ বাংলাদেশে জঙ্গি তৎপরতা ও সরকারের নেওয়া নানা পদক্ষেপের কথা উল্লেখ করে মোহাম্মদ এ আরাফাত বলেন, বাংলাদেশের রাজনীতিতে  মৌলবাদী রাজনীতির চর্চা যখন শুরু হয় অর্থাৎ পঁচাত্তর পরবর্তী সময়ে সামরিক শাসকের হাত ধরে আমরা প্রতিক্রিয়াশীল রাজনীতির দিকে গেলাম, তারই ফলশ্রুতিতেই আমি বলবো পরবর্তীতে বৈশ্বিক বাস্তবতায় বাংলাদেশেও  জঙ্গিবাদ জায়গা করে নেয়। ‘২০০১ থেকে ২০০৬ সালে বিএনপি-জামায়াতের আমলে জঙ্গিবাদের উত্থান ঘটে। পরবর্তীতে ২০০৮ সালের শেষে মহাজোটের বিজয়ের পরে শেখ হাসিনার নেতৃত্বে সরকার গঠনের পর ২০০৯ সালে খুবই শক্তভাবে জঙ্গিবাদ মোকাবেলায় সরকারি পদক্ষেপগুলো নেওয়া হয়। জঙ্গিবাদের বিপক্ষে একেবারে জিরো টলারেন্স নীতি নেওয়া হলো। পরে মোটামুটি জঙ্গিবাদের যে স্ট্রাকচারগুলো বাংলাদেশে ছিলো তৃণমূলের বিভিন্ন জায়গায়, এগুলোকে ভেঙে দেওয়া হয়েছে। আবার  অনেকে বাংলাদেশ ছেড়ে পালিয়েছে। পরবর্তীতে বৈশ্বিক বাস্তবায়তায় এখানে (বাংলাদেশ) যারা অনুপ্রবেশের চেষ্টা করেছে তাদের একটি বড় প্রকাশ আমরা দেখলাম হলি আর্টিজানে। তখনও সরকার বেশ শক্তভাবে এটি মোকাবেলা করেছে।’ তিনি বলেন, এখন আমরা অনেকটা কন্ট্রোলড অবস্থায় রয়েছি বলা যায়। কিন্তু আমি মনে করি, জঙ্গি কর্মকাণ্ডের বিপক্ষে যেমন শক্ত অবস্থান নিতে হবে, তেমনই আইন-শৃঙ্খলা বাহিনীগুলোকেও কার্যক্রম অব্যাহত রাখতে হবে। একই সঙ্গে দীর্ঘ মেয়াদে জঙ্গিবাদকে মোকাবেলার জন্য আমাদের বিভিন্ন ধরনের প্রোগ্রাম হাতে নিতে হবে। তারই অংশ হিসেবে দেশজুড়ে সুচিন্তা বাংলাদেশ জঙ্গিবাদ বিরোধী কাজগুলো করে যাচ্ছে। চট্টগ্রাম চ্যাপ্টারে নানা জঙ্গি বিরোধী কর্মকাণ্ডের কথা উল্লেখ করে সংস্থাটির আহ্বায়ক মোহাম্মদ এ আরাফাত বলেন, ওই অঞ্চলের (চট্টগ্রাম বিভাগ) বিভিন্ন মাদ্রাসায় আমরা যাচ্ছি। সেখানে কয়েকটি কমিউনিটি তৈরি করা হচ্ছে। এর উদ্দেশ্য হচ্ছে- যারা মাদ্রাসায় পড়ছেন তাদের অনেকেই মূল ধারার শিক্ষার সঙ্গে সেভাবে পরিচিত নয়, সেজন্য-ই তাদের মূল ধারার শিক্ষা কার্যক্রমে নিয়ে আসার চেষ্টা করা হচ্ছে। মূল ধারার সঙ্গে নিয়ে এলে তাদের মধ্যে কোনো হতাশা থাকবে না। তারাও অন্যদের মতো সব ধরনের কাজে যুক্ত হতে পারবে। ‘কারণ এসব শিক্ষার্থীদের বিভিন্ন হতাশাকে পুঁজি করে একটা গোষ্ঠী তাদের জঙ্গিবাদে উদ্ধুব্ধ করে। তাদের মধ্যে যাতে এ ধরনের চিন্তা বাসা বাঁধতে না পারে সেজন্য সুচিন্তা কাজ করছে। মূল জিনিসটা হচ্ছে- মাদ্রাসাভিত্তিক জনগোষ্ঠী ও অন্যান্য জনগোষ্ঠীর মাঝে যে দেয়ালটি রয়েছে সেটি ভেঙে ফেলা। ধর্ম ব্যবহার করে যাতে কোনো ধরনের অপকর্ম সৃষ্টি করতে কেউ না পারে সেজন্য আমাদের এ দীর্ঘ মেয়াদী লড়াই চলবে।’ ঢাকাতেও বিভিন্ন বেসরকারি বিশ্ববিদ্যালয় থেকে শুরু করে ইংলিশ মিডিয়াম স্কুলসহ কলেজেও কাজ অব্যাহত রয়েছে বলে জানান সুচিন্তা ফাউন্ডেশনের চেয়ারপারসন। বাংলাদেশ সময়: ১৪০৯ ঘণ্টা, সেপ্টেম্বর ২০, ২০১৮ টিসি/ \n",
      "Cleaned:\n",
      " মুক্তিযুদ্ধের চেতনায় প্রগতিশীল রাজনীতি চর্চা করতে হবে ঢাকা   বাংলাদেশ উন্নয়নের মহাসড়কে অবস্থান করছে  আর এটা অব্যাহত রাখতে মুক্তিযুদ্ধের চেতনায় ও প্রগতিশীল ভাবধারার রাজনীতির চর্চা করতে হবে  আর সে রাজনীতি যদি উন্নয়নের পক্ষে  গণতন্ত্রের পক্ষে না হয়  তাহলে বাংলাদেশের অবস্থাও পাকিস্তানের মতো হবে  পিছিয়ে যাবে   এমনটাই মনে করেন সামাজিক উন্নয়ন ও গবেষণামূলক সংস্থা সুচিন্তা ফাউন্ডেশনের চেয়ারপারসন মোহাম্মদ এ আরাফাত  সম্প্রতি রাজধানীর বনানীতে নিজ কার্যালয়ে বাংলানিউজের সঙ্গে আলাপকালে বাংলাদেশের রাজনীতি  উন্নয়ন ও জঙ্গিবাদ বিরোধী কর্মকাণ্ড নিয়ে তিনি কথা বলেন  শিক্ষক ও গবেষক মোহাম্মদ এ আরাফাত সুচিন্তা ফাউন্ডেশনের চেয়ারপারসন ছাড়াও দায়িত্ব পালন করছেন সুচিন্তা বাংলাদেশের আহ্বায়ক হিসেবে  পররাষ্ট্রনীতি  আন্তর্জাতিক রাজনীতি  সহযোগিতা  পানি বণ্টন  যুদ্ধাপরাধ  সংবিধান বিষয়ে তার নানা গবেষণা রয়েছে  মোহাম্মদ এ আরাফাত বলেন  পাকিস্তানিরাই বলছে  আমরা তাদের থেকে ১০ বছর এগিয়ে আছি  মজার ব্যাপার হচ্ছে  তারা আমাদের আগে স্বাধীনতা অর্জন করেছে  তারা স্বাধীন হয়েছে ৪৭ সালে  ১৯৪৭  আর আমরা একাত্তরে  ১৯৭১   আগে স্বাধীন হওয়া একটি দেশ বাংলাদেশ থেকে ১০ বছর পিছিয়ে গেলো কেন  কারণ হচ্ছে  পাকিস্তানে যে রাজনীতি চর্চা হয়েছে  সেটা আইএসআই কেন্দ্রিক  ধর্মীয় মৌলবাদীকে উসকে দিয়ে এবং ধর্মের অব্যবহার করে   সেই রাজনীতি গণতান্ত্রিক ও উদারনৈতিক এবং প্রগতিশীল রাজনীতি না  মূলত এজন্যই ৪৭ সালে জন্ম হওয়ার পর এখনও বিশ্বের অন্যান্য দেশের তুলনায় এতটা পাকিস্তান পিছিয়ে আছে  আর যতটুকু সময় বাংলাদেশে প্রগতিশীল রাজনীতি ও মুক্তিযুদ্ধের চেতনায় দেশ পরিচালিত হয়েছে সেই সময়েই আমরা এগিয়ে গেছি   বাংলাদেশেও এ ভাবধারার সরকার দেশ পরিচালনা করেছে উল্লেখ করে এই গবেষক বলেন  বাংলাদেশের দুর্ভাগ্য হচ্ছে  স্বাধীন হওয়ার পর এদেশেও পাকিস্তানি ভাবধারার রাজনীতি দেশকে অধিক সময় পরিচালিত করেছে  তখন ক্ষমতায় থেকে সামরিক শাসকরা মৌলবাদী ও প্রতিক্রিয়াশীল রাজনীতি চর্চা করেছে  আর স্বাধীনতার পর মাত্র ১৮ বছর দেশ পরিচালনা করেছে মুক্তিযুদ্ধের চেতনায় নেতৃত্বদানকারী দল আওয়ামী লীগ  এই সময়ের মধ্যেই পাকিস্তানকে ১০ বছর পেছনে ফেলে দিয়েছি আমরা   আমরা তো তাদের  পাকিস্তান  ১০০ বছর এগিয়ে থাকতাম  পুরোটা সময় যদি প্রগতিশীল চিন্তা চেতনায় দেশ পরিচালনা হতো  এর মধ্যে  গ্যাপ সময়ে বাংলাদেশেও চলেছে পাকিস্তানি ভাবধারার রাজনীতি  ফলে দেশ পিছিয়ে গেছে  এখন এটা খুবই স্পষ্ট  কোন রাজনীতি দেশকে এগিয়ে নিয়ে গেছে  আর কোন রাজনীতি দেশকে পিছিয়ে নিয়ে গেছে   সুচিন্তার চেয়ারপারসন বলেন   ভবিষ্যতেও এটা যদি মুক্তিুদ্ধের চেতনায় না হয়  প্রগতিশীল ভাবধারার না হয়  উন্নয়নের পক্ষে  গণতন্ত্রের পক্ষে না হয় তাহলে বাংলাদেশও পাকিস্তানের মতো অবস্থা হবে  পিছিয়ে যাবে  সেক্ষেত্রে সমৃদ্ধ ও  উন্নয়নের জন্য মুক্তিযুদ্ধের চেতনার সরকারের বিকল্প নেই   বাংলাদেশে জঙ্গি তৎপরতা ও সরকারের নেওয়া নানা পদক্ষেপের কথা উল্লেখ করে মোহাম্মদ এ আরাফাত বলেন  বাংলাদেশের রাজনীতিতে  মৌলবাদী রাজনীতির চর্চা যখন শুরু হয় অর্থাৎ পঁচাত্তর পরবর্তী সময়ে সামরিক শাসকের হাত ধরে আমরা প্রতিক্রিয়াশীল রাজনীতির দিকে গেলাম  তারই ফলশ্রুতিতেই আমি বলবো পরবর্তীতে বৈশ্বিক বাস্তবতায় বাংলাদেশেও  জঙ্গিবাদ জায়গা করে নেয়   ২০০১ থেকে ২০০৬ সালে বিএনপি জামায়াতের আমলে জঙ্গিবাদের উত্থান ঘটে  পরবর্তীতে ২০০৮ সালের শেষে মহাজোটের বিজয়ের পরে শেখ হাসিনার নেতৃত্বে সরকার গঠনের পর ২০০৯ সালে খুবই শক্তভাবে জঙ্গিবাদ মোকাবেলায় সরকারি পদক্ষেপগুলো নেওয়া হয়  জঙ্গিবাদের বিপক্ষে একেবারে জিরো টলারেন্স নীতি নেওয়া হলো  পরে মোটামুটি জঙ্গিবাদের যে স্ট্রাকচারগুলো বাংলাদেশে ছিলো তৃণমূলের বিভিন্ন জায়গায়  এগুলোকে ভেঙে দেওয়া হয়েছে  আবার  অনেকে বাংলাদেশ ছেড়ে পালিয়েছে  পরবর্তীতে বৈশ্বিক বাস্তবায়তায় এখানে  বাংলাদেশ  যারা অনুপ্রবেশের চেষ্টা করেছে তাদের একটি বড় প্রকাশ আমরা দেখলাম হলি আর্টিজানে  তখনও সরকার বেশ শক্তভাবে এটি মোকাবেলা করেছে   তিনি বলেন  এখন আমরা অনেকটা কন্ট্রোলড অবস্থায় রয়েছি বলা যায়  কিন্তু আমি মনে করি  জঙ্গি কর্মকাণ্ডের বিপক্ষে যেমন শক্ত অবস্থান নিতে হবে  তেমনই আইন শৃঙ্খলা বাহিনীগুলোকেও কার্যক্রম অব্যাহত রাখতে হবে  একই সঙ্গে দীর্ঘ মেয়াদে জঙ্গিবাদকে মোকাবেলার জন্য আমাদের বিভিন্ন ধরনের প্রোগ্রাম হাতে নিতে হবে  তারই অংশ হিসেবে দেশজুড়ে সুচিন্তা বাংলাদেশ জঙ্গিবাদ বিরোধী কাজগুলো করে যাচ্ছে  চট্টগ্রাম চ্যাপ্টারে নানা জঙ্গি বিরোধী কর্মকাণ্ডের কথা উল্লেখ করে সংস্থাটির আহ্বায়ক মোহাম্মদ এ আরাফাত বলেন  ওই অঞ্চলের  চট্টগ্রাম বিভাগ  বিভিন্ন মাদ্রাসায় আমরা যাচ্ছি  সেখানে কয়েকটি কমিউনিটি তৈরি করা হচ্ছে  এর উদ্দেশ্য হচ্ছে  যারা মাদ্রাসায় পড়ছেন তাদের অনেকেই মূল ধারার শিক্ষার সঙ্গে সেভাবে পরিচিত নয়  সেজন্য ই তাদের মূল ধারার শিক্ষা কার্যক্রমে নিয়ে আসার চেষ্টা করা হচ্ছে  মূল ধারার সঙ্গে নিয়ে এলে তাদের মধ্যে কোনো হতাশা থাকবে না  তারাও অন্যদের মতো সব ধরনের কাজে যুক্ত হতে পারবে   কারণ এসব শিক্ষার্থীদের বিভিন্ন হতাশাকে পুঁজি করে একটা গোষ্ঠী তাদের জঙ্গিবাদে উদ্ধুব্ধ করে  তাদের মধ্যে যাতে এ ধরনের চিন্তা বাসা বাঁধতে না পারে সেজন্য সুচিন্তা কাজ করছে  মূল জিনিসটা হচ্ছে  মাদ্রাসাভিত্তিক জনগোষ্ঠী ও অন্যান্য জনগোষ্ঠীর মাঝে যে দেয়ালটি রয়েছে সেটি ভেঙে ফেলা  ধর্ম ব্যবহার করে যাতে কোনো ধরনের অপকর্ম সৃষ্টি করতে কেউ না পারে সেজন্য আমাদের এ দীর্ঘ মেয়াদী লড়াই চলবে   ঢাকাতেও বিভিন্ন বেসরকারি বিশ্ববিদ্যালয় থেকে শুরু করে ইংলিশ মিডিয়াম স্কুলসহ কলেজেও কাজ অব্যাহত রয়েছে বলে জানান সুচিন্তা ফাউন্ডেশনের চেয়ারপারসন  বাংলাদেশ সময়  ১৪০৯ ঘণ্টা  সেপ্টেম্বর ২০  ২০১৮ টিসি  \n",
      " Sentiment:--- 1 \n",
      "\n",
      "Original:\n",
      " গোপালগঞ্জে দুই পক্ষের সংঘর্ষে আহত ২৫ গোপালগঞ্জে জমি নিয়ে বিরোধের জেরে শুক্রবার (২১ সেপ্টেম্বর) সকালে সদর উপজেলার বনগ্রাম পূর্বপাড়ায় দুই গোষ্ঠীর সদস্যদের মধ্যে সংঘর্ষের ঘটনা ঘটেছে। এতে উভয় পক্ষের অন্তত ২৫ জন আহত হয়েছেন। আহতদের মধ্যে ১৩ জনকে গোপালগঞ্জ ২৫০ শয্যা বিশিষ্ট জেনারেল হাসপাতালে ভর্তি করা হয়েছে। গোপালগঞ্জ সদর থানার বৌলতলী তদন্ত কেন্দ্রের এসআই মো. সালাউদ্দিন ঘটনার সত্যতা নিশ্চিত করেছেন। পুলিশ ও স্থানীয় সূত্র জানায়, দীর্ঘদিন ধরে বনগ্রাম পূর্বপাড়ায় চৌধুরীদের জায়গার ওপর দিয়ে গ্রামের শেখ গোষ্ঠীর সদস্যরা একটি রাস্তা নেওয়ার চেষ্টা করছিলো। শুক্রবার সকালে এ নিয়ে উভয় বংশের লোকজন দেশীয় অস্ত্র-শস্ত্র নিয়ে সংঘর্ষে জড়িয়ে পড়েন। এসআই মো. সালাউদ্দিন জানান, পরিস্থিতি এখন তাদের নিয়ন্ত্রণে রয়েছে। ঘটনাস্থলে অতিরিক্ত পুলিশ মোতায়েন করা হয়েছে।   \n",
      "Cleaned:\n",
      " গোপালগঞ্জে দুই পক্ষের সংঘর্ষে আহত ২৫ গোপালগঞ্জে জমি নিয়ে বিরোধের জেরে শুক্রবার  ২১ সেপ্টেম্বর  সকালে সদর উপজেলার বনগ্রাম পূর্বপাড়ায় দুই গোষ্ঠীর সদস্যদের মধ্যে সংঘর্ষের ঘটনা ঘটেছে  এতে উভয় পক্ষের অন্তত ২৫ জন আহত হয়েছেন  আহতদের মধ্যে ১৩ জনকে গোপালগঞ্জ ২৫০ শয্যা বিশিষ্ট জেনারেল হাসপাতালে ভর্তি করা হয়েছে  গোপালগঞ্জ সদর থানার বৌলতলী তদন্ত কেন্দ্রের এসআই মো  সালাউদ্দিন ঘটনার সত্যতা নিশ্চিত করেছেন  পুলিশ ও স্থানীয় সূত্র জানায়  দীর্ঘদিন ধরে বনগ্রাম পূর্বপাড়ায় চৌধুরীদের জায়গার ওপর দিয়ে গ্রামের শেখ গোষ্ঠীর সদস্যরা একটি রাস্তা নেওয়ার চেষ্টা করছিলো  শুক্রবার সকালে এ নিয়ে উভয় বংশের লোকজন দেশীয় অস্ত্র শস্ত্র নিয়ে সংঘর্ষে জড়িয়ে পড়েন  এসআই মো  সালাউদ্দিন জানান  পরিস্থিতি এখন তাদের নিয়ন্ত্রণে রয়েছে  ঘটনাস্থলে অতিরিক্ত পুলিশ মোতায়েন করা হয়েছে    \n",
      " Sentiment:--- 1 \n",
      "\n"
     ]
    }
   ],
   "source": [
    "merge_data['cleaned']=merge_data['content1'].apply(process_content1)\n",
    "\n",
    "sample_data=[0,1,100,102,128,1005,4002,2004,3005,5001]\n",
    "for i in sample_data:\n",
    "           print('Original:\\n',merge_data.content1[i],'\\nCleaned:\\n',\n",
    "                 merge_data.cleaned[i],'\\n','Sentiment:---',merge_data.label[i],'\\n')"
   ]
  },
  {
   "cell_type": "code",
   "execution_count": 51,
   "metadata": {},
   "outputs": [],
   "source": [
    "X = merge_data['content1'].values\n",
    "Y = merge_data['label'].values"
   ]
  },
  {
   "cell_type": "code",
   "execution_count": 52,
   "metadata": {},
   "outputs": [
    {
     "data": {
      "text/plain": [
       "array(['হট্টগোল করায় বাকৃবিতে দুইজন বরখাস্ত, ৬ জনকে শোকজ গত ১৭ সেপ্টেম্বর বাংলাদেশ কৃষি বিশ্ববিদ্যালয়ে (বাকৃবি) উপাচার্যের কার্যালয়ে হট্টগোলের ঘটনায় দুইজনকে সাময়িক বরখাস্ত ও ছয় জনকে শোকজ করেছে বিশ্ববিদ্যালয় প্রশাসন। বুধবার বিশ্ববিদ্যালয় বাকৃবি রেজিস্ট্রার সাইফুল ইসলাম স্বাক্ষরিত এক নোটিশে আগামী ৭ দিনের মধ্যে উপযুক্ত উত্তর দেয়ার নির্দেশ দেয়া হয়েছে। এদিকে এ ঘটনায় আন্দোলনের সঙ্গে একাত্বতা প্রকাশ না করায় হামলার শিকার হয়ে কারিগরি কর্মচারী পরিষদের সভাপতি ও সাধারণ সম্পাদক হাসপাতালে ভর্তি হয়েছেন। সাময়িক বরখাস্তরা হলেন- শিক্ষা বিষয়ক শাখার কর্মচারী ও ৩য় শ্রেণির সাধারণ সম্পাদক মো. মোশারফ হোসেন ও কর্মকর্তা পরিষদের যুগ্ম সম্পাদক জিয়াউর রহমান টিটু। এছাড়া বিশ্ববিদ্যালয় সম্প্রসারণ কেন্দ্রের সহকারী পরিচালক মোহাম্মদ আবুল বাসার আমজাদ, ডেপুটি লাইব্রেরিয়ান মো.খাইরুল আলম নান্নু, মো.আবদুল বাতেন, ক্রীড়া প্রশিক্ষণ বিভাগের মোহাম্মদ মোস্তাইন কবীর সোহেল, সংস্থাপন শাখার সহকারী রেজিস্ট্রার মোহাম্মদ আশিকুল আলম বাচ্চু ও খামার ব্যবস্থাপনা শাখার অ্যাডিশনাল রেজিস্ট্রার ড. মো. হেলাল উদ্দীনকে কারণ দর্শানোর নোটিশ দেয় প্রশাসন।  নোটিশে উল্লেখ করা হয়, গত সোমবার দুপুরে সোয়া ১২টার দিকে উপাচার্যের অনুমতি ছাড়াই হঠাৎ করে উপাচার্যের কার্যালয়ে প্রবেশ করে ছাত্র বিষয়ক উপদেষ্টা, প্রক্টর, ডিন কাউন্সিলের আহ্বায়ক, রেজিস্ট্রার ও সাংবাদিকদের সামনে উপাচার্য ও উপ-উপাচার্যকে লক্ষ্য করে আঙ্গুল উচিয়ে কটুক্তি করে এবং অশালীন শারীরিক অঙ্গভঙ্গি করে। এতে করে বিশ্ববিদ্যালয়ের উচ্চ পর্যায়ের প্রাশাসনিক কার্যক্রম ব্যাহত হয় এবং উপাচার্যের সঙ্গে দুর্ব্যবহার করে যা বিশ্ববিদ্যালয়েল চাকরি সংবিধির সুস্পষ্ট লঙ্ঘন ও গুরুতর অপরাধ। এদিকে প্রশাসনের কারণ দর্শানোর নোটিশ পাওয়ার পর অফিসার পরিষদের নেতারা মিছিল নিয়ে হিসাব সংরক্ষণ শাখা, প্রকৌশল শাখা, পরিকল্পনা ও উন্নয়ন শাখায় তালা ঝুঁলিয়ে দেয়। তবে প্রশাসন ভবনে পুলিশ মোতায়ন থাকায় তালা দিতে ব্যর্থ হয়। কর্মকর্তাদের সঙ্গে একাত্বতা প্রকাশ করে কর্মচারীরাও ক্যাম্পাসে মিছিল করে। এসময় তারা প্রশাসনের বিরুদ্ধে বিভিন্ন ধরনে শ্লোগান দিতে থাকে।  এদিকে কারিগরি কর্মচারী পরিষদের পক্ষ থেকে আন্দোলনে সঙ্গে একাত্বতা প্রকাশ না করায় হামলা করে ৩য় ও চতুর্থ শ্রেণির কর্মচারীরা। এবিষয়ে কারিগরি কর্মচারী পরিষদের সভাপতি মো. আবদুল মোতালেব বলেন, আমরা চার দফা দাবিতে ঐক্যবদ্ধ হয়েছিলাম। গত ১৭ সেপ্টেম্বর আমাদের রেখেই ৩য় শ্রেণির সাধারণ সম্পাদক মো. মোশারফ হোসেন কর্মকর্তাদের সঙ্গে ভিসি সচিবালয়ে ঢুকে ভিসির সঙ্গে বেয়াদবি করে। পরবর্তীতে তাকে বিশ্ববিদ্যালয় থেকে শোকজ করলে আমাকে ও আমার সংগঠনের সকলকে তাদের সঙ্গে আন্দোলনে যেতে বলে। যোগ না দিলে পরে ৩য় ও ৪র্থ শ্রেণি মিলে আমাদের সংগঠনে হামলা করে, চেয়ার ভাঙে। এ ঘটনায় আমি ও আমার সংগঠনের সাধারণ সম্পাদক সুলতান আহমেদ আহত হয়ে বর্তমানে ময়মনসিংহ হাসপাতালে ভর্তি আছি। মো. শাহীন সরদার/আরএ/আরআইপি',\n",
       "       'মালয়েশিয়ায় কর্মী পাঠানোর ব্যবস্থা নেয়ার সুপারিশ বাংলাদেশের বৃহৎ শ্রমবাজার মালয়েশিয়ায় আবার শ্রমিক পাঠানোর প্রয়োজনীয় সব ধরনের ব্যবস্থা নেয়ার সুপারিশ করেছে সংসদীয় কমিটি। ২৫ সেপ্টেম্বর প্রবাসী কল্যাণ ও বৈদেশিক কর্মসংস্থান মন্ত্রণালয়ের মন্ত্রীর নেতৃত্বে মালয়েশিয়ায় জয়েন্ট ওয়ার্কিং গ্রুপের একটি সভা হবে। সভায় শ্রমবাজারে কর্মী পাঠানোর পরিবর্তিত প্রক্রিয়া চূড়ান্তকরণ এবং মালয়েশিয়ার মানবসম্পদ মন্ত্রণালয়সহ অন্যান্য সংশ্লিষ্ট মন্ত্রণালয়ের সঙ্গে নিবিড় যোগাযোগ অব্যাহত রাখার সুপারিশ করবে কমিটি। বুধবার সংসদ ভবনে অনুষ্ঠিত প্রবাসী কল্যাণ ও বৈদেশিক কর্মসংস্থান মন্ত্রণালয় সম্পর্কিত স্থায়ী কমিটির ২৫তম বৈঠকে এ সুপারিশ করা হয়। কমিটির সভাপতি নূরুল মজিদ মাহমুদ হুমায়ুনের সভাপতিত্বে বৈঠকে উপস্থিত ছিলেন কমিটির সদস্য মো. শাহাব উদ্দিন, মো. ইসরাফিল আলম, মাহমুদ উস সামাদ চৌধুরী এবং মাহফুজুর রহমান। এছাড়া বিশেষ আমন্ত্রণে প্রবাসী কল্যাণ ও বৈদেশিক কর্মসংস্থান মন্ত্রণালয়ের মন্ত্রী নূরুল ইসলাম বিএসসি বৈঠকে যোগ দেন। বৈঠকে মালয়েশিয়ার শ্রমবাজারের সর্বশেষ পরিস্থিতি সম্পর্কে বিস্তারিত আলোচনা করা হয়। কমিটিকে জানানো হয়, অভিবাসন ব্যয় কমিয়ে আনা এবং আরও রিক্রুটিং এজেন্টকে অংশগ্রহণের সুযোগ সৃষ্টির লক্ষ্যে উভয় সরকারের মধ্যে অনুষ্ঠিতব্য জয়েন্ট ওয়ার্কিং গ্রুপ সভার মাধ্যমে কিছু পদ্ধতিগত পরিবর্তন আনা হবে। শিগগিরই জয়েন্ট ওয়ার্কিং গ্রুপের সভা আয়োজনের লক্ষ্যে মানবসম্পদ মন্ত্রণালয়সহ অন্যান্য সংশ্লিষ্ট মন্ত্রণালয়ে সঙ্গে নিবিড় যোগাযোগ অব্যাহত রয়েছে। কমিটি বিশ্বের বিভিন্ন দেশের শ্রমবাজারে কর্মী পাঠানোর সম্ভাব্যতা যাচাইয়ের জন্য গবেষণা করা এবং গবেষণা প্রতিবেদন পর্যালোচনা করে সে সব দেশে কর্মী পাঠানোর নতুন পরিকল্পনা করার সুপারিশ করে। বৈঠকে প্রবাসী কল্যাণ ও বৈদেশিক কর্মসংস্থান মন্ত্রণালয়ের ভারপ্রাপ্ত সচিব, ওয়েজ আর্নার্স কল্যাণ বোর্ড ও বিএমইটির মহাপরিচালক, বোয়েসেল ও প্রবাসী কল্যাণ ব্যাংকের ব্যবস্থাপনা পরিচালকসহ মন্ত্রণালয় এবং জাতীয় সংসদ সচিবালয়ের সংশ্লিষ্ট কর্মকর্তারা উপস্থিত ছিলেন। এইচএস/জেএইচ/জেআইএম',\n",
       "       'প্রেমের প্রস্তাবে রাজি না হওয়ায় স্কুলছাত্রীকে কুপিয়ে জখম নরসিংদীর মনোহরদীতে প্রেমের প্রস্তাবে রাজি না হওয়ায় তানজিমা (১৪) নামে এক স্কুলছাত্রীকে কুপিয়ে জখম করেছে মফিজুল ইসলাম (১৮) নামে এক যুবক। বুধবার সকালে উপজেলার সরাইকান্দী গ্রামে এ ঘটনা ঘটে। গুরুতর আহত অবস্থায় ওই স্কুলছাত্রীকে ঢাকা মেডিকেল কলেজ হাসপাতালে ভর্তি করা হয়েছে। আহত তানজিমা মনোহরদী উপজেলার নলুয়া গ্রামের তারা মিয়ার মেয়ে এবং অর্জুনচর উচ্চ বিদ্যালয়ের নবম শ্রেণির ছাত্রী। স্কুলছাত্রীর স্বজনদের অভিযোগ, দীর্ঘদিন ধরে তানজিমাকে প্রেমের প্রস্তাব দিয়ে আসছিল সরাইকান্দী গ্রামের আব্দুর রশিদ মিয়ার ছেলে মফিজুল ইসলাম। তবে তার প্রস্তাবে রাজি না হওয়ায় ক্রমাগত হুমকি দিচ্ছিল সে। এরই ধারাবাহিকতায় বুধবার সকালে স্কুলে যাওয়ার সময় সরাইকান্দী গ্রামের নীলু মাঝির কলাবাগান সংলগ্ন এলাকায় তানজিমাকে ধারালো অস্ত্র দিয়ে কুপিয়ে জখম করে মফিজুল। পরে গুরুতর আহত তানজিমাকে উদ্ধার করে প্রথমে মনোহরদী উপজেলা স্বাস্থ্য কমপ্লেক্সে ও পরে উন্নত চিকিৎসার জন্য ঢাকা মেডিকেল কলেজ হাসপাতালে নিয়ে যাওয়া হয়। মনোহরদী উপজেলা স্বাস্থ্য কমপ্লেক্সের জরুরি বিভাগের চিকিৎসক তাশারফ হোসাইন জানান, ধারালো অস্ত্র দিয়ে স্কুলছাত্রীকে এলোপাতাড়িভাবে আঘাত করায় তার ডান হাতের কব্জি প্রায় বিচ্ছিন্ন অবস্থায় আছে। মাথায় প্রচুর রক্তক্ষরণ হয়েছে। তাছাড়া শরীরের অন্যান্য স্থানেও মারাত্মক জখম রয়েছে। প্রাথমিক চিকিৎসা দিয়ে আশঙ্কাজনক অবস্থায় তাকে ঢাকা মেডিকেল কলেজ হাসপাতালে পাঠানো হয়েছে। মনোহরদী থানা পুলিশের ভারপ্রাপ্ত কর্মকর্তা (ওসি) মো. মনিরুজ্জামান বলেন, খবর পেয়ে ঘটনাস্থল পরিদর্শন করেছি। মফিজুলকে আইনের আওতায় আনতে পুলিশি অভিযান অব্যাহত রয়েছে। তাকে ধরিয়ে দিতে নরসিংদীর পুলিশ সুপার সাইফুল্লাহ আল মামুন ৫ হাজার টাকা পুরস্কার ঘোষণা করেছেন। সঞ্জিত সাহা/আরএআর/এমএস',\n",
       "       ...,\n",
       "       'শাওমি মোবাইল বিস্ফোরণে কলেজছাত্রের মৃত্যু! শাওমি মোবাইল ফোন বিস্ফোরণ হয়ে স্বপ্নীল মজুমদার (১৭) নামে এক কলেজছাত্রের মৃত্যু হয়েছে। রোববার বিকেলে ঢাকা মেডিকেলের বার্ন ইউনিটে চিকিৎসাধীন অবস্থায় তার মৃত্যু হয় বলে জানান নিহতের নানা আবদুর রাজ্জাক। নিহত মজুমদার স্বপ্নীল ঢাকা আইডিয়াল কলেজের প্রথম বর্ষের ছাত্র।নিহতের নানা আবদুর রাজ্জাক জানান,বাবা সুমন মজুমদারকে নিতে স্বপ্নীল ফেনী শহর তলীর চাড়ীপুর এলাকার আমিন মিয়ার বাড়িতে আসে। শনিবার বিকেলে নানার বাড়িতে শাওমি কোম্পানির একটি মোবাইল হ্যান্ডসেট চার্জ দিয়ে ঘুমাতে যায়। এসময় ঘরের লাইট বন্ধ করতে অন্য একটি সুইচ চাপ দিলে বিকট শব্দে মোবাইল ফোনটি বিস্ফোরিত হয়। এতে পুরো ঘরে আগুন ধরে স্বপ্নীল মজুমদারের শরীরের ৯০ ভাগ দগ্ধ হয়ে যায়।পরে স্বজনরা তাকে উদ্ধার করে প্রথমে আধুনিক ফেনী সদর হাসপাতালে নিয়ে গেলে কর্তব্যরত চিকিৎসক তাকে উন্নত চিকিৎসার জন্য ঢাকা মেডিকেল কলেজের বার্ন ইউনিটে পাঠায়। সেখানে চিকিৎসাধীন অবস্থায় তার মৃত্যু হয়।এ দিকে ফেনী ফায়ার স্টেশনের ইনচার্জ কবির আহম্মদ জানান, আগুন লাগার কোনো কারণ খুঁজে পাওয়া যায়নি। তবে তার ব্যবহৃত মোবাইল হ্যান্ড সেট শাওমি ক্ষত বিক্ষত ছিল। প্রাথমিকভাবে ধারণা করা হচ্ছে মোবাইল বিস্ফোরণেই স্বপ্নীল দগ্ধ হয়।!Source- Khobor 24',\n",
       "       'ফেসবুকে যেভাবে নতুন মন্ত্রীদের অভিনন্দন বার্তা জানাবেন আপনাকে নতুন মন্ত্রিসভার সদস্যদের অভিনন্দন জানাতে হবে; অন্যদিকে গত দশ বছর অবিরাম অভিনন্দন জানিয়ে শুভেচ্ছা অভিধানের সব শব্দমালার ফুল শুকিয়ে গেছে। একই শব্দ, একই বাক্য বারবার ব্যবহার করে নতুন মন্ত্রীর দৃষ্টি-আকর্ষণ করাও কঠিন হয়ে পড়েছে। অভিনন্দন জানানোর শিল্পটি হয়ে উঠেছে প্রতিদ্বন্দ্বিতামূলক। যারা ভালো অভিনন্দনপত্র লিখে দিত; তারা ব্যস্ত নিজেদের অভিনন্দন পত্র লিখতে। এ অবস্থায় হতাশ হয়ে বসে থাকার কারণ নেই। eআরকি নিয়ে এলো অভিনন্দন-বার্তার উচ্চনম্বরের সিঁড়ি।\\'অভিনন্দন-শিল্প\\' জগতের প্রাচীনতম শিল্প। পালযুগ, সেনযুগ, মুঘলযুগ, ইস্ট ইন্ডিয়া কোম্পানিযুগ, বৃটিশ আমল, পাকিস্তান আমল এমনকি স্বাধীন বাংলাদেশ কালের নানা ক্ষমতা পরিবর্তনের মাহেন্দ্রক্ষণগুলোতে রাজা-বাদশাহ-ভাইসরয়-গভর্ণর-সেনাপ্রধান-প্রেসিডেন্ট-প্রধানমন্ত্রী ও মন্ত্রী-অমাত্যবর্গকে অভিনন্দন জানানোর দৌড়ে যারা টিকে গেছে, জীবনে তারাই সফল হয়েছে। কাজেই অভিনন্দন-পর্বটিকে মোটেই খাটো করে দেখার উপায় নেই।প্রাচীনকালে এমনকি নতুন মন্ত্রিসভা ঘোষণার আগে পর্যন্ত যে অভিনন্দন-বার্তাগুলো লেখা হয়েছে; সেগুলো বহু ব্যবহারে জীর্ণ বিশেষণের পাল্লায় পড়ে আজ তৈল-বার্তা বলে নিন্দিত। এমন একটা অবস্থা তৈরি হয়েছে; অভিধানে অভিনন্দন-বার্তার সমার্থক শব্দ হিসেবে \\'তেল\\' শব্দটি জনমনে জায়গা করে নিয়েছে। তাই অভিনন্দন জানানোর ক্ষেত্রে পুরোনো বিশেষণগুলো বাজেয়াপ্ত হয়ে গেছে। আর সমস্যাটা সেখানেই। সময় কম, সবাই নেমে পড়েছে অভিনন্দন জানানোর দৌঁড়ে।অভিনন্দন বার্তা লেখার ক্ষেত্রে পারসোনাল টাচ দেয়া পদ্ধতিটি সবচেয়ে জনপ্রিয়। একটি প্রচলিত অভিনন্দন বার্তা হয় এরকম-- \\'মাননীয় \"অমুক ভাই\", আপনার সঙ্গে প্রথম দেখায় আপনার চোখে দিন বদলের অগ্নিগোলক দেখেছিলাম। ঐদিনই বাদ দিয়েছিলাম সিঙ্গাপুর কিংবা মালয়েশিয়ায় যাওয়ার পরিকল্পনা। যার দেশেই এমন সৎ ও কর্মঠ নেতা রয়েছেন, সে দেশ ভূলোক-দ্যুলোক-গোলক ভেদিয়া সর্বশ্রেষ্ঠ দেশ হিসেবে মাথা তুলে দাঁড়াবে; তা নিয়ে সন্দেহ ছিল না এতোটুকু। আমি তাকে বলেছিলাম, ভাই আপনারে ছাইড়া কোথাও যাবো না আমি। আমারে কাজ দেন! আমাকে বিমুখ করেননি তিনি। ভরসা দিয়েছেন; ভরসাই সব; ভরসাটা থাকলে সব হয়। গত পাঁচ বছরের চেষ্টায় একটা উদ্যোগ দাঁড় করিয়েছি; মানুষের কর্মসংস্থানের ব্যবস্থা করেছি।\\'উপরের এই অভিনন্দন বার্তার সমস্যা হচ্ছে, গল্প \\'অমুক ভাই\\'কে ফেলে নিজের সাফল্যে এসে পড়েছে। কিন্তু বুঝে দেখুন, এটা অমুক ভাইয়ের জন্য লেখা অভিনন্দনপত্র। এই গল্পের নায়ক তিনি। সুতরাং এ গল্পে আমি-টামি ছেড়ে উনার মাহাত্ম্য বর্ণনায় মন দিতে হবে।সুতরাং লিখুন এভাবে--\\'আমাদের গ্রামের এক মলিন চায়ের স্টলে মানুষের মাঝে নিজেকে বিলীন করে দিয়ে বসেছিলেন তিনি। বড় মানুষ হলে তার মাঝে উদারতা থাকে; সাদাসিধে মন থাকে; তা বুঝতে এতোটুকু অসুবিধা হয়নি। অত্যন্ত মেধাবী মানুষ। আর উনি বললেন, মাত্র ১৪৯ টাকা নিয়ে ঢাকায় গিয়েছিলাম; তখন আমার আর কিছুই ছিলো না; ভালো কিছু করার ইচ্ছাটা ছাড়া। এই ইচ্ছাটাই আসল। ইচ্ছা থাকলে দারিদ্র্য কেন, নির্বাচন জয় করা যায়। নেপোলিয়ান বোনাপার্টকে এক জ্যোতিষী বলেছিলেন, আপনার হাতের রেখায় বিশ্বজয় দেখছি না। নেপোলিয়ান চাকু দিয়ে নিজের হাতের রেখা এঁকে বলেছিলেন, দেখি এবার আমার বিশ্বজয় ঠেকায় কে!সেইদিন বুঝেছিলাম, \"অমুক ভাই\" থেমে থাকার পাত্র নন। আজ অনেকেই বিস্মিত হলেও; আমি বিস্মিত নই এতোটুকু। আমি জানতাম, \"অমুক ভাই\" এর অদম্য ইচ্ছাশক্তির কাছে কোনকিছুই অসম্ভব নয়। দীর্ঘজীবী হোন অমুক ভাই; দেশবদলের স্বপ্নের সোনালী সৈনিক হয়ে উঠুন। আপনার হাতেই নিরাপদ জন্মভূমি।\\'\\xa0আর একটি স্টাইল খুবই কার্যকর অভিনন্দন জানানোর ক্ষেত্রে। মনে রাখবেন, মানুষ তার বড় সাফল্যের দিনে একটু ঘোরলাগা ভালোলাগার মাঝে থাকে। এদিন তার নিজের বাবা-মা\\'র কথা খুব মনে পড়ে। সুতরাং অভিনন্দন বার্তায় \\'অমুক ভাই/বোন\\'-এর বাবা-মায়ের সুকৃতির বয়ান থাকা চাই। কারণ মনে রাখতে হবে, তারা না থাকলে সফল মানুষটি পৃথিবীতে আসতেই পারতেন না। কাজেই আজকের এই কৃতিত্ব মূলত তাদের। কাজেই খোঁজ নিন উনার বাবা-মা সম্পর্কে। আপনার দরকার শুধু নাম দুটি। বাকি গল্প আপনি লিখবেন।\\'রত্নগর্ভা (মায়ের নাম) দেশরত্নের সেবায় সঁপে দিয়েছিলেন তার ছেলে/মেয়েটিকে। ছেলে/মেয়েটি নিরাশ করেনি তার মা\\'কে। আর তার সৎ বাবাটি (নামসহ) এলাকায় পরোপকারী মানুষ হিসেবে পরিচিত। একজন বলছিল, এমন ফেরেশতার মতো মানুষ দেখিনি। কোনদিন ফজরের ওয়াক্তের নামাজে তাকে অনুপস্থিত দেখেনি মানুষ।\\xa0মানুষের যে কোন বিপদে-আপদে তাকে পাশে পেয়েছে সবাই। তাদের সন্তান এলাকার-দেশের-দশের মুখ উজ্জ্বল করবে একদিন; এতো সবাই জানতেন। আর মাননীয় প্রধানমন্ত্রী জানেন কোত্থেকে হীরার টুকরা খুঁজে বের করতে হবে। গোটা বিশ্বে অর্থনৈতিক উন্নয়নের বিস্ময় এই হীরার খনি। অমুক ভাইয়ের হীরণ্ময় সাফল্যের প্রত্যাশা রইলো।\\'অমুক ভাই বা তমুক ভাই পারিবারিক রাজনীতির সফল ঘোড়সওয়ার হলে; পরিবারের রাজনৈতিক ত্যাগের ইতিহাস আপনার অভিনন্দন বার্তায় যুক্ত করুন। ত্যাগের ইতিহাস খুঁজে না পেলেও হতাশ হবেন না। জীবন যাপন মানেই ত্যাগ-সাধন।সবচেয়ে ট্রেন্ডি অভিনন্দন বার্তা হচ্ছে; উনি যে মন্ত্রণালয়ের দায়িত্ব পেয়েছেন; এই ক্ষেত্রে উনার দক্ষতার বয়ান হাজির করা। অর্থমন্ত্রী হলে আগে অনেক অর্থ নাড়াচাড়া করে অভ্যাস আছে, তথ্যমন্ত্রী হলে আগে অনেক তথ্য টানা-হ্যাচড়া করে অভ্যস্ত তিনি, স্বরাষ্ট্রমন্ত্রী হলে পুলিশদের আনন্দে রাখতে পটু তিনি এসব তথ্য অবশ্যই থাকতে হবে। কিন্তু সবশেষে এটা অবশ্যই থাকতে হবে, \\'সুযোগ্য প্রধানমন্ত্রী তার সঠিক মূল্যায়ন করেছেন।\\' যাকেই অভিনন্দন জানান না কেনো; প্রধানমন্ত্রীকে অভিনন্দন জানানোর সাগরে মেলাতে হবে তাকে। কারণ সব নদীই শেষ পর্যন্ত সাগরে গিয়ে পড়ে।',\n",
       "       'মাঝ আকাশে পর্ন দেখার অভিযোগে পাইলট আটক! বিমান যখন আকাশে তখন আর কোনও দিকে খেয়াল না রেখে শিশু পর্নোগ্রাফির অ্যাপ ডাউনলোড করে তাতেই মজে গিয়েছিলেন এক ভারতীয় পাইলট। দিল্লি থেকে উড্ডয়ন করা সেই বিমানটি সানফ্রান্সিসকোয় নামার সঙ্গে সঙ্গেই যাত্রীদের সামনে হাতক়ড়া পরানো হয় পাইলটকে।এসময় মুম্বাইয়ের ওই পাইলটকে গ্রেপ্তার করে তার পাসপোর্ট আটক করা হয়। বাতিল করা হয় ভিসা। তারপর ওই পাইলটকে অন্য একটি বিমানে করে দিল্লি পাঠানো হয়।মুম্বাই বিমানবন্দর সূত্র জানিয়েছে, ৫০ বছর বয়সী ওই পাইলট বিমানের ফার্স্ট অফিসার ছিলেন। দিল্লি ও মুম্বাই থেকে তিনি বহুবার বিমান উড়িয়ে নিয়ে গিয়েছেন আমেরিকায়।তবে আর কোনও দিনই ওই পাইলটকে যুক্তরাষ্ট্রে ঢুকতে দেয়া হবে না বলে জানিয়েছে মার্কিন ব্যুরো অব কাস্টমস অ্যান্ড বর্ডার প্রোটকশন্স।শুধু একদিনের ঘটনার প্রেক্ষিতেই যে ওই ভারতীয় পাইলটের বিরুদ্ধে ব্যবস্থা নেয়া হয়েছে, তা নয়।মুম্বাই বিমানবন্দর সূত্রের খবর, গত দুই মাস ধরেই ওই পাইলটের ওপর নজর রাখছিল মার্কিন ব্যুরো অব কাস্টমস অ্যান্ড বর্ডার প্রোটকশন্স। বিমান চালানোর সময় শিশু পর্নোগ্রাফির অ্যাপ ডাউনলোড করা আর তা উপভোগ করার অভিযোগ অনেক দিন ধরেই ছিল ওই পাইলটের বিরুদ্ধে। আমেরিকায় বিমান অবতরণের পর ওই পাইলট যে হোটেলে উঠতেন, সেখানেও কড়া নজর রাখা হয়েছিল।গত দুই মাস ধরে ওই পাইলটের ওপর গোপনে নজরদারি চালিয়ে যেসব তথ্যপ্রমাণ পাওয়া গেছে তার সবকিছুই একটি ডসিয়ারে (কোনও ঘটনা সংক্রান্ত নথি) দিল্লিকে পাঠিয়েছে মার্কিন ব্যুরো অব কাস্টমস অ্যান্ড বর্ডার প্রোটকশন।\\xa0সূত্র: আরটিভি'],\n",
       "      dtype=object)"
      ]
     },
     "execution_count": 52,
     "metadata": {},
     "output_type": "execute_result"
    }
   ],
   "source": [
    "X"
   ]
  },
  {
   "cell_type": "code",
   "execution_count": 53,
   "metadata": {},
   "outputs": [
    {
     "data": {
      "text/plain": [
       "array([1, 1, 1, ..., 0, 0, 0], dtype=int64)"
      ]
     },
     "execution_count": 53,
     "metadata": {},
     "output_type": "execute_result"
    }
   ],
   "source": [
    "Y"
   ]
  },
  {
   "cell_type": "code",
   "execution_count": 54,
   "metadata": {},
   "outputs": [],
   "source": [
    "Y=Y.astype('int')"
   ]
  },
  {
   "cell_type": "code",
   "execution_count": 55,
   "metadata": {},
   "outputs": [],
   "source": [
    "#print('Original dataset shape {}'.format(Counter(Y)))\n",
    "#print('Resampled dataset shape {}'.format(Counter(Y_aug)))"
   ]
  },
  {
   "cell_type": "code",
   "execution_count": 56,
   "metadata": {},
   "outputs": [],
   "source": [
    "# For Bigram\n",
    "#tfidf_biagram = TfidfVectorizer(sublinear_tf=True,\n",
    "                            #analyzer='word',\n",
    "                           # ngram_range=(2, 2),\n",
    "                           # max_features=8000)\n",
    "\n",
    "#tfidf_biagram.fit(X)\n",
    "#X = tfidf_biagram.transform(X)"
   ]
  },
  {
   "cell_type": "markdown",
   "metadata": {},
   "source": [
    "### Using TfidfVectorizer for feature extraction"
   ]
  },
  {
   "cell_type": "code",
   "execution_count": 57,
   "metadata": {},
   "outputs": [],
   "source": [
    "vectorizer = TfidfVectorizer(ngram_range=(1,1))\n",
    "vectorizer.fit(X)\n",
    "\n",
    "X = vectorizer.transform(X)"
   ]
  },
  {
   "cell_type": "code",
   "execution_count": 58,
   "metadata": {},
   "outputs": [
    {
     "name": "stdout",
     "output_type": "stream",
     "text": [
      "  (0, 25768)\t0.06785881351219729\n",
      "  (0, 25107)\t0.2942940021860095\n",
      "  (0, 23662)\t0.08387064410418923\n",
      "  (0, 22917)\t0.04517144933880958\n",
      "  (0, 21791)\t0.02242385109520186\n",
      "  (0, 21698)\t0.030890696571662195\n",
      "  (0, 21470)\t0.09834378641936975\n",
      "  (0, 21408)\t0.019439081396734642\n",
      "  (0, 21248)\t0.020321559972687923\n",
      "  (0, 21239)\t0.04469146879809357\n",
      "  (0, 21224)\t0.11617981887188786\n",
      "  (0, 21005)\t0.0817678301927572\n",
      "  (0, 20911)\t0.06402657617498327\n",
      "  (0, 20787)\t0.09893487912486067\n",
      "  (0, 20776)\t0.052720998088585\n",
      "  (0, 20649)\t0.053623728144558624\n",
      "  (0, 20598)\t0.13508609745978548\n",
      "  (0, 20511)\t0.030793978500062057\n",
      "  (0, 20509)\t0.14408226093799234\n",
      "  (0, 20480)\t0.06363120178110544\n",
      "  (0, 20356)\t0.08014941192277637\n",
      "  (0, 20353)\t0.027173015726568456\n",
      "  (0, 20294)\t0.046523102034568\n",
      "  (0, 20221)\t0.16579570421971637\n",
      "  (0, 20170)\t0.04553611684230488\n",
      "  :\t:\n",
      "  (49976, 10093)\t0.06906204228916804\n",
      "  (49976, 9779)\t0.049334153419721305\n",
      "  (49976, 9743)\t0.0666504886224874\n",
      "  (49976, 9584)\t0.24515674457034559\n",
      "  (49976, 9491)\t0.08482252775768145\n",
      "  (49976, 8573)\t0.04756148339950807\n",
      "  (49976, 8564)\t0.037513954449512305\n",
      "  (49976, 8503)\t0.017091351343606113\n",
      "  (49976, 7946)\t0.06170102568021247\n",
      "  (49976, 7884)\t0.16330414146228664\n",
      "  (49976, 7798)\t0.09959417966256064\n",
      "  (49976, 7790)\t0.05250034736466396\n",
      "  (49976, 7364)\t0.42534747207230156\n",
      "  (49976, 7362)\t0.5097565901456098\n",
      "  (49976, 7323)\t0.06514636804638234\n",
      "  (49976, 6400)\t0.05168631311524271\n",
      "  (49976, 6301)\t0.055690221221028485\n",
      "  (49976, 6246)\t0.04285337347960634\n",
      "  (49976, 5986)\t0.07471276038540813\n",
      "  (49976, 5822)\t0.06563599408550898\n",
      "  (49976, 5332)\t0.04397903541797938\n",
      "  (49976, 5280)\t0.06452349630140139\n",
      "  (49976, 5264)\t0.08843915432693858\n",
      "  (49976, 5250)\t0.03654890411842265\n",
      "  (49976, 5131)\t0.031553085757484584\n"
     ]
    }
   ],
   "source": [
    "print(X)"
   ]
  },
  {
   "cell_type": "markdown",
   "metadata": {},
   "source": [
    "### Using SMOTETomek for data balancing"
   ]
  },
  {
   "cell_type": "code",
   "execution_count": 59,
   "metadata": {},
   "outputs": [],
   "source": [
    "smk_biagram = SMOTETomek(random_state=42)\n",
    "X_aug,Y_aug=smk_biagram.fit_resample(X,Y)"
   ]
  },
  {
   "cell_type": "code",
   "execution_count": 60,
   "metadata": {},
   "outputs": [
    {
     "name": "stdout",
     "output_type": "stream",
     "text": [
      "Original dataset shape Counter({1: 48678, 0: 1299})\n",
      "Resampled dataset shape Counter({1: 48678, 0: 48678})\n"
     ]
    }
   ],
   "source": [
    "from collections import Counter\n",
    "print('Original dataset shape {}'.format(Counter(Y)))\n",
    "print('Resampled dataset shape {}'.format(Counter(Y_aug)))"
   ]
  },
  {
   "cell_type": "code",
   "execution_count": 61,
   "metadata": {},
   "outputs": [],
   "source": [
    "#X_biagram = tfidf_biagram.fit_transform(merge_data['headline'])"
   ]
  },
  {
   "cell_type": "code",
   "execution_count": 62,
   "metadata": {},
   "outputs": [],
   "source": [
    "#Y_biagram = merge_data['label']"
   ]
  },
  {
   "cell_type": "code",
   "execution_count": 63,
   "metadata": {},
   "outputs": [],
   "source": [
    "#Y_biagram.shape,X_biagram.shape"
   ]
  },
  {
   "cell_type": "code",
   "execution_count": 64,
   "metadata": {},
   "outputs": [],
   "source": [
    "#merge_data['label'].value_counts()"
   ]
  },
  {
   "cell_type": "code",
   "execution_count": 65,
   "metadata": {},
   "outputs": [],
   "source": [
    "#smk_biagram = SMOTETomek(random_state=42)\n",
    "#X_biagram_v1,Y_biagram_v1=smk_biagram.fit_resample(X_biagram,Y_biagram)"
   ]
  },
  {
   "cell_type": "code",
   "execution_count": 66,
   "metadata": {},
   "outputs": [],
   "source": [
    "#from collections import Counter\n",
    "#print('Original dataset shape {}'.format(Counter(Y_biagram)))\n",
    "#print('Resampled dataset shape {}'.format(Counter(Y_biagram_v1)))"
   ]
  },
  {
   "cell_type": "code",
   "execution_count": 67,
   "metadata": {},
   "outputs": [],
   "source": [
    "# data Split\n",
    "# Biagram Model\n",
    "# let's see how well our model perform on this new data\n",
    "#x_train_biagram,x_test_biagram,y_train_biagram,y_test_biagram = train_test_split(X_biagram_v1,Y_biagram_v1,test_size = 0.30, random_state= True)"
   ]
  },
  {
   "cell_type": "markdown",
   "metadata": {},
   "source": [
    "### Data splitting"
   ]
  },
  {
   "cell_type": "code",
   "execution_count": 68,
   "metadata": {},
   "outputs": [
    {
     "data": {
      "text/plain": [
       "(19472, 27932)"
      ]
     },
     "execution_count": 68,
     "metadata": {},
     "output_type": "execute_result"
    }
   ],
   "source": [
    "X_train, X_test, y_train, y_test = train_test_split(X_aug, Y_aug, test_size=0.2, random_state=50)\n",
    "X_test.shape"
   ]
  },
  {
   "cell_type": "code",
   "execution_count": 71,
   "metadata": {},
   "outputs": [],
   "source": [
    "import pandas as pd\n",
    "import numpy as np\n",
    "\n",
    "pd.options.display.max_columns = 100\n",
    "pd.options.display.max_rows = 100\n",
    "\n",
    "from sklearn.model_selection import train_test_split\n",
    "from sklearn.model_selection import cross_val_score\n",
    "\n",
    "from sklearn.linear_model import LogisticRegression\n",
    "from sklearn.tree import DecisionTreeClassifier\n",
    "from sklearn.ensemble import RandomForestClassifier\n",
    "from sklearn.neighbors import KNeighborsClassifier\n",
    "\n",
    "from sklearn.metrics import accuracy_score, classification_report, confusion_matrix\n",
    "from sklearn.metrics import roc_curve, roc_auc_score, precision_score, recall_score, f1_score\n",
    "from sklearn.metrics import plot_confusion_matrix\n",
    "\n",
    "import matplotlib.pyplot as plt\n",
    "import seaborn as sns\n",
    "\n",
    "import warnings\n",
    "warnings.filterwarnings('ignore')"
   ]
  },
  {
   "cell_type": "markdown",
   "metadata": {},
   "source": [
    "### KNN"
   ]
  },
  {
   "cell_type": "code",
   "execution_count": 72,
   "metadata": {},
   "outputs": [],
   "source": [
    "knn = KNeighborsClassifier()"
   ]
  },
  {
   "cell_type": "code",
   "execution_count": 73,
   "metadata": {},
   "outputs": [
    {
     "data": {
      "text/plain": [
       "KNeighborsClassifier()"
      ]
     },
     "execution_count": 73,
     "metadata": {},
     "output_type": "execute_result"
    }
   ],
   "source": [
    "knn.fit(X_train,y_train)"
   ]
  },
  {
   "cell_type": "code",
   "execution_count": 74,
   "metadata": {},
   "outputs": [],
   "source": [
    "pred = knn.predict(X_train)"
   ]
  },
  {
   "cell_type": "markdown",
   "metadata": {},
   "source": [
    "### Train Accuracy"
   ]
  },
  {
   "cell_type": "code",
   "execution_count": 75,
   "metadata": {},
   "outputs": [
    {
     "name": "stdout",
     "output_type": "stream",
     "text": [
      "0.9212675260644034\n"
     ]
    }
   ],
   "source": [
    "accuracy = accuracy_score(y_train,pred)\n",
    "print(accuracy)"
   ]
  },
  {
   "cell_type": "markdown",
   "metadata": {},
   "source": [
    "### Cross Validation"
   ]
  },
  {
   "cell_type": "code",
   "execution_count": 76,
   "metadata": {},
   "outputs": [],
   "source": [
    "from sklearn.model_selection import cross_val_score,cross_val_predict\n",
    "knn_acc=cross_val_score(knn,X_train,y_train,cv=5,scoring='accuracy',n_jobs=-1)\n",
    "knn_proba=cross_val_predict(knn,X_train,y_train,cv=5,method='predict_proba')"
   ]
  },
  {
   "cell_type": "markdown",
   "metadata": {},
   "source": [
    "### Validation Accuracy"
   ]
  },
  {
   "cell_type": "code",
   "execution_count": 165,
   "metadata": {},
   "outputs": [
    {
     "data": {
      "text/plain": [
       "0.8809896899010793"
      ]
     },
     "execution_count": 165,
     "metadata": {},
     "output_type": "execute_result"
    }
   ],
   "source": [
    "knn_acc.mean()"
   ]
  },
  {
   "cell_type": "code",
   "execution_count": 78,
   "metadata": {},
   "outputs": [],
   "source": [
    "from sklearn.metrics import classification_report, confusion_matrix"
   ]
  },
  {
   "cell_type": "code",
   "execution_count": 79,
   "metadata": {},
   "outputs": [],
   "source": [
    "pred = knn.predict(X_test)"
   ]
  },
  {
   "cell_type": "markdown",
   "metadata": {},
   "source": [
    "### Test Accuracy"
   ]
  },
  {
   "cell_type": "code",
   "execution_count": 80,
   "metadata": {},
   "outputs": [
    {
     "name": "stdout",
     "output_type": "stream",
     "text": [
      "0.8927691043549713\n"
     ]
    }
   ],
   "source": [
    "accuracy = accuracy_score(y_test,pred)\n",
    "print(accuracy)"
   ]
  },
  {
   "cell_type": "markdown",
   "metadata": {},
   "source": [
    "### Confusion Matrix"
   ]
  },
  {
   "cell_type": "code",
   "execution_count": 81,
   "metadata": {},
   "outputs": [
    {
     "name": "stdout",
     "output_type": "stream",
     "text": [
      "confusion_matrix: \n",
      " [[9766    0]\n",
      " [2088 7618]]\n",
      "              precision    recall  f1-score   support\n",
      "\n",
      "           0       0.82      1.00      0.90      9766\n",
      "           1       1.00      0.78      0.88      9706\n",
      "\n",
      "    accuracy                           0.89     19472\n",
      "   macro avg       0.91      0.89      0.89     19472\n",
      "weighted avg       0.91      0.89      0.89     19472\n",
      "\n"
     ]
    }
   ],
   "source": [
    "confusion_matrix_ = confusion_matrix(y_test, pred)\n",
    "\n",
    "print('confusion_matrix: \\n', confusion_matrix_)\n",
    "print(classification_report(y_test, pred))"
   ]
  },
  {
   "cell_type": "code",
   "execution_count": 82,
   "metadata": {},
   "outputs": [
    {
     "name": "stdout",
     "output_type": "stream",
     "text": [
      "True Negatives =  9766\n",
      "False Negatives =  2088\n",
      "False Positives =  0\n",
      "True Positives =  7618\n"
     ]
    }
   ],
   "source": [
    "TN = confusion_matrix_[0,0]\n",
    "print(\"True Negatives = \", TN)\n",
    "\n",
    "FN = confusion_matrix_[1,0]\n",
    "print(\"False Negatives = \", FN)\n",
    "\n",
    "FP = confusion_matrix_[0,1]\n",
    "print(\"False Positives = \", FP)\n",
    "\n",
    "TP = confusion_matrix_[1,1]\n",
    "print(\"True Positives = \", TP)"
   ]
  },
  {
   "cell_type": "markdown",
   "metadata": {},
   "source": [
    "### True Positive Rate & False Positive Rate"
   ]
  },
  {
   "cell_type": "code",
   "execution_count": 83,
   "metadata": {},
   "outputs": [
    {
     "name": "stdout",
     "output_type": "stream",
     "text": [
      "True Positive Rate =  0.78\n",
      "False Positive Rate =  0.0\n"
     ]
    }
   ],
   "source": [
    "TPR = np.round(TP/(TP+FN), 2)\n",
    "FPR = np.round(FP/(FP+TN), 2)\n",
    "\n",
    "print(\"True Positive Rate = \", TPR)\n",
    "print(\"False Positive Rate = \", FPR)"
   ]
  },
  {
   "cell_type": "markdown",
   "metadata": {},
   "source": [
    "### ROC Curve"
   ]
  },
  {
   "cell_type": "code",
   "execution_count": 84,
   "metadata": {},
   "outputs": [
    {
     "data": {
      "image/png": "[encoded data removed]",
      "text/plain": [
       "<Figure size 1000x800 with 1 Axes>"
      ]
     },
     "metadata": {},
     "output_type": "display_data"
    }
   ],
   "source": [
    "fpr, tpr, thr = roc_curve(y_test, pred)\n",
    "auc = np.round(roc_auc_score(y_test, pred), 2)\n",
    "\n",
    "plt.figure(figsize=(10, 8))\n",
    "plt.plot(fpr, \n",
    "         tpr, \n",
    "         color='green', \n",
    "         lw=2, \n",
    "         label=\"Curve Area = \" +str(auc))\n",
    "\n",
    "plt.plot([0, 1], [0, 1], color='blue', lw=2, linestyle='--')\n",
    "plt.xlabel('False Positive Rate (FPR)')\n",
    "plt.ylabel('True Positive Rate (TPR)')\n",
    "plt.title('ROC curve')\n",
    "plt.legend(loc=\"lower right\")\n",
    "plt.show()"
   ]
  },
  {
   "cell_type": "code",
   "execution_count": 85,
   "metadata": {},
   "outputs": [
    {
     "data": {
      "image/png": "[encoded data removed]",
      "text/plain": [
       "<Figure size 640x480 with 2 Axes>"
      ]
     },
     "metadata": {},
     "output_type": "display_data"
    }
   ],
   "source": [
    "plot_confusion_matrix(knn, \n",
    "                      X_test, \n",
    "                      y_test, \n",
    "                      display_labels=[\"Fake News\", \"Real News\"],\n",
    "                      cmap='Blues')\n",
    "plt.show()"
   ]
  },
  {
   "cell_type": "code",
   "execution_count": 86,
   "metadata": {},
   "outputs": [
    {
     "name": "stdout",
     "output_type": "stream",
     "text": [
      "True Negatives =  9766\n",
      "False Negatives =  2088\n",
      "False Positives =  0\n",
      "True Positives =  7618\n"
     ]
    }
   ],
   "source": [
    "TN = confusion_matrix_[0,0]\n",
    "print(\"True Negatives = \", TN)\n",
    "\n",
    "FN = confusion_matrix_[1,0]\n",
    "print(\"False Negatives = \", FN)\n",
    "\n",
    "FP = confusion_matrix_[0,1]\n",
    "print(\"False Positives = \", FP)\n",
    "\n",
    "TP = confusion_matrix_[1,1]\n",
    "print(\"True Positives = \", TP)"
   ]
  },
  {
   "cell_type": "markdown",
   "metadata": {},
   "source": [
    "### Decision Tree"
   ]
  },
  {
   "cell_type": "code",
   "execution_count": 87,
   "metadata": {},
   "outputs": [
    {
     "data": {
      "text/plain": [
       "(19472, 27932)"
      ]
     },
     "execution_count": 87,
     "metadata": {},
     "output_type": "execute_result"
    }
   ],
   "source": [
    "X_train, X_test, y_train, y_test = train_test_split(X_aug, Y_aug, test_size=0.2, random_state=50)\n",
    "X_test.shape"
   ]
  },
  {
   "cell_type": "code",
   "execution_count": 88,
   "metadata": {},
   "outputs": [
    {
     "data": {
      "text/plain": [
       "DecisionTreeClassifier(random_state=50)"
      ]
     },
     "execution_count": 88,
     "metadata": {},
     "output_type": "execute_result"
    }
   ],
   "source": [
    "from sklearn.tree import DecisionTreeClassifier\n",
    "dtree = DecisionTreeClassifier(random_state=50)\n",
    "dtree.fit(X_train,y_train)"
   ]
  },
  {
   "cell_type": "code",
   "execution_count": 89,
   "metadata": {},
   "outputs": [],
   "source": [
    "dpred = dtree.predict(X_train)"
   ]
  },
  {
   "cell_type": "markdown",
   "metadata": {},
   "source": [
    "### Train Accuracy"
   ]
  },
  {
   "cell_type": "code",
   "execution_count": 90,
   "metadata": {},
   "outputs": [
    {
     "name": "stdout",
     "output_type": "stream",
     "text": [
      "0.9999871603923784\n"
     ]
    }
   ],
   "source": [
    "accuracy = accuracy_score(y_train,dpred)\n",
    "print(accuracy)"
   ]
  },
  {
   "cell_type": "code",
   "execution_count": 91,
   "metadata": {},
   "outputs": [],
   "source": [
    "from sklearn.model_selection import cross_val_score,cross_val_predict\n",
    "dtc_acc=cross_val_score(dtree,X_train,y_train,cv=5,scoring='accuracy',n_jobs=-1)\n",
    "dtc_proba=cross_val_predict(dtree,X_train,y_train,cv=5,method='predict_proba')"
   ]
  },
  {
   "cell_type": "markdown",
   "metadata": {},
   "source": [
    "### Validation Accuracy"
   ]
  },
  {
   "cell_type": "code",
   "execution_count": 166,
   "metadata": {},
   "outputs": [
    {
     "data": {
      "text/plain": [
       "0.9783139124396824"
      ]
     },
     "execution_count": 166,
     "metadata": {},
     "output_type": "execute_result"
    }
   ],
   "source": [
    "dtc_acc.mean()"
   ]
  },
  {
   "cell_type": "code",
   "execution_count": 93,
   "metadata": {},
   "outputs": [],
   "source": [
    "dpred = dtree.predict(X_test) "
   ]
  },
  {
   "cell_type": "markdown",
   "metadata": {},
   "source": [
    "### Test Accuracy"
   ]
  },
  {
   "cell_type": "code",
   "execution_count": 94,
   "metadata": {},
   "outputs": [
    {
     "name": "stdout",
     "output_type": "stream",
     "text": [
      "0.9797144617912901\n"
     ]
    }
   ],
   "source": [
    "accuracy = accuracy_score(y_test,dpred)\n",
    "print(accuracy)"
   ]
  },
  {
   "cell_type": "code",
   "execution_count": 95,
   "metadata": {},
   "outputs": [
    {
     "name": "stdout",
     "output_type": "stream",
     "text": [
      "confusion_matrix: \n",
      " [[9646  120]\n",
      " [ 275 9431]]\n",
      "              precision    recall  f1-score   support\n",
      "\n",
      "           0       0.97      0.99      0.98      9766\n",
      "           1       0.99      0.97      0.98      9706\n",
      "\n",
      "    accuracy                           0.98     19472\n",
      "   macro avg       0.98      0.98      0.98     19472\n",
      "weighted avg       0.98      0.98      0.98     19472\n",
      "\n"
     ]
    }
   ],
   "source": [
    "confusion_matrix_ = confusion_matrix(y_test, dpred)\n",
    "print('confusion_matrix: \\n', confusion_matrix_)\n",
    "print(classification_report(y_test, dpred))"
   ]
  },
  {
   "cell_type": "code",
   "execution_count": 96,
   "metadata": {},
   "outputs": [
    {
     "name": "stdout",
     "output_type": "stream",
     "text": [
      "True Negatives =  9646\n",
      "False Negatives =  275\n",
      "False Positives =  120\n",
      "True Positives =  9431\n"
     ]
    }
   ],
   "source": [
    "TN = confusion_matrix_[0,0]\n",
    "print(\"True Negatives = \", TN)\n",
    "\n",
    "FN = confusion_matrix_[1,0]\n",
    "print(\"False Negatives = \", FN)\n",
    "\n",
    "FP = confusion_matrix_[0,1]\n",
    "print(\"False Positives = \", FP)\n",
    "\n",
    "TP = confusion_matrix_[1,1]\n",
    "print(\"True Positives = \", TP)"
   ]
  },
  {
   "cell_type": "code",
   "execution_count": 97,
   "metadata": {},
   "outputs": [
    {
     "name": "stdout",
     "output_type": "stream",
     "text": [
      "True Positive Rate =  0.97\n",
      "False Positive Rate =  0.01\n"
     ]
    }
   ],
   "source": [
    "TPR = np.round(TP/(TP+FN), 2)\n",
    "FPR = np.round(FP/(FP+TN), 2)\n",
    "\n",
    "print(\"True Positive Rate = \", TPR)\n",
    "print(\"False Positive Rate = \", FPR)"
   ]
  },
  {
   "cell_type": "markdown",
   "metadata": {},
   "source": [
    "### ROC Curve"
   ]
  },
  {
   "cell_type": "code",
   "execution_count": 98,
   "metadata": {},
   "outputs": [
    {
     "data": {
      "image/png": "[encoded data removed]",
      "text/plain": [
       "<Figure size 1000x800 with 1 Axes>"
      ]
     },
     "metadata": {},
     "output_type": "display_data"
    }
   ],
   "source": [
    "fpr, tpr, thr = roc_curve(y_test, dpred)\n",
    "auc = np.round(roc_auc_score(y_test, dpred), 2)\n",
    "\n",
    "plt.figure(figsize=(10, 8))\n",
    "plt.plot(fpr, \n",
    "         tpr, \n",
    "         color='green', \n",
    "         lw=2, \n",
    "         label=\"Curve Area = \" +str(auc))\n",
    "\n",
    "plt.plot([0, 1], [0, 1], color='blue', lw=2, linestyle='--')\n",
    "plt.xlabel('False Positive Rate (FPR)')\n",
    "plt.ylabel('True Positive Rate (TPR)')\n",
    "plt.title('ROC curve')\n",
    "plt.legend(loc=\"lower right\")\n",
    "plt.show()"
   ]
  },
  {
   "cell_type": "code",
   "execution_count": 99,
   "metadata": {},
   "outputs": [
    {
     "data": {
      "image/png": "[encoded data removed]",
      "text/plain": [
       "<Figure size 640x480 with 2 Axes>"
      ]
     },
     "metadata": {},
     "output_type": "display_data"
    }
   ],
   "source": [
    "plot_confusion_matrix(dtree, \n",
    "                      X_test, \n",
    "                      y_test, \n",
    "                      display_labels=[\"Fake News\", \"Real News\"],\n",
    "                      cmap='Blues')\n",
    "plt.show()"
   ]
  },
  {
   "cell_type": "markdown",
   "metadata": {},
   "source": [
    "### RandomForestClassifier"
   ]
  },
  {
   "cell_type": "code",
   "execution_count": 100,
   "metadata": {},
   "outputs": [
    {
     "data": {
      "text/plain": [
       "(19472, 27932)"
      ]
     },
     "execution_count": 100,
     "metadata": {},
     "output_type": "execute_result"
    }
   ],
   "source": [
    "X_train, X_test, y_train, y_test = train_test_split(X_aug, Y_aug, test_size=0.2, random_state=50)\n",
    "X_test.shape"
   ]
  },
  {
   "cell_type": "code",
   "execution_count": 101,
   "metadata": {},
   "outputs": [
    {
     "data": {
      "text/plain": [
       "RandomForestClassifier(random_state=50)"
      ]
     },
     "execution_count": 101,
     "metadata": {},
     "output_type": "execute_result"
    }
   ],
   "source": [
    "from sklearn.ensemble import RandomForestClassifier\n",
    "#rfc = RandomForestClassifier(n_estimators=200)\n",
    "#n_estimators=48, 83, 100, 120\n",
    "rfc = RandomForestClassifier(random_state=50)\n",
    "rfc.fit(X_train,y_train)"
   ]
  },
  {
   "cell_type": "code",
   "execution_count": 102,
   "metadata": {},
   "outputs": [],
   "source": [
    "rfc_pred = rfc.predict(X_train)"
   ]
  },
  {
   "cell_type": "markdown",
   "metadata": {},
   "source": [
    "### Train Accuracy"
   ]
  },
  {
   "cell_type": "code",
   "execution_count": 103,
   "metadata": {},
   "outputs": [
    {
     "name": "stdout",
     "output_type": "stream",
     "text": [
      "0.9999871603923784\n"
     ]
    }
   ],
   "source": [
    "accuracy = accuracy_score(y_train,rfc_pred)\n",
    "print(accuracy)"
   ]
  },
  {
   "cell_type": "code",
   "execution_count": 104,
   "metadata": {},
   "outputs": [],
   "source": [
    "from sklearn.model_selection import cross_val_score,cross_val_predict\n",
    "rfc_acc=cross_val_score(rfc,X_train,y_train,cv=5,scoring='accuracy',n_jobs=-1)\n",
    "rfc_proba=cross_val_predict(rfc,X_train,y_train,cv=5,method='predict_proba')"
   ]
  },
  {
   "cell_type": "markdown",
   "metadata": {},
   "source": [
    "### Validation Accuracy"
   ]
  },
  {
   "cell_type": "code",
   "execution_count": 167,
   "metadata": {},
   "outputs": [
    {
     "data": {
      "text/plain": [
       "0.9943890901467697"
      ]
     },
     "execution_count": 167,
     "metadata": {},
     "output_type": "execute_result"
    }
   ],
   "source": [
    "rfc_acc.mean()"
   ]
  },
  {
   "cell_type": "code",
   "execution_count": 106,
   "metadata": {},
   "outputs": [],
   "source": [
    "rfc_pred = rfc.predict(X_test)"
   ]
  },
  {
   "cell_type": "markdown",
   "metadata": {},
   "source": [
    "### Test Accuracy"
   ]
  },
  {
   "cell_type": "code",
   "execution_count": 107,
   "metadata": {},
   "outputs": [
    {
     "name": "stdout",
     "output_type": "stream",
     "text": [
      "0.9948644207066557\n"
     ]
    }
   ],
   "source": [
    "accuracy = accuracy_score(y_test,rfc_pred)\n",
    "print(accuracy)"
   ]
  },
  {
   "cell_type": "code",
   "execution_count": 108,
   "metadata": {},
   "outputs": [
    {
     "name": "stdout",
     "output_type": "stream",
     "text": [
      "confusion_matrix: \n",
      " [[9703   63]\n",
      " [  37 9669]]\n",
      "              precision    recall  f1-score   support\n",
      "\n",
      "           0       1.00      0.99      0.99      9766\n",
      "           1       0.99      1.00      0.99      9706\n",
      "\n",
      "    accuracy                           0.99     19472\n",
      "   macro avg       0.99      0.99      0.99     19472\n",
      "weighted avg       0.99      0.99      0.99     19472\n",
      "\n"
     ]
    }
   ],
   "source": [
    "confusion_matrix_ = confusion_matrix(y_test, rfc_pred)\n",
    "\n",
    "print('confusion_matrix: \\n', confusion_matrix_)\n",
    "print(classification_report(y_test, rfc_pred))"
   ]
  },
  {
   "cell_type": "code",
   "execution_count": 109,
   "metadata": {},
   "outputs": [
    {
     "name": "stdout",
     "output_type": "stream",
     "text": [
      "True Negatives =  9703\n",
      "False Negatives =  37\n",
      "False Positives =  63\n",
      "True Positives =  9669\n"
     ]
    }
   ],
   "source": [
    "TN = confusion_matrix_[0,0]\n",
    "print(\"True Negatives = \", TN)\n",
    "\n",
    "FN = confusion_matrix_[1,0]\n",
    "print(\"False Negatives = \", FN)\n",
    "\n",
    "FP = confusion_matrix_[0,1]\n",
    "print(\"False Positives = \", FP)\n",
    "\n",
    "TP = confusion_matrix_[1,1]\n",
    "print(\"True Positives = \", TP)"
   ]
  },
  {
   "cell_type": "code",
   "execution_count": 110,
   "metadata": {},
   "outputs": [
    {
     "name": "stdout",
     "output_type": "stream",
     "text": [
      "True Positive Rate =  1.0\n",
      "False Positive Rate =  0.01\n"
     ]
    }
   ],
   "source": [
    "TPR = np.round(TP/(TP+FN), 2)\n",
    "FPR = np.round(FP/(FP+TN), 2)\n",
    "\n",
    "print(\"True Positive Rate = \", TPR)\n",
    "print(\"False Positive Rate = \", FPR)"
   ]
  },
  {
   "cell_type": "markdown",
   "metadata": {},
   "source": [
    "### ROC Curve"
   ]
  },
  {
   "cell_type": "code",
   "execution_count": 111,
   "metadata": {},
   "outputs": [
    {
     "data": {
      "image/png": "[encoded data removed]",
      "text/plain": [
       "<Figure size 1000x800 with 1 Axes>"
      ]
     },
     "metadata": {},
     "output_type": "display_data"
    }
   ],
   "source": [
    "fpr, tpr, thr = roc_curve(y_test, rfc_pred)\n",
    "auc = np.round(roc_auc_score(y_test, rfc_pred), 2)\n",
    "\n",
    "plt.figure(figsize=(10, 8))\n",
    "plt.plot(fpr, \n",
    "         tpr, \n",
    "         color='green', \n",
    "         lw=2, \n",
    "         label=\"Curve Area = \" +str(auc))\n",
    "\n",
    "plt.plot([0, 1], [0, 1], color='blue', lw=2, linestyle='--')\n",
    "plt.xlabel('False Positive Rate (FPR)')\n",
    "plt.ylabel('True Positive Rate (TPR)')\n",
    "plt.title('ROC curve')\n",
    "plt.legend(loc=\"lower right\")\n",
    "plt.show()"
   ]
  },
  {
   "cell_type": "code",
   "execution_count": 112,
   "metadata": {},
   "outputs": [
    {
     "data": {
      "image/png": "[encoded data removed]",
      "text/plain": [
       "<Figure size 640x480 with 2 Axes>"
      ]
     },
     "metadata": {},
     "output_type": "display_data"
    }
   ],
   "source": [
    "plot_confusion_matrix(rfc, \n",
    "                      X_test, \n",
    "                      y_test, \n",
    "                      display_labels=[\"Fake News\", \"Real News\"],\n",
    "                      cmap='Blues')\n",
    "plt.show()"
   ]
  },
  {
   "cell_type": "markdown",
   "metadata": {},
   "source": [
    "### GradientBoosting"
   ]
  },
  {
   "cell_type": "code",
   "execution_count": 136,
   "metadata": {},
   "outputs": [
    {
     "data": {
      "text/plain": [
       "(19472, 27932)"
      ]
     },
     "execution_count": 136,
     "metadata": {},
     "output_type": "execute_result"
    }
   ],
   "source": [
    "X_train, X_test, y_train, y_test = train_test_split(X_aug, Y_aug, test_size=0.2, random_state=50)\n",
    "X_test.shape"
   ]
  },
  {
   "cell_type": "code",
   "execution_count": 137,
   "metadata": {},
   "outputs": [],
   "source": [
    "from sklearn.ensemble import GradientBoostingClassifier\n",
    "\n",
    "GS = GradientBoostingClassifier(random_state=50)"
   ]
  },
  {
   "cell_type": "code",
   "execution_count": 138,
   "metadata": {},
   "outputs": [
    {
     "data": {
      "text/plain": [
       "GradientBoostingClassifier(random_state=50)"
      ]
     },
     "execution_count": 138,
     "metadata": {},
     "output_type": "execute_result"
    }
   ],
   "source": [
    "GS.fit(X_train,y_train)"
   ]
  },
  {
   "cell_type": "code",
   "execution_count": 139,
   "metadata": {},
   "outputs": [],
   "source": [
    "GS_pred = GS.predict(X_train)"
   ]
  },
  {
   "cell_type": "markdown",
   "metadata": {},
   "source": [
    "### Train Accuracy"
   ]
  },
  {
   "cell_type": "code",
   "execution_count": 140,
   "metadata": {},
   "outputs": [
    {
     "name": "stdout",
     "output_type": "stream",
     "text": [
      "0.9679009809460223\n"
     ]
    }
   ],
   "source": [
    "accuracy = accuracy_score(y_train,GS_pred)\n",
    "print(accuracy)"
   ]
  },
  {
   "cell_type": "code",
   "execution_count": 141,
   "metadata": {},
   "outputs": [],
   "source": [
    "from sklearn.model_selection import cross_val_score,cross_val_predict\n",
    "GS_acc=cross_val_score(GS,X_train,y_train,cv=5,scoring='accuracy',n_jobs=-1)\n",
    "GS_proba=cross_val_predict(GS,X_train,y_train,cv=5,method='predict_proba')"
   ]
  },
  {
   "cell_type": "markdown",
   "metadata": {},
   "source": [
    "### Validation Accuracy"
   ]
  },
  {
   "cell_type": "code",
   "execution_count": 168,
   "metadata": {},
   "outputs": [
    {
     "data": {
      "text/plain": [
       "0.966000720314501"
      ]
     },
     "execution_count": 168,
     "metadata": {},
     "output_type": "execute_result"
    }
   ],
   "source": [
    "GS_acc.mean()"
   ]
  },
  {
   "cell_type": "code",
   "execution_count": 146,
   "metadata": {},
   "outputs": [],
   "source": [
    "GS_pred = GS.predict(X_test)"
   ]
  },
  {
   "cell_type": "markdown",
   "metadata": {},
   "source": [
    "### Test Accuracy"
   ]
  },
  {
   "cell_type": "code",
   "execution_count": 147,
   "metadata": {},
   "outputs": [
    {
     "name": "stdout",
     "output_type": "stream",
     "text": [
      "0.9642563681183237\n"
     ]
    }
   ],
   "source": [
    "accuracy = accuracy_score(y_test,GS_pred)\n",
    "print(accuracy)"
   ]
  },
  {
   "cell_type": "code",
   "execution_count": 148,
   "metadata": {},
   "outputs": [
    {
     "name": "stdout",
     "output_type": "stream",
     "text": [
      "confusion_matrix: \n",
      " [[9398  368]\n",
      " [ 328 9378]]\n",
      "              precision    recall  f1-score   support\n",
      "\n",
      "           0       0.97      0.96      0.96      9766\n",
      "           1       0.96      0.97      0.96      9706\n",
      "\n",
      "    accuracy                           0.96     19472\n",
      "   macro avg       0.96      0.96      0.96     19472\n",
      "weighted avg       0.96      0.96      0.96     19472\n",
      "\n"
     ]
    }
   ],
   "source": [
    "confusion_matrix_ = confusion_matrix(y_test, GS_pred)\n",
    "print('confusion_matrix: \\n', confusion_matrix_)\n",
    "\n",
    "print(classification_report(y_test, GS_pred))"
   ]
  },
  {
   "cell_type": "code",
   "execution_count": 149,
   "metadata": {},
   "outputs": [
    {
     "name": "stdout",
     "output_type": "stream",
     "text": [
      "True Negatives =  9398\n",
      "False Negatives =  328\n",
      "False Positives =  368\n",
      "True Positives =  9378\n"
     ]
    }
   ],
   "source": [
    "TN = confusion_matrix_[0,0]\n",
    "print(\"True Negatives = \", TN)\n",
    "\n",
    "FN = confusion_matrix_[1,0]\n",
    "print(\"False Negatives = \", FN)\n",
    "\n",
    "FP = confusion_matrix_[0,1]\n",
    "print(\"False Positives = \", FP)\n",
    "\n",
    "TP = confusion_matrix_[1,1]\n",
    "print(\"True Positives = \", TP)"
   ]
  },
  {
   "cell_type": "code",
   "execution_count": 150,
   "metadata": {},
   "outputs": [
    {
     "name": "stdout",
     "output_type": "stream",
     "text": [
      "True Positive Rate =  0.97\n",
      "False Positive Rate =  0.04\n"
     ]
    }
   ],
   "source": [
    "TPR = np.round(TP/(TP+FN), 2)\n",
    "FPR = np.round(FP/(FP+TN), 2)\n",
    "\n",
    "print(\"True Positive Rate = \", TPR)\n",
    "print(\"False Positive Rate = \", FPR)"
   ]
  },
  {
   "cell_type": "markdown",
   "metadata": {},
   "source": [
    "### ROC Curve"
   ]
  },
  {
   "cell_type": "code",
   "execution_count": 151,
   "metadata": {},
   "outputs": [
    {
     "data": {
      "image/png": "[encoded data removed]",
      "text/plain": [
       "<Figure size 1000x800 with 1 Axes>"
      ]
     },
     "metadata": {},
     "output_type": "display_data"
    }
   ],
   "source": [
    "fpr, tpr, thr = roc_curve(y_test, GS_pred)\n",
    "auc = np.round(roc_auc_score(y_test, GS_pred), 2)\n",
    "\n",
    "plt.figure(figsize=(10, 8))\n",
    "plt.plot(fpr, \n",
    "         tpr, \n",
    "         color='green', \n",
    "         lw=2, \n",
    "         label=\"Curve Area = \" +str(auc))\n",
    "\n",
    "plt.plot([0, 1], [0, 1], color='blue', lw=2, linestyle='--')\n",
    "plt.xlabel('False Positive Rate (FPR)')\n",
    "plt.ylabel('True Positive Rate (TPR)')\n",
    "plt.title('ROC curve')\n",
    "plt.legend(loc=\"lower right\")\n",
    "plt.show()"
   ]
  },
  {
   "cell_type": "code",
   "execution_count": 152,
   "metadata": {},
   "outputs": [
    {
     "data": {
      "image/png": "[encoded data removed]",
      "text/plain": [
       "<Figure size 640x480 with 2 Axes>"
      ]
     },
     "metadata": {},
     "output_type": "display_data"
    }
   ],
   "source": [
    "plot_confusion_matrix(GS, \n",
    "                      X_test, \n",
    "                      y_test, \n",
    "                      display_labels=[\"Fake News\", \"Real News\"],\n",
    "                      cmap='Blues')\n",
    "plt.show()"
   ]
  },
  {
   "cell_type": "markdown",
   "metadata": {},
   "source": [
    "### XGBoost Classifier"
   ]
  },
  {
   "cell_type": "code",
   "execution_count": 122,
   "metadata": {},
   "outputs": [
    {
     "data": {
      "text/plain": [
       "(19472, 27932)"
      ]
     },
     "execution_count": 122,
     "metadata": {},
     "output_type": "execute_result"
    }
   ],
   "source": [
    "X_train, X_test, y_train, y_test = train_test_split(X_aug, Y_aug, test_size=0.2, random_state=50)\n",
    "X_test.shape"
   ]
  },
  {
   "cell_type": "code",
   "execution_count": 123,
   "metadata": {},
   "outputs": [],
   "source": [
    "from xgboost import XGBClassifier"
   ]
  },
  {
   "cell_type": "code",
   "execution_count": 124,
   "metadata": {},
   "outputs": [],
   "source": [
    "xgb_model = XGBClassifier(objective=\"binary:logistic\", random_state=50, eval_metric=\"auc\")"
   ]
  },
  {
   "cell_type": "code",
   "execution_count": 125,
   "metadata": {},
   "outputs": [
    {
     "data": {
      "text/plain": [
       "XGBClassifier(base_score=0.5, booster='gbtree', colsample_bylevel=1,\n",
       "              colsample_bynode=1, colsample_bytree=1, enable_categorical=False,\n",
       "              eval_metric='auc', gamma=0, gpu_id=-1, importance_type=None,\n",
       "              interaction_constraints='', learning_rate=0.300000012,\n",
       "              max_delta_step=0, max_depth=6, min_child_weight=1, missing=nan,\n",
       "              monotone_constraints='()', n_estimators=100, n_jobs=6,\n",
       "              num_parallel_tree=1, predictor='auto', random_state=50,\n",
       "              reg_alpha=0, reg_lambda=1, scale_pos_weight=1, subsample=1,\n",
       "              tree_method='exact', validate_parameters=1, verbosity=None)"
      ]
     },
     "execution_count": 125,
     "metadata": {},
     "output_type": "execute_result"
    }
   ],
   "source": [
    "xgb_model.fit(X_train,y_train)"
   ]
  },
  {
   "cell_type": "code",
   "execution_count": 126,
   "metadata": {},
   "outputs": [],
   "source": [
    "xgb_pred = xgb_model.predict(X_train)"
   ]
  },
  {
   "cell_type": "markdown",
   "metadata": {},
   "source": [
    "### Train Accuracy"
   ]
  },
  {
   "cell_type": "code",
   "execution_count": 127,
   "metadata": {},
   "outputs": [
    {
     "name": "stdout",
     "output_type": "stream",
     "text": [
      "0.9984078886549227\n"
     ]
    }
   ],
   "source": [
    "accuracy = accuracy_score(y_train,xgb_pred)\n",
    "print(accuracy)"
   ]
  },
  {
   "cell_type": "code",
   "execution_count": 128,
   "metadata": {},
   "outputs": [],
   "source": [
    "from sklearn.model_selection import cross_val_score,cross_val_predict\n",
    "xgb_acc=cross_val_score(xgb_model,X_train,y_train,cv=5,scoring='accuracy',n_jobs=-1)\n",
    "xgb_proba=cross_val_predict(xgb_model,X_train,y_train,cv=5,method='predict_proba')"
   ]
  },
  {
   "cell_type": "markdown",
   "metadata": {},
   "source": [
    "### Validation Accuracy"
   ]
  },
  {
   "cell_type": "code",
   "execution_count": 169,
   "metadata": {},
   "outputs": [
    {
     "data": {
      "text/plain": [
       "0.994003900269249"
      ]
     },
     "execution_count": 169,
     "metadata": {},
     "output_type": "execute_result"
    }
   ],
   "source": [
    "xgb_acc.mean()"
   ]
  },
  {
   "cell_type": "code",
   "execution_count": 154,
   "metadata": {},
   "outputs": [],
   "source": [
    "xgb_pred = xgb_model.predict(X_test)"
   ]
  },
  {
   "cell_type": "markdown",
   "metadata": {},
   "source": [
    "### Test Accuracy"
   ]
  },
  {
   "cell_type": "code",
   "execution_count": 155,
   "metadata": {},
   "outputs": [
    {
     "name": "stdout",
     "output_type": "stream",
     "text": [
      "0.9929642563681184\n"
     ]
    }
   ],
   "source": [
    "accuracy = accuracy_score(y_test,xgb_pred)\n",
    "print(accuracy)"
   ]
  },
  {
   "cell_type": "code",
   "execution_count": 156,
   "metadata": {},
   "outputs": [
    {
     "name": "stdout",
     "output_type": "stream",
     "text": [
      "confusion_matrix: \n",
      " [[9694   72]\n",
      " [  65 9641]]\n",
      "              precision    recall  f1-score   support\n",
      "\n",
      "           0       0.99      0.99      0.99      9766\n",
      "           1       0.99      0.99      0.99      9706\n",
      "\n",
      "    accuracy                           0.99     19472\n",
      "   macro avg       0.99      0.99      0.99     19472\n",
      "weighted avg       0.99      0.99      0.99     19472\n",
      "\n"
     ]
    }
   ],
   "source": [
    "confusion_matrix_ = confusion_matrix(y_test, xgb_pred)\n",
    "print('confusion_matrix: \\n', confusion_matrix_)\n",
    "\n",
    "print(classification_report(y_test, xgb_pred))"
   ]
  },
  {
   "cell_type": "code",
   "execution_count": 157,
   "metadata": {},
   "outputs": [
    {
     "name": "stdout",
     "output_type": "stream",
     "text": [
      "True Negatives =  9694\n",
      "False Negatives =  65\n",
      "False Positives =  72\n",
      "True Positives =  9641\n"
     ]
    }
   ],
   "source": [
    "TN = confusion_matrix_[0,0]\n",
    "print(\"True Negatives = \", TN)\n",
    "\n",
    "FN = confusion_matrix_[1,0]\n",
    "print(\"False Negatives = \", FN)\n",
    "\n",
    "FP = confusion_matrix_[0,1]\n",
    "print(\"False Positives = \", FP)\n",
    "\n",
    "TP = confusion_matrix_[1,1]\n",
    "print(\"True Positives = \", TP)"
   ]
  },
  {
   "cell_type": "code",
   "execution_count": 158,
   "metadata": {},
   "outputs": [
    {
     "name": "stdout",
     "output_type": "stream",
     "text": [
      "True Positive Rate =  0.99\n",
      "False Positive Rate =  0.01\n"
     ]
    }
   ],
   "source": [
    "TPR = np.round(TP/(TP+FN), 2)\n",
    "FPR = np.round(FP/(FP+TN), 2)\n",
    "\n",
    "print(\"True Positive Rate = \", TPR)\n",
    "print(\"False Positive Rate = \", FPR)"
   ]
  },
  {
   "cell_type": "code",
   "execution_count": 159,
   "metadata": {},
   "outputs": [
    {
     "data": {
      "image/png": "[encoded data removed]",
      "text/plain": [
       "<Figure size 1000x800 with 1 Axes>"
      ]
     },
     "metadata": {},
     "output_type": "display_data"
    }
   ],
   "source": [
    "fpr, tpr, thr = roc_curve(y_test, xgb_pred)\n",
    "auc = np.round(roc_auc_score(y_test, xgb_pred), 2)\n",
    "\n",
    "plt.figure(figsize=(10, 8))\n",
    "plt.plot(fpr, \n",
    "         tpr, \n",
    "         color='green', \n",
    "         lw=2, \n",
    "         label=\"Curve Area = \" +str(auc))\n",
    "\n",
    "plt.plot([0, 1], [0, 1], color='blue', lw=2, linestyle='--')\n",
    "plt.xlabel('False Positive Rate (FPR)')\n",
    "plt.ylabel('True Positive Rate (TPR)')\n",
    "plt.title('ROC curve')\n",
    "plt.legend(loc=\"lower right\")\n",
    "plt.show()"
   ]
  },
  {
   "cell_type": "code",
   "execution_count": 134,
   "metadata": {},
   "outputs": [
    {
     "data": {
      "image/png": "[encoded data removed]",
      "text/plain": [
       "<Figure size 640x480 with 2 Axes>"
      ]
     },
     "metadata": {},
     "output_type": "display_data"
    }
   ],
   "source": [
    "plot_confusion_matrix(xgb_model, \n",
    "                      X_test, \n",
    "                      y_test, \n",
    "                      display_labels=[\"Fake News\", \"Real News\"],\n",
    "                      cmap='Blues')\n",
    "plt.show()"
   ]
  },
  {
   "cell_type": "code",
   "execution_count": 160,
   "metadata": {},
   "outputs": [
    {
     "data": {
      "text/html": [
       "<div>\n",
       "<style scoped>\n",
       "    .dataframe tbody tr th:only-of-type {\n",
       "        vertical-align: middle;\n",
       "    }\n",
       "\n",
       "    .dataframe tbody tr th {\n",
       "        vertical-align: top;\n",
       "    }\n",
       "\n",
       "    .dataframe thead th {\n",
       "        text-align: right;\n",
       "    }\n",
       "</style>\n",
       "<table border=\"1\" class=\"dataframe\">\n",
       "  <thead>\n",
       "    <tr style=\"text-align: right;\">\n",
       "      <th></th>\n",
       "      <th>Name</th>\n",
       "      <th>Accuracy</th>\n",
       "      <th>Precision</th>\n",
       "      <th>Recall</th>\n",
       "      <th>F1-Score</th>\n",
       "      <th>ROC Score</th>\n",
       "    </tr>\n",
       "  </thead>\n",
       "  <tbody>\n",
       "    <tr>\n",
       "      <th>0</th>\n",
       "      <td>KNN</td>\n",
       "      <td>89.28</td>\n",
       "      <td>100.00</td>\n",
       "      <td>78.49</td>\n",
       "      <td>87.95</td>\n",
       "      <td>89.24</td>\n",
       "    </tr>\n",
       "    <tr>\n",
       "      <th>1</th>\n",
       "      <td>DTC</td>\n",
       "      <td>97.97</td>\n",
       "      <td>98.74</td>\n",
       "      <td>97.17</td>\n",
       "      <td>97.95</td>\n",
       "      <td>97.97</td>\n",
       "    </tr>\n",
       "    <tr>\n",
       "      <th>2</th>\n",
       "      <td>RFC</td>\n",
       "      <td>99.49</td>\n",
       "      <td>99.35</td>\n",
       "      <td>99.62</td>\n",
       "      <td>99.49</td>\n",
       "      <td>99.49</td>\n",
       "    </tr>\n",
       "    <tr>\n",
       "      <th>3</th>\n",
       "      <td>GB</td>\n",
       "      <td>96.43</td>\n",
       "      <td>96.22</td>\n",
       "      <td>96.62</td>\n",
       "      <td>96.42</td>\n",
       "      <td>96.43</td>\n",
       "    </tr>\n",
       "    <tr>\n",
       "      <th>4</th>\n",
       "      <td>XG Boost</td>\n",
       "      <td>99.30</td>\n",
       "      <td>99.26</td>\n",
       "      <td>99.33</td>\n",
       "      <td>99.29</td>\n",
       "      <td>99.30</td>\n",
       "    </tr>\n",
       "  </tbody>\n",
       "</table>\n",
       "</div>"
      ],
      "text/plain": [
       "       Name  Accuracy  Precision  Recall  F1-Score  ROC Score\n",
       "0       KNN     89.28     100.00   78.49     87.95      89.24\n",
       "1       DTC     97.97      98.74   97.17     97.95      97.97\n",
       "2       RFC     99.49      99.35   99.62     99.49      99.49\n",
       "3        GB     96.43      96.22   96.62     96.42      96.43\n",
       "4  XG Boost     99.30      99.26   99.33     99.29      99.30"
      ]
     },
     "execution_count": 160,
     "metadata": {},
     "output_type": "execute_result"
    }
   ],
   "source": [
    "models = []\n",
    "from sklearn.neighbors import KNeighborsClassifier\n",
    "from sklearn.tree import DecisionTreeClassifier\n",
    "from sklearn.ensemble import RandomForestClassifier\n",
    "from sklearn.svm import SVC\n",
    "from xgboost import XGBClassifier\n",
    "models.append(('KNN', KNeighborsClassifier()))\n",
    "models.append(('DTC', DecisionTreeClassifier(random_state=50)))\n",
    "models.append(('RFC', RandomForestClassifier(random_state=50)))\n",
    "models.append(('GB', GradientBoostingClassifier(random_state=50)))\n",
    "models.append(('XG Boost', XGBClassifier(objective=\"binary:logistic\", random_state=50, eval_metric=\"auc\")))\n",
    "\n",
    "names = []\n",
    "scores = []\n",
    "rec = []\n",
    "pre = []\n",
    "f = []\n",
    "roc = []\n",
    "for name, model in models:\n",
    "    model.fit(X_train, y_train)\n",
    "    y_pred = model.predict(X_test)\n",
    "    scores.append(round((accuracy_score(y_test, y_pred)*100), 2))\n",
    "    pre.append(round((precision_score(y_test,y_pred)*100), 2))\n",
    "    rec.append(round((recall_score(y_test,y_pred)*100), 2))           \n",
    "    f.append(round((f1_score(y_test,y_pred)*100), 2))          \n",
    "    roc.append(round((roc_auc_score(y_test,y_pred)*100), 2))\n",
    "    \n",
    "    names.append(name)\n",
    "tr_split = pd.DataFrame({'Name': names, 'Accuracy': scores, 'Precision': pre, 'Recall': rec, \"F1-Score\": f, \"ROC Score\": roc})\n",
    "tr_split"
   ]
  },
  {
   "cell_type": "code",
   "execution_count": null,
   "metadata": {},
   "outputs": [],
   "source": []
  },
  {
   "cell_type": "code",
   "execution_count": null,
   "metadata": {},
   "outputs": [],
   "source": []
  },
  {
   "cell_type": "code",
   "execution_count": null,
   "metadata": {},
   "outputs": [],
   "source": []
  },
  {
   "cell_type": "code",
   "execution_count": null,
   "metadata": {},
   "outputs": [],
   "source": []
  },
  {
   "cell_type": "code",
   "execution_count": null,
   "metadata": {},
   "outputs": [],
   "source": []
  },
  {
   "cell_type": "code",
   "execution_count": null,
   "metadata": {},
   "outputs": [],
   "source": []
  }
 ],
 "metadata": {
  "kernelspec": {
   "display_name": "Python 3 (ipykernel)",
   "language": "python",
   "name": "python3"
  },
  "language_info": {
   "codemirror_mode": {
    "name": "ipython",
    "version": 3
   },
   "file_extension": ".py",
   "mimetype": "text/x-python",
   "name": "python",
   "nbconvert_exporter": "python",
   "pygments_lexer": "ipython3",
   "version": "3.9.12"
  }
 },
 "nbformat": 4,
 "nbformat_minor": 4
}
