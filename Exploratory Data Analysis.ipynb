{
 "cells": [
  {
   "cell_type": "markdown",
   "metadata": {
    "id": "yaOdIe9qUE0g"
   },
   "source": [
    "### Bangla Fake News Detection"
   ]
  },
  {
   "cell_type": "markdown",
   "metadata": {
    "id": "C2KReDM3UE0i"
   },
   "source": [
    "#### Md. Asifur Rahman\n",
    "#### ID: 18.02.04.114"
   ]
  },
  {
   "cell_type": "markdown",
   "metadata": {
    "id": "gk1rIiRdUE0j"
   },
   "source": [
    "### Pre-processing"
   ]
  },
  {
   "cell_type": "code",
   "execution_count": 1,
   "metadata": {
    "id": "EqnJR-fOUE0k"
   },
   "outputs": [],
   "source": [
    "import pandas as pd\n",
    "import numpy as np\n",
    "import matplotlib.pyplot as plt\n",
    "%matplotlib inline"
   ]
  },
  {
   "cell_type": "code",
   "execution_count": 2,
   "metadata": {
    "colab": {
     "base_uri": "https://localhost:8080/",
     "height": 344
    },
    "id": "I9ZEUs5LUE0l",
    "outputId": "5a03665f-e4a6-4906-baed-777e987df291"
   },
   "outputs": [
    {
     "data": {
      "text/html": [
       "<div>\n",
       "<style scoped>\n",
       "    .dataframe tbody tr th:only-of-type {\n",
       "        vertical-align: middle;\n",
       "    }\n",
       "\n",
       "    .dataframe tbody tr th {\n",
       "        vertical-align: top;\n",
       "    }\n",
       "\n",
       "    .dataframe thead th {\n",
       "        text-align: right;\n",
       "    }\n",
       "</style>\n",
       "<table border=\"1\" class=\"dataframe\">\n",
       "  <thead>\n",
       "    <tr style=\"text-align: right;\">\n",
       "      <th></th>\n",
       "      <th>articleID</th>\n",
       "      <th>domain</th>\n",
       "      <th>date</th>\n",
       "      <th>category</th>\n",
       "      <th>headline</th>\n",
       "      <th>content</th>\n",
       "      <th>label</th>\n",
       "    </tr>\n",
       "  </thead>\n",
       "  <tbody>\n",
       "    <tr>\n",
       "      <th>0</th>\n",
       "      <td>1</td>\n",
       "      <td>channeldhaka.news</td>\n",
       "      <td>2019-03-14T13:34:14+00:00</td>\n",
       "      <td>International</td>\n",
       "      <td>মুরগির হামলায় শেয়াল নিহত</td>\n",
       "      <td>বাংলায় একটা প্রবাদ আছে, শেয়ালের কাছে মুরগী বর্...</td>\n",
       "      <td>0</td>\n",
       "    </tr>\n",
       "    <tr>\n",
       "      <th>1</th>\n",
       "      <td>2</td>\n",
       "      <td>earki.com</td>\n",
       "      <td>সেম্বর ১৭, ২০১৮</td>\n",
       "      <td>Miscellaneous</td>\n",
       "      <td>বিটিভিতে যেবার আমি ইন্টারভিউ দিতে গেলাম</td>\n",
       "      <td>BTV থেকে লোকজন আসছে, ইন্টারভিউ নিবে।চারজনের টি...</td>\n",
       "      <td>0</td>\n",
       "    </tr>\n",
       "    <tr>\n",
       "      <th>2</th>\n",
       "      <td>3</td>\n",
       "      <td>earki.com</td>\n",
       "      <td>২০:৩৯, জানুয়ারি ১৪, ২০১৯</td>\n",
       "      <td>Miscellaneous</td>\n",
       "      <td>বিদেশ থেকে উন্নতমানের বিরোধীদল আমদানি করার পরা...</td>\n",
       "      <td>অদ্ভুত বিরোধীদলহীনতায় ভুগছে সরকার। এ এক অন্যরক...</td>\n",
       "      <td>0</td>\n",
       "    </tr>\n",
       "    <tr>\n",
       "      <th>3</th>\n",
       "      <td>4</td>\n",
       "      <td>channeldhaka.news</td>\n",
       "      <td>2018-06-30T15:56:47+00:00</td>\n",
       "      <td>Sports</td>\n",
       "      <td>অবসর নেয়ার ঘোষণা দিলেন মেসি !</td>\n",
       "      <td>রাশিয়া বিশ্বকাপ নকআউট পর্বে ফ্রান্সের সাথে ৪-৩...</td>\n",
       "      <td>0</td>\n",
       "    </tr>\n",
       "    <tr>\n",
       "      <th>4</th>\n",
       "      <td>5</td>\n",
       "      <td>motikontho.wordpress.com</td>\n",
       "      <td>2013-03-05T21:55:45+00:00</td>\n",
       "      <td>Miscellaneous</td>\n",
       "      <td>মাদারফাকার নহে, ব্রাদারফাকার: সাকা | দৈনিক মতি...</td>\n",
       "      <td>নিজস্ব মতিবেদক‘মাদারফাকার নহে, আমি ব্রাদারফাকা...</td>\n",
       "      <td>0</td>\n",
       "    </tr>\n",
       "    <tr>\n",
       "      <th>...</th>\n",
       "      <td>...</td>\n",
       "      <td>...</td>\n",
       "      <td>...</td>\n",
       "      <td>...</td>\n",
       "      <td>...</td>\n",
       "      <td>...</td>\n",
       "      <td>...</td>\n",
       "    </tr>\n",
       "    <tr>\n",
       "      <th>1294</th>\n",
       "      <td>1303</td>\n",
       "      <td>bengalbeats.com</td>\n",
       "      <td>2019-03-31T21:34:42+00:00</td>\n",
       "      <td>Miscellaneous</td>\n",
       "      <td>রাজশাহীতে স্বামীর হাঁচির আওয়াজে ঘুমের মধ্যেই স...</td>\n",
       "      <td>রাজশাহীর সাহেব বাজার মোড়ে রাতে ঘুমের মধ্যে হাস...</td>\n",
       "      <td>0</td>\n",
       "    </tr>\n",
       "    <tr>\n",
       "      <th>1295</th>\n",
       "      <td>1304</td>\n",
       "      <td>bengaliviralnews.com</td>\n",
       "      <td>2018-01-16T15:36:12+00:00</td>\n",
       "      <td>Miscellaneous</td>\n",
       "      <td>IAS ইন্টারভিউ এ মেয়েটিকে জিজ্ঞসা করা হল মেয়েদে...</td>\n",
       "      <td>IAS পরীক্ষায় এমন এমন অবাক করে দেওয়া প্রশ্ন এসে...</td>\n",
       "      <td>0</td>\n",
       "    </tr>\n",
       "    <tr>\n",
       "      <th>1296</th>\n",
       "      <td>1305</td>\n",
       "      <td>channeldhaka.news</td>\n",
       "      <td>2018-12-03T18:09:08+00:00</td>\n",
       "      <td>Crime</td>\n",
       "      <td>শাওমি মোবাইল বিস্ফোরণে কলেজছাত্রের মৃত্যু!</td>\n",
       "      <td>শাওমি মোবাইল ফোন বিস্ফোরণ হয়ে স্বপ্নীল মজুমদা...</td>\n",
       "      <td>0</td>\n",
       "    </tr>\n",
       "    <tr>\n",
       "      <th>1297</th>\n",
       "      <td>1306</td>\n",
       "      <td>earki.com</td>\n",
       "      <td>১৭:৩৬, জানুয়ারি ০৭, ২০১৯</td>\n",
       "      <td>Miscellaneous</td>\n",
       "      <td>ফেসবুকে যেভাবে নতুন মন্ত্রীদের অভিনন্দন বার্তা...</td>\n",
       "      <td>আপনাকে নতুন মন্ত্রিসভার সদস্যদের অভিনন্দন জানা...</td>\n",
       "      <td>0</td>\n",
       "    </tr>\n",
       "    <tr>\n",
       "      <th>1298</th>\n",
       "      <td>1307</td>\n",
       "      <td>channeldhaka.news</td>\n",
       "      <td>2019-03-09T23:00:05+00:00</td>\n",
       "      <td>International</td>\n",
       "      <td>মাঝ আকাশে পর্ন দেখার অভিযোগে পাইলট আটক!</td>\n",
       "      <td>বিমান যখন আকাশে তখন আর কোনও দিকে খেয়াল না রেখ...</td>\n",
       "      <td>0</td>\n",
       "    </tr>\n",
       "  </tbody>\n",
       "</table>\n",
       "<p>1299 rows × 7 columns</p>\n",
       "</div>"
      ],
      "text/plain": [
       "      articleID                    domain                        date  \\\n",
       "0             1         channeldhaka.news   2019-03-14T13:34:14+00:00   \n",
       "1             2                 earki.com            সেম্বর ১৭, ২০১৮    \n",
       "2             3                 earki.com  ২০:৩৯, জানুয়ারি ১৪, ২০১৯    \n",
       "3             4         channeldhaka.news   2018-06-30T15:56:47+00:00   \n",
       "4             5  motikontho.wordpress.com   2013-03-05T21:55:45+00:00   \n",
       "...         ...                       ...                         ...   \n",
       "1294       1303           bengalbeats.com   2019-03-31T21:34:42+00:00   \n",
       "1295       1304      bengaliviralnews.com   2018-01-16T15:36:12+00:00   \n",
       "1296       1305         channeldhaka.news   2018-12-03T18:09:08+00:00   \n",
       "1297       1306                 earki.com  ১৭:৩৬, জানুয়ারি ০৭, ২০১৯    \n",
       "1298       1307         channeldhaka.news   2019-03-09T23:00:05+00:00   \n",
       "\n",
       "           category                                           headline  \\\n",
       "0     International                           মুরগির হামলায় শেয়াল নিহত   \n",
       "1     Miscellaneous            বিটিভিতে যেবার আমি ইন্টারভিউ দিতে গেলাম   \n",
       "2     Miscellaneous  বিদেশ থেকে উন্নতমানের বিরোধীদল আমদানি করার পরা...   \n",
       "3            Sports                      অবসর নেয়ার ঘোষণা দিলেন মেসি !   \n",
       "4     Miscellaneous  মাদারফাকার নহে, ব্রাদারফাকার: সাকা | দৈনিক মতি...   \n",
       "...             ...                                                ...   \n",
       "1294  Miscellaneous  রাজশাহীতে স্বামীর হাঁচির আওয়াজে ঘুমের মধ্যেই স...   \n",
       "1295  Miscellaneous  IAS ইন্টারভিউ এ মেয়েটিকে জিজ্ঞসা করা হল মেয়েদে...   \n",
       "1296          Crime         শাওমি মোবাইল বিস্ফোরণে কলেজছাত্রের মৃত্যু!   \n",
       "1297  Miscellaneous  ফেসবুকে যেভাবে নতুন মন্ত্রীদের অভিনন্দন বার্তা...   \n",
       "1298  International            মাঝ আকাশে পর্ন দেখার অভিযোগে পাইলট আটক!   \n",
       "\n",
       "                                                content  label  \n",
       "0     বাংলায় একটা প্রবাদ আছে, শেয়ালের কাছে মুরগী বর্...      0  \n",
       "1     BTV থেকে লোকজন আসছে, ইন্টারভিউ নিবে।চারজনের টি...      0  \n",
       "2     অদ্ভুত বিরোধীদলহীনতায় ভুগছে সরকার। এ এক অন্যরক...      0  \n",
       "3     রাশিয়া বিশ্বকাপ নকআউট পর্বে ফ্রান্সের সাথে ৪-৩...      0  \n",
       "4     নিজস্ব মতিবেদক‘মাদারফাকার নহে, আমি ব্রাদারফাকা...      0  \n",
       "...                                                 ...    ...  \n",
       "1294  রাজশাহীর সাহেব বাজার মোড়ে রাতে ঘুমের মধ্যে হাস...      0  \n",
       "1295  IAS পরীক্ষায় এমন এমন অবাক করে দেওয়া প্রশ্ন এসে...      0  \n",
       "1296  শাওমি মোবাইল ফোন বিস্ফোরণ হয়ে স্বপ্নীল মজুমদা...      0  \n",
       "1297  আপনাকে নতুন মন্ত্রিসভার সদস্যদের অভিনন্দন জানা...      0  \n",
       "1298  বিমান যখন আকাশে তখন আর কোনও দিকে খেয়াল না রেখ...      0  \n",
       "\n",
       "[1299 rows x 7 columns]"
      ]
     },
     "execution_count": 2,
     "metadata": {},
     "output_type": "execute_result"
    }
   ],
   "source": [
    "df_fake = pd.read_csv(\"Fake-1K.csv\")\n",
    "df_fake"
   ]
  },
  {
   "cell_type": "code",
   "execution_count": null,
   "metadata": {
    "id": "jkYBJAFAUE0m",
    "outputId": "1a30636b-daa3-40b2-edea-28cbc9a1c3e0"
   },
   "outputs": [
    {
     "data": {
      "text/html": [
       "<div>\n",
       "<style scoped>\n",
       "    .dataframe tbody tr th:only-of-type {\n",
       "        vertical-align: middle;\n",
       "    }\n",
       "\n",
       "    .dataframe tbody tr th {\n",
       "        vertical-align: top;\n",
       "    }\n",
       "\n",
       "    .dataframe thead th {\n",
       "        text-align: right;\n",
       "    }\n",
       "</style>\n",
       "<table border=\"1\" class=\"dataframe\">\n",
       "  <thead>\n",
       "    <tr style=\"text-align: right;\">\n",
       "      <th></th>\n",
       "      <th>articleID</th>\n",
       "      <th>domain</th>\n",
       "      <th>date</th>\n",
       "      <th>category</th>\n",
       "      <th>headline</th>\n",
       "      <th>content</th>\n",
       "      <th>label</th>\n",
       "    </tr>\n",
       "  </thead>\n",
       "  <tbody>\n",
       "    <tr>\n",
       "      <th>0</th>\n",
       "      <td>1</td>\n",
       "      <td>jagonews24.com</td>\n",
       "      <td>2018-09-19 17:48:18</td>\n",
       "      <td>Education</td>\n",
       "      <td>হট্টগোল করায় বাকৃবিতে দুইজন বরখাস্ত, ৬ জনকে শোকজ</td>\n",
       "      <td>গত ১৭ সেপ্টেম্বর বাংলাদেশ কৃষি বিশ্ববিদ্যালয়ে ...</td>\n",
       "      <td>1</td>\n",
       "    </tr>\n",
       "    <tr>\n",
       "      <th>1</th>\n",
       "      <td>2</td>\n",
       "      <td>jagonews24.com</td>\n",
       "      <td>2018-09-19 17:48:19</td>\n",
       "      <td>National</td>\n",
       "      <td>মালয়েশিয়ায় কর্মী পাঠানোর ব্যবস্থা নেয়ার সুপারিশ</td>\n",
       "      <td>বাংলাদেশের বৃহৎ শ্রমবাজার মালয়েশিয়ায় আবার শ্রম...</td>\n",
       "      <td>1</td>\n",
       "    </tr>\n",
       "    <tr>\n",
       "      <th>2</th>\n",
       "      <td>3</td>\n",
       "      <td>jagonews24.com</td>\n",
       "      <td>2018-09-19 17:48:20</td>\n",
       "      <td>National</td>\n",
       "      <td>প্রেমের প্রস্তাবে রাজি না হওয়ায় স্কুলছাত্রীকে ...</td>\n",
       "      <td>নরসিংদীর মনোহরদীতে প্রেমের প্রস্তাবে রাজি না হ...</td>\n",
       "      <td>1</td>\n",
       "    </tr>\n",
       "    <tr>\n",
       "      <th>3</th>\n",
       "      <td>4</td>\n",
       "      <td>jagonews24.com</td>\n",
       "      <td>2018-09-19 17:48:21</td>\n",
       "      <td>Crime</td>\n",
       "      <td>মেডিয়েশনই মামলাজট নিরসনের পথ : বিচারপতি আহমেদ ...</td>\n",
       "      <td>সুপ্রিম কোর্টের হাইকোর্ট বিভাগের বিচারপতি আহমে...</td>\n",
       "      <td>1</td>\n",
       "    </tr>\n",
       "    <tr>\n",
       "      <th>4</th>\n",
       "      <td>5</td>\n",
       "      <td>jagonews24.com</td>\n",
       "      <td>2018-09-19 17:48:21</td>\n",
       "      <td>National</td>\n",
       "      <td>টকশোতে বক্তব্য দিতে গিয়ে জাপা নেতার মৃত্যু</td>\n",
       "      <td>মাদারীপুর সদরের উপজেলার লেকেরপাড়ে একটি বেসরকার...</td>\n",
       "      <td>1</td>\n",
       "    </tr>\n",
       "    <tr>\n",
       "      <th>...</th>\n",
       "      <td>...</td>\n",
       "      <td>...</td>\n",
       "      <td>...</td>\n",
       "      <td>...</td>\n",
       "      <td>...</td>\n",
       "      <td>...</td>\n",
       "      <td>...</td>\n",
       "    </tr>\n",
       "    <tr>\n",
       "      <th>48673</th>\n",
       "      <td>61776</td>\n",
       "      <td>banglanews24.com</td>\n",
       "      <td>2018-10-11 16:39:23</td>\n",
       "      <td>Sports</td>\n",
       "      <td>এনসিএলে তিতলির প্রভাব, সব ম্যাচ ড্র</td>\n",
       "      <td>প্রথমে বাংলাদেশের কাছ দিয়ে যাওয়ার কথা থাকলেও ঘ...</td>\n",
       "      <td>1</td>\n",
       "    </tr>\n",
       "    <tr>\n",
       "      <th>48674</th>\n",
       "      <td>61777</td>\n",
       "      <td>banglanews24.com</td>\n",
       "      <td>2018-10-11 16:39:27</td>\n",
       "      <td>International</td>\n",
       "      <td>কর্ম-বসবাসে সেরা সিঙ্গাপুর, আয়ে সুইজারল্যান্ড</td>\n",
       "      <td>উন্নত জীবনযাপনের জন্য অনেকেই বিদেশে পাড়ি দেন। ...</td>\n",
       "      <td>1</td>\n",
       "    </tr>\n",
       "    <tr>\n",
       "      <th>48675</th>\n",
       "      <td>61778</td>\n",
       "      <td>banglanews24.com</td>\n",
       "      <td>2018-10-11 16:39:30</td>\n",
       "      <td>Politics</td>\n",
       "      <td>জয়পুরহাটে জামায়াতের ১৯ নেতাকর্মী আটক</td>\n",
       "      <td>জয়পুরহাট: সরকার বিরোধী গোপন বৈঠকের সময় জয়পুরহা...</td>\n",
       "      <td>1</td>\n",
       "    </tr>\n",
       "    <tr>\n",
       "      <th>48676</th>\n",
       "      <td>61779</td>\n",
       "      <td>banglanews24.com</td>\n",
       "      <td>2018-10-11 16:39:32</td>\n",
       "      <td>National</td>\n",
       "      <td>ভ্যানগার্ড পোশাক কারখানাকে জরিমানা</td>\n",
       "      <td>চট্টগ্রাম: পরিবেশ দূষণের দায়ে নগরের আগ্রাবাদ এ...</td>\n",
       "      <td>1</td>\n",
       "    </tr>\n",
       "    <tr>\n",
       "      <th>48677</th>\n",
       "      <td>61780</td>\n",
       "      <td>banglanews24.com</td>\n",
       "      <td>2018-10-11 16:39:36</td>\n",
       "      <td>National</td>\n",
       "      <td>উল্লাপাড়ায় ভেজাল সার-কীটনাশক তৈরির কারখানা সিল...</td>\n",
       "      <td>সিরাজগঞ্জ: সিরাজগঞ্জের উল্লাপাড়ায় অভিযান চালিয়...</td>\n",
       "      <td>1</td>\n",
       "    </tr>\n",
       "  </tbody>\n",
       "</table>\n",
       "<p>48678 rows × 7 columns</p>\n",
       "</div>"
      ],
      "text/plain": [
       "       articleID            domain                 date       category  \\\n",
       "0              1    jagonews24.com  2018-09-19 17:48:18      Education   \n",
       "1              2    jagonews24.com  2018-09-19 17:48:19       National   \n",
       "2              3    jagonews24.com  2018-09-19 17:48:20       National   \n",
       "3              4    jagonews24.com  2018-09-19 17:48:21          Crime   \n",
       "4              5    jagonews24.com  2018-09-19 17:48:21       National   \n",
       "...          ...               ...                  ...            ...   \n",
       "48673      61776  banglanews24.com  2018-10-11 16:39:23         Sports   \n",
       "48674      61777  banglanews24.com  2018-10-11 16:39:27  International   \n",
       "48675      61778  banglanews24.com  2018-10-11 16:39:30       Politics   \n",
       "48676      61779  banglanews24.com  2018-10-11 16:39:32       National   \n",
       "48677      61780  banglanews24.com  2018-10-11 16:39:36       National   \n",
       "\n",
       "                                                headline  \\\n",
       "0       হট্টগোল করায় বাকৃবিতে দুইজন বরখাস্ত, ৬ জনকে শোকজ   \n",
       "1        মালয়েশিয়ায় কর্মী পাঠানোর ব্যবস্থা নেয়ার সুপারিশ   \n",
       "2      প্রেমের প্রস্তাবে রাজি না হওয়ায় স্কুলছাত্রীকে ...   \n",
       "3      মেডিয়েশনই মামলাজট নিরসনের পথ : বিচারপতি আহমেদ ...   \n",
       "4             টকশোতে বক্তব্য দিতে গিয়ে জাপা নেতার মৃত্যু   \n",
       "...                                                  ...   \n",
       "48673                এনসিএলে তিতলির প্রভাব, সব ম্যাচ ড্র   \n",
       "48674      কর্ম-বসবাসে সেরা সিঙ্গাপুর, আয়ে সুইজারল্যান্ড   \n",
       "48675               জয়পুরহাটে জামায়াতের ১৯ নেতাকর্মী আটক   \n",
       "48676                 ভ্যানগার্ড পোশাক কারখানাকে জরিমানা   \n",
       "48677  উল্লাপাড়ায় ভেজাল সার-কীটনাশক তৈরির কারখানা সিল...   \n",
       "\n",
       "                                                 content  label  \n",
       "0      গত ১৭ সেপ্টেম্বর বাংলাদেশ কৃষি বিশ্ববিদ্যালয়ে ...      1  \n",
       "1      বাংলাদেশের বৃহৎ শ্রমবাজার মালয়েশিয়ায় আবার শ্রম...      1  \n",
       "2      নরসিংদীর মনোহরদীতে প্রেমের প্রস্তাবে রাজি না হ...      1  \n",
       "3      সুপ্রিম কোর্টের হাইকোর্ট বিভাগের বিচারপতি আহমে...      1  \n",
       "4      মাদারীপুর সদরের উপজেলার লেকেরপাড়ে একটি বেসরকার...      1  \n",
       "...                                                  ...    ...  \n",
       "48673  প্রথমে বাংলাদেশের কাছ দিয়ে যাওয়ার কথা থাকলেও ঘ...      1  \n",
       "48674  উন্নত জীবনযাপনের জন্য অনেকেই বিদেশে পাড়ি দেন। ...      1  \n",
       "48675  জয়পুরহাট: সরকার বিরোধী গোপন বৈঠকের সময় জয়পুরহা...      1  \n",
       "48676  চট্টগ্রাম: পরিবেশ দূষণের দায়ে নগরের আগ্রাবাদ এ...      1  \n",
       "48677  সিরাজগঞ্জ: সিরাজগঞ্জের উল্লাপাড়ায় অভিযান চালিয়...      1  \n",
       "\n",
       "[48678 rows x 7 columns]"
      ]
     },
     "execution_count": 3,
     "metadata": {},
     "output_type": "execute_result"
    }
   ],
   "source": [
    "df_true = pd.read_csv(\"Authentic-48K.csv\")\n",
    "df_true"
   ]
  },
  {
   "cell_type": "code",
   "execution_count": null,
   "metadata": {
    "id": "DLNebHHTUE0m",
    "outputId": "6f83bc85-70a3-479e-e480-411a961401ea"
   },
   "outputs": [
    {
     "data": {
      "text/html": [
       "<div>\n",
       "<style scoped>\n",
       "    .dataframe tbody tr th:only-of-type {\n",
       "        vertical-align: middle;\n",
       "    }\n",
       "\n",
       "    .dataframe tbody tr th {\n",
       "        vertical-align: top;\n",
       "    }\n",
       "\n",
       "    .dataframe thead th {\n",
       "        text-align: right;\n",
       "    }\n",
       "</style>\n",
       "<table border=\"1\" class=\"dataframe\">\n",
       "  <thead>\n",
       "    <tr style=\"text-align: right;\">\n",
       "      <th></th>\n",
       "      <th>articleID</th>\n",
       "      <th>domain</th>\n",
       "      <th>date</th>\n",
       "      <th>category</th>\n",
       "      <th>headline</th>\n",
       "      <th>content</th>\n",
       "      <th>label</th>\n",
       "    </tr>\n",
       "  </thead>\n",
       "  <tbody>\n",
       "    <tr>\n",
       "      <th>0</th>\n",
       "      <td>1</td>\n",
       "      <td>jagonews24.com</td>\n",
       "      <td>2018-09-19 17:48:18</td>\n",
       "      <td>Education</td>\n",
       "      <td>হট্টগোল করায় বাকৃবিতে দুইজন বরখাস্ত, ৬ জনকে শোকজ</td>\n",
       "      <td>গত ১৭ সেপ্টেম্বর বাংলাদেশ কৃষি বিশ্ববিদ্যালয়ে ...</td>\n",
       "      <td>1</td>\n",
       "    </tr>\n",
       "    <tr>\n",
       "      <th>1</th>\n",
       "      <td>2</td>\n",
       "      <td>jagonews24.com</td>\n",
       "      <td>2018-09-19 17:48:19</td>\n",
       "      <td>National</td>\n",
       "      <td>মালয়েশিয়ায় কর্মী পাঠানোর ব্যবস্থা নেয়ার সুপারিশ</td>\n",
       "      <td>বাংলাদেশের বৃহৎ শ্রমবাজার মালয়েশিয়ায় আবার শ্রম...</td>\n",
       "      <td>1</td>\n",
       "    </tr>\n",
       "    <tr>\n",
       "      <th>2</th>\n",
       "      <td>3</td>\n",
       "      <td>jagonews24.com</td>\n",
       "      <td>2018-09-19 17:48:20</td>\n",
       "      <td>National</td>\n",
       "      <td>প্রেমের প্রস্তাবে রাজি না হওয়ায় স্কুলছাত্রীকে ...</td>\n",
       "      <td>নরসিংদীর মনোহরদীতে প্রেমের প্রস্তাবে রাজি না হ...</td>\n",
       "      <td>1</td>\n",
       "    </tr>\n",
       "    <tr>\n",
       "      <th>3</th>\n",
       "      <td>4</td>\n",
       "      <td>jagonews24.com</td>\n",
       "      <td>2018-09-19 17:48:21</td>\n",
       "      <td>Crime</td>\n",
       "      <td>মেডিয়েশনই মামলাজট নিরসনের পথ : বিচারপতি আহমেদ ...</td>\n",
       "      <td>সুপ্রিম কোর্টের হাইকোর্ট বিভাগের বিচারপতি আহমে...</td>\n",
       "      <td>1</td>\n",
       "    </tr>\n",
       "    <tr>\n",
       "      <th>4</th>\n",
       "      <td>5</td>\n",
       "      <td>jagonews24.com</td>\n",
       "      <td>2018-09-19 17:48:21</td>\n",
       "      <td>National</td>\n",
       "      <td>টকশোতে বক্তব্য দিতে গিয়ে জাপা নেতার মৃত্যু</td>\n",
       "      <td>মাদারীপুর সদরের উপজেলার লেকেরপাড়ে একটি বেসরকার...</td>\n",
       "      <td>1</td>\n",
       "    </tr>\n",
       "    <tr>\n",
       "      <th>...</th>\n",
       "      <td>...</td>\n",
       "      <td>...</td>\n",
       "      <td>...</td>\n",
       "      <td>...</td>\n",
       "      <td>...</td>\n",
       "      <td>...</td>\n",
       "      <td>...</td>\n",
       "    </tr>\n",
       "    <tr>\n",
       "      <th>1294</th>\n",
       "      <td>1303</td>\n",
       "      <td>bengalbeats.com</td>\n",
       "      <td>2019-03-31T21:34:42+00:00</td>\n",
       "      <td>Miscellaneous</td>\n",
       "      <td>রাজশাহীতে স্বামীর হাঁচির আওয়াজে ঘুমের মধ্যেই স...</td>\n",
       "      <td>রাজশাহীর সাহেব বাজার মোড়ে রাতে ঘুমের মধ্যে হাস...</td>\n",
       "      <td>0</td>\n",
       "    </tr>\n",
       "    <tr>\n",
       "      <th>1295</th>\n",
       "      <td>1304</td>\n",
       "      <td>bengaliviralnews.com</td>\n",
       "      <td>2018-01-16T15:36:12+00:00</td>\n",
       "      <td>Miscellaneous</td>\n",
       "      <td>IAS ইন্টারভিউ এ মেয়েটিকে জিজ্ঞসা করা হল মেয়েদে...</td>\n",
       "      <td>IAS পরীক্ষায় এমন এমন অবাক করে দেওয়া প্রশ্ন এসে...</td>\n",
       "      <td>0</td>\n",
       "    </tr>\n",
       "    <tr>\n",
       "      <th>1296</th>\n",
       "      <td>1305</td>\n",
       "      <td>channeldhaka.news</td>\n",
       "      <td>2018-12-03T18:09:08+00:00</td>\n",
       "      <td>Crime</td>\n",
       "      <td>শাওমি মোবাইল বিস্ফোরণে কলেজছাত্রের মৃত্যু!</td>\n",
       "      <td>শাওমি মোবাইল ফোন বিস্ফোরণ হয়ে স্বপ্নীল মজুমদা...</td>\n",
       "      <td>0</td>\n",
       "    </tr>\n",
       "    <tr>\n",
       "      <th>1297</th>\n",
       "      <td>1306</td>\n",
       "      <td>earki.com</td>\n",
       "      <td>১৭:৩৬, জানুয়ারি ০৭, ২০১৯</td>\n",
       "      <td>Miscellaneous</td>\n",
       "      <td>ফেসবুকে যেভাবে নতুন মন্ত্রীদের অভিনন্দন বার্তা...</td>\n",
       "      <td>আপনাকে নতুন মন্ত্রিসভার সদস্যদের অভিনন্দন জানা...</td>\n",
       "      <td>0</td>\n",
       "    </tr>\n",
       "    <tr>\n",
       "      <th>1298</th>\n",
       "      <td>1307</td>\n",
       "      <td>channeldhaka.news</td>\n",
       "      <td>2019-03-09T23:00:05+00:00</td>\n",
       "      <td>International</td>\n",
       "      <td>মাঝ আকাশে পর্ন দেখার অভিযোগে পাইলট আটক!</td>\n",
       "      <td>বিমান যখন আকাশে তখন আর কোনও দিকে খেয়াল না রেখ...</td>\n",
       "      <td>0</td>\n",
       "    </tr>\n",
       "  </tbody>\n",
       "</table>\n",
       "<p>49977 rows × 7 columns</p>\n",
       "</div>"
      ],
      "text/plain": [
       "      articleID                domain                        date  \\\n",
       "0             1        jagonews24.com         2018-09-19 17:48:18   \n",
       "1             2        jagonews24.com         2018-09-19 17:48:19   \n",
       "2             3        jagonews24.com         2018-09-19 17:48:20   \n",
       "3             4        jagonews24.com         2018-09-19 17:48:21   \n",
       "4             5        jagonews24.com         2018-09-19 17:48:21   \n",
       "...         ...                   ...                         ...   \n",
       "1294       1303       bengalbeats.com   2019-03-31T21:34:42+00:00   \n",
       "1295       1304  bengaliviralnews.com   2018-01-16T15:36:12+00:00   \n",
       "1296       1305     channeldhaka.news   2018-12-03T18:09:08+00:00   \n",
       "1297       1306             earki.com  ১৭:৩৬, জানুয়ারি ০৭, ২০১৯    \n",
       "1298       1307     channeldhaka.news   2019-03-09T23:00:05+00:00   \n",
       "\n",
       "           category                                           headline  \\\n",
       "0         Education   হট্টগোল করায় বাকৃবিতে দুইজন বরখাস্ত, ৬ জনকে শোকজ   \n",
       "1          National    মালয়েশিয়ায় কর্মী পাঠানোর ব্যবস্থা নেয়ার সুপারিশ   \n",
       "2          National  প্রেমের প্রস্তাবে রাজি না হওয়ায় স্কুলছাত্রীকে ...   \n",
       "3             Crime  মেডিয়েশনই মামলাজট নিরসনের পথ : বিচারপতি আহমেদ ...   \n",
       "4          National         টকশোতে বক্তব্য দিতে গিয়ে জাপা নেতার মৃত্যু   \n",
       "...             ...                                                ...   \n",
       "1294  Miscellaneous  রাজশাহীতে স্বামীর হাঁচির আওয়াজে ঘুমের মধ্যেই স...   \n",
       "1295  Miscellaneous  IAS ইন্টারভিউ এ মেয়েটিকে জিজ্ঞসা করা হল মেয়েদে...   \n",
       "1296          Crime         শাওমি মোবাইল বিস্ফোরণে কলেজছাত্রের মৃত্যু!   \n",
       "1297  Miscellaneous  ফেসবুকে যেভাবে নতুন মন্ত্রীদের অভিনন্দন বার্তা...   \n",
       "1298  International            মাঝ আকাশে পর্ন দেখার অভিযোগে পাইলট আটক!   \n",
       "\n",
       "                                                content  label  \n",
       "0     গত ১৭ সেপ্টেম্বর বাংলাদেশ কৃষি বিশ্ববিদ্যালয়ে ...      1  \n",
       "1     বাংলাদেশের বৃহৎ শ্রমবাজার মালয়েশিয়ায় আবার শ্রম...      1  \n",
       "2     নরসিংদীর মনোহরদীতে প্রেমের প্রস্তাবে রাজি না হ...      1  \n",
       "3     সুপ্রিম কোর্টের হাইকোর্ট বিভাগের বিচারপতি আহমে...      1  \n",
       "4     মাদারীপুর সদরের উপজেলার লেকেরপাড়ে একটি বেসরকার...      1  \n",
       "...                                                 ...    ...  \n",
       "1294  রাজশাহীর সাহেব বাজার মোড়ে রাতে ঘুমের মধ্যে হাস...      0  \n",
       "1295  IAS পরীক্ষায় এমন এমন অবাক করে দেওয়া প্রশ্ন এসে...      0  \n",
       "1296  শাওমি মোবাইল ফোন বিস্ফোরণ হয়ে স্বপ্নীল মজুমদা...      0  \n",
       "1297  আপনাকে নতুন মন্ত্রিসভার সদস্যদের অভিনন্দন জানা...      0  \n",
       "1298  বিমান যখন আকাশে তখন আর কোনও দিকে খেয়াল না রেখ...      0  \n",
       "\n",
       "[49977 rows x 7 columns]"
      ]
     },
     "execution_count": 4,
     "metadata": {},
     "output_type": "execute_result"
    }
   ],
   "source": [
    "df = pd.concat([df_fake, df_true])\n",
    "df"
   ]
  },
  {
   "cell_type": "code",
   "execution_count": 2,
   "metadata": {
    "id": "kSdrRFiaabK4"
   },
   "outputs": [],
   "source": [
    "df_fake = pd.read_csv(\"/content/drive/MyDrive/CSE 4214 (Pattern Recognition Lab)/Banfake/Fake-1K.csv\")\n",
    "df_true = pd.read_csv(\"/content/drive/MyDrive/CSE 4214 (Pattern Recognition Lab)/Banfake/Authentic-48K.csv\")"
   ]
  },
  {
   "cell_type": "code",
   "execution_count": 4,
   "metadata": {
    "id": "d7JOxK2Yaf7P"
   },
   "outputs": [],
   "source": [
    "df = pd.concat([df_fake, df_true])\n"
   ]
  },
  {
   "cell_type": "code",
   "execution_count": 21,
   "metadata": {
    "colab": {
     "base_uri": "https://localhost:8080/"
    },
    "id": "PuPFbw7EUE0m",
    "outputId": "58f19846-e38f-4f87-c6ef-c589db3b6a85"
   },
   "outputs": [
    {
     "name": "stdout",
     "output_type": "stream",
     "text": [
      "0    বাংলায় একটা প্রবাদ আছে  শেয়ালের কাছে মুরগী বর্...\n",
      "1    BTV থেকে লোকজন আসছে  ইন্টারভিউ নিবে।চারজনের টি...\n",
      "2    অদ্ভুত বিরোধীদলহীনতায় ভুগছে সরকার। এ এক অন্যরক...\n",
      "3    রাশিয়া বিশ্বকাপ নকআউট পর্বে ফ্রান্সের সাথে ৪ ৩...\n",
      "4    নিজস্ব মতিবেদক‘মাদারফাকার নহে  আমি ব্রাদারফাকা...\n",
      "Name: content, dtype: object\n",
      "<class 'pandas.core.series.Series'>\n"
     ]
    }
   ],
   "source": [
    "content = df['content']\n",
    "print(content.head())\n",
    "print(type(content))"
   ]
  },
  {
   "cell_type": "code",
   "execution_count": 22,
   "metadata": {
    "colab": {
     "base_uri": "https://localhost:8080/"
    },
    "id": "P7oItP94UE0n",
    "outputId": "bf64f3f2-ac82-4dad-a9fb-cd13fbecb50d"
   },
   "outputs": [
    {
     "name": "stdout",
     "output_type": "stream",
     "text": [
      "<class 'numpy.ndarray'>\n"
     ]
    }
   ],
   "source": [
    "content = content.values\n",
    "print(type(content))"
   ]
  },
  {
   "cell_type": "code",
   "execution_count": 23,
   "metadata": {
    "colab": {
     "base_uri": "https://localhost:8080/",
     "height": 91
    },
    "id": "fko3whQcdTW1",
    "outputId": "9edf53f7-612d-4b69-9b54-91a0dba1e673"
   },
   "outputs": [
    {
     "data": {
      "application/vnd.google.colaboratory.intrinsic+json": {
       "type": "string"
      },
      "text/plain": [
       "'বাংলায় একটা প্রবাদ আছে  শেয়ালের কাছে মুরগী বর্গা দেওয়া। প্রবাদটা এজন্য বলা হয় যে  শিয়ালের কাজই হলো মুরগী খেয়ে ফেলা। শেয়ালের কাছ থেকে মুরগী কখনো নিজেকে রক্ষা করতে পারেনা।তবে ফ্রান্সের এক বিশ্ববিদ্যালয়ের শিক্ষক শিক্ষার্থীরা জানাচ্ছে  এবার এক আশ্চর্য্যজনক ঘটনা ঘটছে। মুরগীর হামলায় শিয়াল মারা গেছে।ঘটনাটি গত সপ্তাহের  ফ্রান্সের উত্তর পূর্বাঞ্চলের বুতানিয়া এলাকার একটি কৃষিবিষয়ক বিদ্যালয়ে। ওই বিদ্যালয়ে একটি মুরগির খামার রয়েছে। মুরগির ঘরের এক কোনায় সকালে মৃত একটি শিয়াল পড়ে থাকতে দেখে শিক্ষার্থীরা।৬ হাজার মুরগি রয়েছে খামারটিতে। শিয়ালটির মৃতদেহ যেখানে পাওয়া গেছে  সেখানে তিন হাজার মুরগি ছিল। মুরগিগুলো সারা দিন বাইরে চরে বেড়ায়। সন্ধ্যা হলে নিজ থেকে ঘরে উঠে আসে। সূর্য ডুবে গেলেই দরজা বন্ধ হয়ে যায় স্বয়ংক্রিয়ভাবে।স্থানীয় বন্য প্রাণী বিশেষজ্ঞরা জানিয়েছেন  এই ঘটনায় তাঁরা অবাক। শিয়ালটি বাচ্চা ও অনভিজ্ঞ ছিল। এতগুলো মুরগির সামনে পড়ে সে সম্ভবত ভড়কে গিয়েছিল।Source  BBC Bangla'"
      ]
     },
     "execution_count": 23,
     "metadata": {},
     "output_type": "execute_result"
    }
   ],
   "source": [
    "content[0]"
   ]
  },
  {
   "cell_type": "code",
   "execution_count": 7,
   "metadata": {
    "colab": {
     "base_uri": "https://localhost:8080/"
    },
    "id": "JlfR9uMKUE0n",
    "outputId": "6a5c3729-b639-4894-acad-5a032ff83a80"
   },
   "outputs": [
    {
     "name": "stdout",
     "output_type": "stream",
     "text": [
      "0                             মুরগির হামলায় শেয়াল নিহত\n",
      "1              বিটিভিতে যেবার আমি ইন্টারভিউ দিতে গেলাম\n",
      "2    বিদেশ থেকে উন্নতমানের বিরোধীদল আমদানি করার পরা...\n",
      "3                        অবসর নেয়ার ঘোষণা দিলেন মেসি !\n",
      "4    মাদারফাকার নহে, ব্রাদারফাকার: সাকা | দৈনিক মতি...\n",
      "Name: headline, dtype: object\n",
      "<class 'pandas.core.series.Series'>\n"
     ]
    }
   ],
   "source": [
    "headline = df['headline']\n",
    "print(headline.head())\n",
    "print(type(headline))"
   ]
  },
  {
   "cell_type": "code",
   "execution_count": 8,
   "metadata": {
    "colab": {
     "base_uri": "https://localhost:8080/"
    },
    "id": "TF5J94bIUE0n",
    "outputId": "52bf5633-acda-4e64-8afa-30227353419a"
   },
   "outputs": [
    {
     "name": "stdout",
     "output_type": "stream",
     "text": [
      "<class 'numpy.ndarray'>\n"
     ]
    }
   ],
   "source": [
    "headline = headline.values\n",
    "print(type(content))"
   ]
  },
  {
   "cell_type": "code",
   "execution_count": 9,
   "metadata": {
    "colab": {
     "base_uri": "https://localhost:8080/",
     "height": 313
    },
    "id": "y3g9NJalUE0o",
    "outputId": "a0ea4f2d-91ad-4794-8dac-8d2d562b7ade"
   },
   "outputs": [
    {
     "name": "stdout",
     "output_type": "stream",
     "text": [
      "Average length of contents: 1812.343\n"
     ]
    },
    {
     "data": {
      "image/png": "[encoded data removed]",
      "text/plain": [
       "<Figure size 432x288 with 1 Axes>"
      ]
     },
     "metadata": {
      "needs_background": "light"
     },
     "output_type": "display_data"
    }
   ],
   "source": [
    "x = [len(str(content[i])) for i in range(content.shape[0])]\n",
    "print('Average length of contents: {:.3f}'.format(np.mean(x)))\n",
    "bins = [1, 50, 100, 150, 200, 250, 300, 350, 400]\n",
    "plt.hist(x, bins = bins, color = 'g')\n",
    "plt.xlabel('Length of contents')\n",
    "plt.ylabel('Number of contents')\n",
    "plt.title('Analysis of contents based on length')\n",
    "plt.axis([0, 400, 0, 200])\n",
    "plt.grid(True)\n",
    "plt.show()"
   ]
  },
  {
   "cell_type": "code",
   "execution_count": 20,
   "metadata": {
    "colab": {
     "base_uri": "https://localhost:8080/",
     "height": 190
    },
    "id": "t8LIf-jKhK5u",
    "outputId": "f0170a08-6116-4631-ecd4-1f73c3da29e1"
   },
   "outputs": [
    {
     "ename": "AttributeError",
     "evalue": "ignored",
     "output_type": "error",
     "traceback": [
      "\u001b[0;31m---------------------------------------------------------------------------\u001b[0m",
      "\u001b[0;31mAttributeError\u001b[0m                            Traceback (most recent call last)",
      "\u001b[0;32m<ipython-input-20-79dfb81496c3>\u001b[0m in \u001b[0;36m<module>\u001b[0;34m\u001b[0m\n\u001b[1;32m      1\u001b[0m \u001b[0;31m# x = [str(content[i]) for i in range(len(content))]\u001b[0m\u001b[0;34m\u001b[0m\u001b[0;34m\u001b[0m\u001b[0;34m\u001b[0m\u001b[0m\n\u001b[0;32m----> 2\u001b[0;31m \u001b[0mcontent\u001b[0m\u001b[0;34m[\u001b[0m\u001b[0;36m0\u001b[0m\u001b[0;34m]\u001b[0m\u001b[0;34m.\u001b[0m\u001b[0mvalues\u001b[0m\u001b[0;34m\u001b[0m\u001b[0;34m\u001b[0m\u001b[0m\n\u001b[0m",
      "\u001b[0;31mAttributeError\u001b[0m: 'str' object has no attribute 'values'"
     ]
    }
   ],
   "source": [
    "# x = [str(content[i]) for i in range(len(content))]\n",
    "content[0].values"
   ]
  },
  {
   "cell_type": "code",
   "execution_count": null,
   "metadata": {
    "id": "sbEA8N2QUE0o",
    "outputId": "d52e4450-a29a-46c6-820c-656f611b4a1e"
   },
   "outputs": [
    {
     "data": {
      "text/plain": [
       "array(['Education', 'National', 'Crime', 'Entertainment', 'Finance',\n",
       "       'International', 'Sports', 'Miscellaneous', 'Politics',\n",
       "       'Lifestyle', 'Technology', 'Editorial'], dtype=object)"
      ]
     },
     "execution_count": 10,
     "metadata": {},
     "output_type": "execute_result"
    }
   ],
   "source": [
    "df['category'].unique()"
   ]
  },
  {
   "cell_type": "markdown",
   "metadata": {
    "id": "cyN9LG4AUE0o"
   },
   "source": [
    "### Punctuation to White Space"
   ]
  },
  {
   "cell_type": "code",
   "execution_count": 10,
   "metadata": {
    "colab": {
     "base_uri": "https://localhost:8080/"
    },
    "id": "5OUVUJWkUE0p",
    "outputId": "16d10a64-c42d-40b0-ea74-7f8c80b1942e"
   },
   "outputs": [
    {
     "name": "stdout",
     "output_type": "stream",
     "text": [
      "!\"#$%&()*+,-./:;<=>?@[\\]^_`{|}~0123456789\n"
     ]
    }
   ],
   "source": [
    "import string\n",
    "punctuation_edit = string.punctuation.replace('\\'','') + '0123456789'\n",
    "print(punctuation_edit)\n",
    "outtab = \"                                         \"\n",
    "trantab = str.maketrans(punctuation_edit, outtab)"
   ]
  },
  {
   "cell_type": "markdown",
   "metadata": {
    "id": "ZQXglntZUE0p"
   },
   "source": [
    "### Bangla stopwords"
   ]
  },
  {
   "cell_type": "code",
   "execution_count": 11,
   "metadata": {
    "colab": {
     "base_uri": "https://localhost:8080/"
    },
    "id": "NG1MrS2TUE0p",
    "outputId": "f40c8174-8e41-4516-ffb3-2e00d333cfb9"
   },
   "outputs": [
    {
     "data": {
      "text/plain": [
       "bytes"
      ]
     },
     "execution_count": 11,
     "metadata": {},
     "output_type": "execute_result"
    }
   ],
   "source": [
    "import requests\n",
    "url = 'https://github.com/stopwords-iso/stopwords-bn/blob/master/stopwords-bn.txt'\n",
    "read_data = requests.get(url).content\n",
    "type(read_data)"
   ]
  },
  {
   "cell_type": "code",
   "execution_count": 12,
   "metadata": {
    "colab": {
     "base_uri": "https://localhost:8080/"
    },
    "id": "1RmbYkkNUE0q",
    "outputId": "e7ae1411-b37e-4e6f-abad-8336a93b75fd"
   },
   "outputs": [
    {
     "name": "stderr",
     "output_type": "stream",
     "text": [
      "[nltk_data] Downloading package stopwords to /root/nltk_data...\n",
      "[nltk_data]   Package stopwords is already up-to-date!\n"
     ]
    }
   ],
   "source": [
    "import nltk\n",
    "from nltk.corpus import stopwords\n",
    "nltk.download('stopwords')\n",
    "stopwords = stopwords.words('english')"
   ]
  },
  {
   "cell_type": "code",
   "execution_count": 13,
   "metadata": {
    "colab": {
     "base_uri": "https://localhost:8080/"
    },
    "id": "YJJW5o_-UE0q",
    "outputId": "fb9f8c24-f2b9-4cde-f35f-ddee9a5404b3"
   },
   "outputs": [
    {
     "name": "stdout",
     "output_type": "stream",
     "text": [
      "<class 'list'>\n",
      "398\n",
      "['অতএব', 'অথচ', 'অথবা', 'অনুযায়ী', 'অনেক', 'অনেকে', 'অনেকেই', 'অন্তত', 'অন্য', 'অবধি', 'অবশ্য', 'অর্থাত', 'আই', 'আগামী', 'আগে', 'আগেই', 'আছে', 'আজ', 'আদ্যভাগে', 'আপনার', 'আপনি', 'আবার', 'আমরা', 'আমাকে', 'আমাদের', 'আমার', 'আমি', 'আর', 'আরও', 'ই', 'ইত্যাদি', 'ইহা', 'উচিত', 'উত্তর', 'উনি', 'উপর', 'উপরে', 'এ', 'এঁদের', 'এঁরা', 'এই', 'একই', 'একটি', 'একবার', 'একে', 'এক্', 'এখন', 'এখনও', 'এখানে', 'এখানেই', 'এটা', 'এটাই', 'এটি', 'এত', 'এতটাই', 'এতে', 'এদের', 'এব', 'এবং', 'এবার', 'এমন', 'এমনকী', 'এমনি', 'এর', 'এরা', 'এল', 'এস', 'এসে', 'ঐ', 'ও', 'ওঁদের', 'ওঁর', 'ওঁরা', 'ওই', 'ওকে', 'ওখানে', 'ওদের', 'ওর', 'ওরা', 'কখনও', 'কত', 'কবে', 'কমনে', 'কয়েক', 'কয়েকটি', 'করছে', 'করছেন', 'করতে', 'করবে', 'করবেন', 'করলে', 'করলেন', 'করা', 'করাই', 'করায়', 'করার', 'করি', 'করিতে', 'করিয়া', 'করিয়ে', 'করে', 'করেই', 'করেছিলেন', 'করেছে', 'করেছেন', 'করেন', 'কাউকে', 'কাছ', 'কাছে', 'কাজ', 'কাজে', 'কারও', 'কারণ', 'কি', 'কিংবা', 'কিছু', 'কিছুই', 'কিন্তু', 'কী', 'কে', 'কেউ', 'কেউই', 'কেখা', 'কেন', 'কোটি', 'কোন', 'কোনও', 'কোনো', 'ক্ষেত্রে', 'কয়েক', 'খুব', 'গিয়ে', 'গিয়েছে', 'গিয়ে', 'গুলি', 'গেছে', 'গেল', 'গেলে', 'গোটা', 'চলে', 'চান', 'চায়', 'চার', 'চালু', 'চেয়ে', 'চেষ্টা', 'ছাড়া', 'ছাড়াও', 'ছিল', 'ছিলেন', 'জন', 'জনকে', 'জনের', 'জন্য', 'জন্যওজে', 'জানতে', 'জানা', 'জানানো', 'জানায়', 'জানিয়ে', 'জানিয়েছে', 'জে', 'জ্নজন', 'টি', 'ঠিক', 'তখন', 'তত', 'তথা', 'তবু', 'তবে', 'তা', 'তাঁকে', 'তাঁদের', 'তাঁর', 'তাঁরা', 'তাঁাহারা', 'তাই', 'তাও', 'তাকে', 'তাতে', 'তাদের', 'তার', 'তারপর', 'তারা', 'তারৈ', 'তাহলে', 'তাহা', 'তাহাতে', 'তাহার', 'তিনঐ', 'তিনি', 'তিনিও', 'তুমি', 'তুলে', 'তেমন', 'তো', 'তোমার', 'থাকবে', 'থাকবেন', 'থাকা', 'থাকায়', 'থাকে', 'থাকেন', 'থেকে', 'থেকেই', 'থেকেও', 'দিকে', 'দিতে', 'দিন', 'দিয়ে', 'দিয়েছে', 'দিয়েছেন', 'দিলেন', 'দু', 'দুই', 'দুটি', 'দুটো', 'দেওয়া', 'দেওয়ার', 'দেওয়া', 'দেখতে', 'দেখা', 'দেখে', 'দেন', 'দেয়', 'দ্বারা', 'ধরা', 'ধরে', 'ধামার', 'নতুন', 'নয়', 'না', 'নাই', 'নাকি', 'নাগাদ', 'নানা', 'নিজে', 'নিজেই', 'নিজেদের', 'নিজের', 'নিতে', 'নিয়ে', 'নিয়ে', 'নেই', 'নেওয়া', 'নেওয়ার', 'নেওয়া', 'নয়', 'পক্ষে', 'পর', 'পরে', 'পরেই', 'পরেও', 'পর্যন্ত', 'পাওয়া', 'পাচ', 'পারি', 'পারে', 'পারেন', 'পি', 'পেয়ে', 'পেয়্র্', 'প্রতি', 'প্রথম', 'প্রভৃতি', 'প্রযন্ত', 'প্রাথমিক', 'প্রায়', 'প্রায়', 'ফলে', 'ফিরে', 'ফের', 'বক্তব্য', 'বদলে', 'বন', 'বরং', 'বলতে', 'বলল', 'বললেন', 'বলা', 'বলে', 'বলেছেন', 'বলেন', 'বসে', 'বহু', 'বা', 'বাদে', 'বার', 'বি', 'বিনা', 'বিভিন্ন', 'বিশেষ', 'বিষয়টি', 'বেশ', 'বেশি', 'ব্যবহার', 'ব্যাপারে', 'ভাবে', 'ভাবেই', 'মতো', 'মতোই', 'মধ্যভাগে', 'মধ্যে', 'মধ্যেই', 'মধ্যেও', 'মনে', 'মাত্র', 'মাধ্যমে', 'মোট', 'মোটেই', 'যখন', 'যত', 'যতটা', 'যথেষ্ট', 'যদি', 'যদিও', 'যা', 'যাঁর', 'যাঁরা', 'যাওয়া', 'যাওয়ার', 'যাওয়া', 'যাকে', 'যাচ্ছে', 'যাতে', 'যাদের', 'যান', 'যাবে', 'যায়', 'যার', 'যারা', 'যিনি', 'যে', 'যেখানে', 'যেতে', 'যেন', 'যেমন', 'র', 'রকম', 'রয়েছে', 'রাখা', 'রেখে', 'লক্ষ', 'শুধু', 'শুরু', 'সঙ্গে', 'সঙ্গেও', 'সব', 'সবার', 'সমস্ত', 'সম্প্রতি', 'সহ', 'সহিত', 'সাধারণ', 'সামনে', 'সি', 'সুতরাং', 'সে', 'সেই', 'সেখান', 'সেখানে', 'সেটা', 'সেটাই', 'সেটাও', 'সেটি', 'স্পষ্ট', 'স্বয়ং', 'হইতে', 'হইবে', 'হইয়া', 'হওয়া', 'হওয়ায়', 'হওয়ার', 'হচ্ছে', 'হত', 'হতে', 'হতেই', 'হন', 'হবে', 'হবেন', 'হয়', 'হয়তো', 'হয়নি', 'হয়ে', 'হয়েই', 'হয়েছিল', 'হয়েছে', 'হয়েছেন', 'হল', 'হলে', 'হলেই', 'হলেও', 'হলো', 'হাজার', 'হিসাবে', 'হৈলে', 'হোক', 'হয়']\n"
     ]
    }
   ],
   "source": [
    "with open('all_bangla_stop_words.txt', 'r', encoding='utf8') as bn:\n",
    "    stop_words = [line.strip() for line in bn]\n",
    "\n",
    "print(type(stop_words))\n",
    "print(len(stop_words))\n",
    "print(stop_words)"
   ]
  },
  {
   "cell_type": "markdown",
   "metadata": {
    "id": "BOyFNx4CUE0q"
   },
   "source": [
    "### Punctuation Removal"
   ]
  },
  {
   "cell_type": "code",
   "execution_count": 24,
   "metadata": {
    "colab": {
     "base_uri": "https://localhost:8080/"
    },
    "id": "Ie3jOhhEUE0q",
    "outputId": "6ffc434e-6ea4-4596-d149-56933e7964e5"
   },
   "outputs": [
    {
     "name": "stdout",
     "output_type": "stream",
     "text": [
      "<class 'numpy.ndarray'>\n"
     ]
    }
   ],
   "source": [
    "for i in range(len(content)):\n",
    "    content[i] = str(content[i]).translate(trantab)\n",
    "print(type(content))"
   ]
  },
  {
   "cell_type": "code",
   "execution_count": 25,
   "metadata": {
    "colab": {
     "base_uri": "https://localhost:8080/"
    },
    "id": "yLGujQm_UE0r",
    "outputId": "f54701df-36c7-4305-d621-083ebb0fa58f"
   },
   "outputs": [
    {
     "name": "stdout",
     "output_type": "stream",
     "text": [
      "<class 'numpy.ndarray'>\n"
     ]
    }
   ],
   "source": [
    "for i in range(len(headline)):\n",
    "    headline[i] = str(headline[i]).translate(trantab)\n",
    "print(type(headline))"
   ]
  },
  {
   "cell_type": "code",
   "execution_count": null,
   "metadata": {
    "id": "yOO0lEU4UE0r",
    "outputId": "af9427bb-c57e-4260-93e1-a54012e4faab"
   },
   "outputs": [
    {
     "data": {
      "text/html": [
       "<div>\n",
       "<style scoped>\n",
       "    .dataframe tbody tr th:only-of-type {\n",
       "        vertical-align: middle;\n",
       "    }\n",
       "\n",
       "    .dataframe tbody tr th {\n",
       "        vertical-align: top;\n",
       "    }\n",
       "\n",
       "    .dataframe thead th {\n",
       "        text-align: right;\n",
       "    }\n",
       "</style>\n",
       "<table border=\"1\" class=\"dataframe\">\n",
       "  <thead>\n",
       "    <tr style=\"text-align: right;\">\n",
       "      <th></th>\n",
       "      <th>articleID</th>\n",
       "      <th>domain</th>\n",
       "      <th>date</th>\n",
       "      <th>category</th>\n",
       "      <th>headline</th>\n",
       "      <th>content</th>\n",
       "      <th>label</th>\n",
       "    </tr>\n",
       "  </thead>\n",
       "  <tbody>\n",
       "    <tr>\n",
       "      <th>0</th>\n",
       "      <td>1</td>\n",
       "      <td>jagonews24.com</td>\n",
       "      <td>2018-09-19 17:48:18</td>\n",
       "      <td>Education</td>\n",
       "      <td>হট্টগোল করায় বাকৃবিতে দুইজন বরখাস্ত  ৬ জনকে শোকজ</td>\n",
       "      <td>গত ১৭ সেপ্টেম্বর বাংলাদেশ কৃষি বিশ্ববিদ্যালয়ে ...</td>\n",
       "      <td>1</td>\n",
       "    </tr>\n",
       "    <tr>\n",
       "      <th>1</th>\n",
       "      <td>2</td>\n",
       "      <td>jagonews24.com</td>\n",
       "      <td>2018-09-19 17:48:19</td>\n",
       "      <td>National</td>\n",
       "      <td>মালয়েশিয়ায় কর্মী পাঠানোর ব্যবস্থা নেয়ার সুপারিশ</td>\n",
       "      <td>বাংলাদেশের বৃহৎ শ্রমবাজার মালয়েশিয়ায় আবার শ্রম...</td>\n",
       "      <td>1</td>\n",
       "    </tr>\n",
       "    <tr>\n",
       "      <th>2</th>\n",
       "      <td>3</td>\n",
       "      <td>jagonews24.com</td>\n",
       "      <td>2018-09-19 17:48:20</td>\n",
       "      <td>National</td>\n",
       "      <td>প্রেমের প্রস্তাবে রাজি না হওয়ায় স্কুলছাত্রীকে ...</td>\n",
       "      <td>নরসিংদীর মনোহরদীতে প্রেমের প্রস্তাবে রাজি না হ...</td>\n",
       "      <td>1</td>\n",
       "    </tr>\n",
       "    <tr>\n",
       "      <th>3</th>\n",
       "      <td>4</td>\n",
       "      <td>jagonews24.com</td>\n",
       "      <td>2018-09-19 17:48:21</td>\n",
       "      <td>Crime</td>\n",
       "      <td>মেডিয়েশনই মামলাজট নিরসনের পথ   বিচারপতি আহমেদ ...</td>\n",
       "      <td>সুপ্রিম কোর্টের হাইকোর্ট বিভাগের বিচারপতি আহমে...</td>\n",
       "      <td>1</td>\n",
       "    </tr>\n",
       "    <tr>\n",
       "      <th>4</th>\n",
       "      <td>5</td>\n",
       "      <td>jagonews24.com</td>\n",
       "      <td>2018-09-19 17:48:21</td>\n",
       "      <td>National</td>\n",
       "      <td>টকশোতে বক্তব্য দিতে গিয়ে জাপা নেতার মৃত্যু</td>\n",
       "      <td>মাদারীপুর সদরের উপজেলার লেকেরপাড়ে একটি বেসরকার...</td>\n",
       "      <td>1</td>\n",
       "    </tr>\n",
       "  </tbody>\n",
       "</table>\n",
       "</div>"
      ],
      "text/plain": [
       "   articleID          domain                 date   category  \\\n",
       "0          1  jagonews24.com  2018-09-19 17:48:18  Education   \n",
       "1          2  jagonews24.com  2018-09-19 17:48:19   National   \n",
       "2          3  jagonews24.com  2018-09-19 17:48:20   National   \n",
       "3          4  jagonews24.com  2018-09-19 17:48:21      Crime   \n",
       "4          5  jagonews24.com  2018-09-19 17:48:21   National   \n",
       "\n",
       "                                            headline  \\\n",
       "0   হট্টগোল করায় বাকৃবিতে দুইজন বরখাস্ত  ৬ জনকে শোকজ   \n",
       "1    মালয়েশিয়ায় কর্মী পাঠানোর ব্যবস্থা নেয়ার সুপারিশ   \n",
       "2  প্রেমের প্রস্তাবে রাজি না হওয়ায় স্কুলছাত্রীকে ...   \n",
       "3  মেডিয়েশনই মামলাজট নিরসনের পথ   বিচারপতি আহমেদ ...   \n",
       "4         টকশোতে বক্তব্য দিতে গিয়ে জাপা নেতার মৃত্যু   \n",
       "\n",
       "                                             content  label  \n",
       "0  গত ১৭ সেপ্টেম্বর বাংলাদেশ কৃষি বিশ্ববিদ্যালয়ে ...      1  \n",
       "1  বাংলাদেশের বৃহৎ শ্রমবাজার মালয়েশিয়ায় আবার শ্রম...      1  \n",
       "2  নরসিংদীর মনোহরদীতে প্রেমের প্রস্তাবে রাজি না হ...      1  \n",
       "3  সুপ্রিম কোর্টের হাইকোর্ট বিভাগের বিচারপতি আহমে...      1  \n",
       "4  মাদারীপুর সদরের উপজেলার লেকেরপাড়ে একটি বেসরকার...      1  "
      ]
     },
     "execution_count": 17,
     "metadata": {},
     "output_type": "execute_result"
    }
   ],
   "source": [
    "df.head()"
   ]
  },
  {
   "cell_type": "code",
   "execution_count": null,
   "metadata": {
    "id": "R_q65J3PUE0r",
    "outputId": "eb507dab-4b18-478e-87a7-a6f575142560"
   },
   "outputs": [
    {
     "data": {
      "text/html": [
       "<div>\n",
       "<style scoped>\n",
       "    .dataframe tbody tr th:only-of-type {\n",
       "        vertical-align: middle;\n",
       "    }\n",
       "\n",
       "    .dataframe tbody tr th {\n",
       "        vertical-align: top;\n",
       "    }\n",
       "\n",
       "    .dataframe thead th {\n",
       "        text-align: right;\n",
       "    }\n",
       "</style>\n",
       "<table border=\"1\" class=\"dataframe\">\n",
       "  <thead>\n",
       "    <tr style=\"text-align: right;\">\n",
       "      <th></th>\n",
       "      <th>articleID</th>\n",
       "      <th>domain</th>\n",
       "      <th>date</th>\n",
       "      <th>category</th>\n",
       "      <th>headline</th>\n",
       "      <th>content</th>\n",
       "      <th>label</th>\n",
       "    </tr>\n",
       "  </thead>\n",
       "  <tbody>\n",
       "    <tr>\n",
       "      <th>0</th>\n",
       "      <td>1</td>\n",
       "      <td>jagonews24.com</td>\n",
       "      <td>2018-09-19 17:48:18</td>\n",
       "      <td>Education</td>\n",
       "      <td>হট্টগোল করায় বাকৃবিতে দুইজন বরখাস্ত  ৬ জনকে শোকজ</td>\n",
       "      <td>গত ১৭ সেপ্টেম্বর বাংলাদেশ কৃষি বিশ্ববিদ্যালয়ে ...</td>\n",
       "      <td>1</td>\n",
       "    </tr>\n",
       "    <tr>\n",
       "      <th>1</th>\n",
       "      <td>2</td>\n",
       "      <td>jagonews24.com</td>\n",
       "      <td>2018-09-19 17:48:19</td>\n",
       "      <td>National</td>\n",
       "      <td>মালয়েশিয়ায় কর্মী পাঠানোর ব্যবস্থা নেয়ার সুপারিশ</td>\n",
       "      <td>বাংলাদেশের বৃহৎ শ্রমবাজার মালয়েশিয়ায় আবার শ্রম...</td>\n",
       "      <td>1</td>\n",
       "    </tr>\n",
       "    <tr>\n",
       "      <th>2</th>\n",
       "      <td>3</td>\n",
       "      <td>jagonews24.com</td>\n",
       "      <td>2018-09-19 17:48:20</td>\n",
       "      <td>National</td>\n",
       "      <td>প্রেমের প্রস্তাবে রাজি না হওয়ায় স্কুলছাত্রীকে ...</td>\n",
       "      <td>নরসিংদীর মনোহরদীতে প্রেমের প্রস্তাবে রাজি না হ...</td>\n",
       "      <td>1</td>\n",
       "    </tr>\n",
       "    <tr>\n",
       "      <th>3</th>\n",
       "      <td>4</td>\n",
       "      <td>jagonews24.com</td>\n",
       "      <td>2018-09-19 17:48:21</td>\n",
       "      <td>Crime</td>\n",
       "      <td>মেডিয়েশনই মামলাজট নিরসনের পথ   বিচারপতি আহমেদ ...</td>\n",
       "      <td>সুপ্রিম কোর্টের হাইকোর্ট বিভাগের বিচারপতি আহমে...</td>\n",
       "      <td>1</td>\n",
       "    </tr>\n",
       "    <tr>\n",
       "      <th>4</th>\n",
       "      <td>5</td>\n",
       "      <td>jagonews24.com</td>\n",
       "      <td>2018-09-19 17:48:21</td>\n",
       "      <td>National</td>\n",
       "      <td>টকশোতে বক্তব্য দিতে গিয়ে জাপা নেতার মৃত্যু</td>\n",
       "      <td>মাদারীপুর সদরের উপজেলার লেকেরপাড়ে একটি বেসরকার...</td>\n",
       "      <td>1</td>\n",
       "    </tr>\n",
       "  </tbody>\n",
       "</table>\n",
       "</div>"
      ],
      "text/plain": [
       "   articleID          domain                 date   category  \\\n",
       "0          1  jagonews24.com  2018-09-19 17:48:18  Education   \n",
       "1          2  jagonews24.com  2018-09-19 17:48:19   National   \n",
       "2          3  jagonews24.com  2018-09-19 17:48:20   National   \n",
       "3          4  jagonews24.com  2018-09-19 17:48:21      Crime   \n",
       "4          5  jagonews24.com  2018-09-19 17:48:21   National   \n",
       "\n",
       "                                            headline  \\\n",
       "0   হট্টগোল করায় বাকৃবিতে দুইজন বরখাস্ত  ৬ জনকে শোকজ   \n",
       "1    মালয়েশিয়ায় কর্মী পাঠানোর ব্যবস্থা নেয়ার সুপারিশ   \n",
       "2  প্রেমের প্রস্তাবে রাজি না হওয়ায় স্কুলছাত্রীকে ...   \n",
       "3  মেডিয়েশনই মামলাজট নিরসনের পথ   বিচারপতি আহমেদ ...   \n",
       "4         টকশোতে বক্তব্য দিতে গিয়ে জাপা নেতার মৃত্যু   \n",
       "\n",
       "                                             content  label  \n",
       "0  গত ১৭ সেপ্টেম্বর বাংলাদেশ কৃষি বিশ্ববিদ্যালয়ে ...      1  \n",
       "1  বাংলাদেশের বৃহৎ শ্রমবাজার মালয়েশিয়ায় আবার শ্রম...      1  \n",
       "2  নরসিংদীর মনোহরদীতে প্রেমের প্রস্তাবে রাজি না হ...      1  \n",
       "3  সুপ্রিম কোর্টের হাইকোর্ট বিভাগের বিচারপতি আহমে...      1  \n",
       "4  মাদারীপুর সদরের উপজেলার লেকেরপাড়ে একটি বেসরকার...      1  "
      ]
     },
     "execution_count": 20,
     "metadata": {},
     "output_type": "execute_result"
    }
   ],
   "source": [
    "df.head()"
   ]
  },
  {
   "cell_type": "code",
   "execution_count": 11,
   "metadata": {
    "colab": {
     "base_uri": "https://localhost:8080/"
    },
    "id": "97XqDbvNZWN6",
    "outputId": "70b59d32-aedc-4115-a2a5-79e4ae006338"
   },
   "outputs": [
    {
     "name": "stderr",
     "output_type": "stream",
     "text": [
      "/usr/local/lib/python3.8/dist-packages/sklearn/feature_extraction/text.py:396: UserWarning: Your stop_words may be inconsistent with your preprocessing. Tokenizing the stop words generated tokens ['অথব', 'অন', 'অবধ', 'অবশ', 'অর', 'আগ', 'আছ', 'আদ', 'আপন', 'আব', 'আম', 'আমর', 'ইত', 'ইহ', 'উই', 'উক', 'উচ', 'উত', 'উন', 'এক', 'একট', 'একব', 'এখ', 'এট', 'এতট', 'এদ', 'এমনক', 'ওক', 'ওখ', 'ওদ', 'ওয', 'ওয়', 'কট', 'কব', 'কমন', 'কয', 'কর', 'করছ', 'করত', 'করব', 'করল', 'কয়', 'খত', 'চল', 'জনক', 'তথ', 'তব', 'তর', 'থম', 'ধর', 'নঐ', 'নও', 'নজন', 'নত', 'নয', 'পক', 'পষ', 'ফল', 'বক', 'বদল', 'বয', 'বর', 'বল', 'বলত', 'বস', 'বহ', 'মত', 'মধ', 'মন', 'যওজ', 'যতট', 'যথ', 'যদ', 'যন', 'যবহ', 'যভ', 'যম', 'রও', 'রণ', 'রত', 'রথম', 'রপর', 'রভ', 'রয', 'রযন', 'লক', 'ষয', 'সঙ', 'সম', 'সমস', 'হইত', 'হইব', 'হইয', 'হওয', 'হচ', 'হব', 'হয'] not in stop_words.\n",
      "  warnings.warn(\n"
     ]
    },
    {
     "name": "stdout",
     "output_type": "stream",
     "text": [
      "<class 'numpy.ndarray'>\n",
      "(49977, 27800)\n"
     ]
    }
   ],
   "source": [
    "from sklearn.feature_extraction.text import CountVectorizer\n",
    "count_vector = CountVectorizer(stop_words=stop_words)\n",
    "tf = count_vector.fit_transform(content).toarray()\n",
    "print(type(tf))\n",
    "print(tf.shape)"
   ]
  },
  {
   "cell_type": "code",
   "execution_count": 18,
   "metadata": {
    "colab": {
     "base_uri": "https://localhost:8080/",
     "height": 91
    },
    "id": "w4_bJ5FFkP6f",
    "outputId": "8f69c134-98b7-4f02-d1ed-aa6252d69e05"
   },
   "outputs": [
    {
     "data": {
      "application/vnd.google.colaboratory.intrinsic+json": {
       "type": "string"
      },
      "text/plain": [
       "'BTV থেকে লোকজন আসছে  ইন্টারভিউ নিবে।চারজনের টিম  এদের মধ্যে স্যুট  টাই পড়া বস একজন  দুইজন ক্যামেরাম্যান  আরেকজন উঠতি বয়সের  কড়া মেকাপ দেওয়া নারী মডেল।বস যিনি  আমার সাথে হাত মিলিয়ে পরিচয় হবার পর  পাশে দাঁড়ানো এক সিকিউরিটি গার্ডকে বললেন  ‘    তুমি এক কাজ করো  নুরুল ভাই কফির কাপ হাতে নিয়ে তোমার সামনে দিয়ে হেঁটে যাবে  তুমি আকাশ বাতাস কাঁপাইয়া ঠাস করে একটা সেলুট দিবা  এইটা ভিডিও করে রাখি  বাঙ্গালি পাবলিকের ভুং ভাং পছন্দ’।‘    এইটা না করলে হয় না  কেমন যেনো বানানো লাগে’– ভদ্রলোকের আইডিয়া শুনে আমি রীতিমতো বিব্রত।‘    আরে স্যার কী বলেন  আপনার ফ্যাক্টরিতে আদব কায়দা আছে  এইটা তোফায়েল সাহেব দেখতে চাইবে’।‘    তোফায়েল সাহেব কে ’‘কমার্স মিনিস্টার তোফায়েল সাহেব। নেন– কফির কাপে চুমুক দিতে দিতে হাঁটা শুরু করেন’।হাঁটাহাঁটি ভিডিও হবার পর  আমার অফিস রুমে বসে ইন্টারভিউ শুরু হলো।‘স্যার  ক্যামেরা অন হবার পর আপনি বলা শুরু করবেন’।‘কী বলবো ’‘বাংলাদেশের আর্থ সামাজিক প্রেক্ষাপটে হোম টেক্সটাইলসের অবদান আর তাতে ইউনিলায়েন্স টেক্সটাইলসের ভুমিকা’।আমি কিছুক্ষণ তবদা মেরে থাকলাম। ‘যেই লাইন বললেন  এইটার বাংলা কী ’‘এইটাই বাংলা  একটু গুছাইয়া এইটা ঐটা বইল্যা দিয়েন  আর শেষে বর্তমান সরকারের ইতিবাচক ভুমিকা ক্লিয়ার করে দিবেন  এতটুকুই  পারবেন না  স্যার  আপনার পকেটে চিরুনি আছে ’‘না তো  কেন ’‘আমার চুলটা একটু আচড়াইয়া নিতাম  চুল এলেমেলো থাকলে আপনার ভাবী আবার রাগ করে  আমার ক্যামেরা ফেস ভালো  খালি এলেমেলো চুলটাই সমস্যা করে। এইটা নিয়া ডাইরেক্টর স্যার একদিন ডাক দিয়া বলছেন  আজিজ  তোমার এইটা চুল না বা  এইটাই বুঝলাম না  উনি লোক ভালো  কিন্তু মুখ খারাপ’ '"
      ]
     },
     "execution_count": 18,
     "metadata": {},
     "output_type": "execute_result"
    }
   ],
   "source": [
    "content[1]"
   ]
  },
  {
   "cell_type": "code",
   "execution_count": null,
   "metadata": {
    "id": "C-7-t7FKligC"
   },
   "outputs": [],
   "source": [
    "\n",
    "st = tokens_without_sw[0] + tokens_without_sw[1]\n",
    "st"
   ]
  },
  {
   "cell_type": "code",
   "execution_count": 39,
   "metadata": {
    "colab": {
     "base_uri": "https://localhost:8080/"
    },
    "id": "wukjQsn_fTVx",
    "outputId": "f4e92a07-7ea8-48de-a482-77577e07d8ca"
   },
   "outputs": [
    {
     "name": "stdout",
     "output_type": "stream",
     "text": [
      "বাংলায় একটা প্রবাদ শেয়ালের মুরগী বর্গা দেওয়া। প্রবাদটা এজন্য শিয়ালের কাজই মুরগী খেয়ে ফেলা। শেয়ালের মুরগী কখনো নিজেকে রক্ষা পারেনা।তবে ফ্রান্সের এক বিশ্ববিদ্যালয়ের শিক্ষক শিক্ষার্থীরা জানাচ্ছে এক আশ্চর্য্যজনক ঘটনা ঘটছে। মুরগীর হামলায় শিয়াল মারা গেছে।ঘটনাটি গত সপ্তাহের ফ্রান্সের পূর্বাঞ্চলের বুতানিয়া এলাকার কৃষিবিষয়ক বিদ্যালয়ে। বিদ্যালয়ে মুরগির খামার রয়েছে। মুরগির ঘরের এক কোনায় সকালে মৃত শিয়াল পড়ে থাকতে শিক্ষার্থীরা।৬ মুরগি রয়েছে খামারটিতে। শিয়ালটির মৃতদেহ পাওয়া তিন মুরগি ছিল। মুরগিগুলো সারা বাইরে চরে বেড়ায়। সন্ধ্যা নিজ ঘরে উঠে আসে। সূর্য ডুবে গেলেই দরজা বন্ধ হয়ে যায় স্বয়ংক্রিয়ভাবে।স্থানীয় বন্য প্রাণী বিশেষজ্ঞরা জানিয়েছেন ঘটনায় অবাক। শিয়ালটি বাচ্চা অনভিজ্ঞ ছিল। এতগুলো মুরগির পড়ে সম্ভবত ভড়কে গিয়েছিল।Source BBC Bangla \n",
      "BTV লোকজন আসছে ইন্টারভিউ নিবে।চারজনের টিম স্যুট টাই পড়া বস একজন দুইজন ক্যামেরাম্যান আরেকজন উঠতি বয়সের কড়া মেকাপ নারী মডেল।বস সাথে হাত মিলিয়ে পরিচয় হবার পাশে দাঁড়ানো এক সিকিউরিটি গার্ডকে ‘ এক করো নুরুল ভাই কফির কাপ হাতে দিয়ে হেঁটে আকাশ বাতাস কাঁপাইয়া ঠাস একটা সেলুট দিবা এইটা ভিডিও রাখি বাঙ্গালি পাবলিকের ভুং ভাং পছন্দ ’ । ‘ এইটা কেমন যেনো বানানো লাগে ’ – ভদ্রলোকের আইডিয়া শুনে রীতিমতো বিব্রত। ‘ আরে স্যার ফ্যাক্টরিতে আদব কায়দা এইটা তোফায়েল সাহেব চাইবে ’ । ‘ তোফায়েল সাহেব ’ ‘ কমার্স মিনিস্টার তোফায়েল সাহেব। নেন– কফির কাপে চুমুক হাঁটা ’ ।হাঁটাহাঁটি ভিডিও হবার অফিস রুমে ইন্টারভিউ হলো। ‘ স্যার ক্যামেরা অন হবার ’ । ‘ বলবো ’ ‘ বাংলাদেশের আর্থ সামাজিক প্রেক্ষাপটে হোম টেক্সটাইলসের অবদান ইউনিলায়েন্স টেক্সটাইলসের ভুমিকা ’ ।আমি কিছুক্ষণ তবদা মেরে থাকলাম। ‘ যেই লাইন এইটার বাংলা ’ ‘ এইটাই বাংলা একটু গুছাইয়া এইটা ঐটা বইল্যা দিয়েন শেষে বর্তমান সরকারের ইতিবাচক ভুমিকা ক্লিয়ার দিবেন এতটুকুই পারবেন স্যার পকেটে চিরুনি ’ ‘ ’ ‘ চুলটা একটু আচড়াইয়া নিতাম চুল এলেমেলো থাকলে ভাবী রাগ ক্যামেরা ফেস ভালো খালি এলেমেলো চুলটাই সমস্যা করে। এইটা নিয়া ডাইরেক্টর স্যার একদিন ডাক দিয়া বলছেন আজিজ এইটা চুল এইটাই বুঝলাম লোক ভালো মুখ খারাপ ’ \n",
      "অদ্ভুত বিরোধীদলহীনতায় ভুগছে সরকার। এক অন্যরকম শূন্যতা। বাবা মায়ের সাথে আজকালকার ছেলেমেয়েরা একাকীত্বে ভোগে তেমনি সবকিছু বেষ্টিত থাকলেও বর্তমান সরকারের পাশে ' ' প্রচন্ড অনিচ্ছায় জাতীয়পার্টি বিরোধীদলের চেয়ারে বসলেও বিরোধীদল নয়। অনেকটা বিরোধীদলের রেপ্লিকার মত। এমতাবস্থায় সরকারকে বিরোধীদল আমদানির পরামর্শ দিয়েছেন অনলাইন রাজনীতি বিশেষজ্ঞরা।নাম প্রকাশে অনিচ্ছুক জনৈক বিরোধীদল বিশেষজ্ঞ 'বর্তমান সরকারের একটা জিনিসেরই অভাব উন্নতমানের বিরোধীদল। অতিসত্ত্বর পদক্ষেপ নেয়া উচিত। দেশে পাওয়া বিদেশ উন্নতমানের বিরোধীদল আনাতে হবে। '' আলীবাবা ' ' অ্যামাজন ' অর্ডার বিরোধীদল আনানো কিনা প্রশ্নে বিশেষজ্ঞ চোখ কপালে 'এটা না৷ অনলাইনে অর্ডার কখনোই ভাল মাল পাওয়া যায় না। ' জাতীয়পার্টিকে অনলাইনে অর্ডার আনানো হয়েছে ধারণাও পোষণ করেন।বর্তমান বিরোধীদলকে ' মেড ইন চায়না ' উল্লেখ আরো ' চায়না হ্যান্ডসেটের মত এদেরকেও স্পিকারে সাউন্ড বেশি। সরকারের ' মেড ইন জাপান ' ' মেড ইন ভিয়েতনাম ' হ্যান্ডসেট করা'।এদিকে বিরোধীদল উৎপাদন দেশ Google পেয়ে সরকারের উচ্চপর্যায়ে কথা যাই। প্রচন্ড থমথমে পরিবেশ পাই। পুরো অফিসেরই 'মন খারাপ'। অফিসের এক কোণায় স্পিকারে স্লো সাউন্ডে গান বাজতে শুনি ' তোমরা পারো বিরোধীদলের ভালবাসা ' \n",
      "রাশিয়া বিশ্বকাপ নকআউট পর্বে ফ্রান্সের সাথে ৪ ৩ গোলে পরাজয়ের গ্লানিতে ফুটবল অবসরের ঘোষণা মেসি। খেলা শেষে মাঠ ছাড়তে ছাড়তে বিড়বিড় এমনটাই বলছিলেন আর্জেন্টাইন সুপারস্টার ভ‍ালোই চলছিলো ম্যাচ। শুরুতে ফ্রান্স গোল দিলে মাঠ কাঁপালেও পরবর্তীতে গোল যুক্ত আর্জেন্টিনার ঝুলিতে। বুক চেতিয়ে খেলা মেসি। হঠাৎই যায় ম্যাচের দৃশ্যপট। ফ্রান্স আরো তিনটি গোল ঢুকিয়ে দেয় আর্জেন্টিনার জালে। এরই সাথে বিশ্বকাপ বিদায় ঘন্টা বেজে যায় আর্জেন্টিনার মাঠ ছাড়ার সময় গেটের চিপায় এক সাংবাদিক পান ক্লান্তি অবসাদপূর্ণ শরীরে মাঠ ছাড়তে ছাড়তে মেসি মাথা নিচু যেনো বলছেন। সাংবাদিক মেসির লিপ রিডিং বুঝতে মেসি বলছে “ ফুটবল খেলবোনা। ফুটবল খেলবোনা। ” বাতাসের বেগে কথাটি স্টেডিয়ামজুড়ে ছড়িয়ে পরে। পরবর্তীতে মেসির অবসর নেয়ার দ্রুত খবরটি স্টেডিয়াম প্রাঙ্গনে ভাইরাল হয়ে যায়। বিশ্বাস বসেন। আনু্ষ্ঠানিকভ‍াবে মেসি এখনো জানাননি শুধুই কিংবদন্তীর মুখ অবসর নেয়ার ঘোষণাটি শোনার পালা… \n",
      "নিজস্ব মতিবেদক ‘ মাদারফাকার নহে ব্রাদারফাকার। ’ বৃহত্তর জামায়াতে ইসলামীর বিএনপি শাখার জল্লাদে আমীর সমকামী মাদারফাকার সাকা।আজ কাশিমপুর কারাগারে আয়োজিত এক সংবাদ সম্মেলনে কথা চট্টগ্রাম নিবাসী প্রবীন সমকামী রাজাকার সাকা।সাকা সরকার আমায় বছর জেলে আটক রেখেছে। গরম জিনিস নরম কুন উপায় রাখেনি। একাধিক স্বরাষ্ট্র মন্ত্রীদের মুঠোফোন মেরে বলেছি ছেলে মেয়ে একটা পাঠাও। অপু বিশ্বাস শাকিব খানকে পাঠাতে বলেছি পাত্তাই না। এম জলিল অনন্তকে পাঠাতে বললাম সরকার শুনল না। বাধ্য আলাল নামে কিশোরকে ফুসলিয়ে খাস কামরায় আনি।কারাগারে সেক্স ক্লান্ত সাকাপরিস্থিতি বেখ্যা সাকা নামে মামলা ঘন ঘন আমায় কাশিমপুর ঢাকায় যায়। সারা পরিশ্রম শেষে কারাগারে সেক্স উঠে। আলালকে বললাম সাথে সেক্স করিস তোর জামিন দিব। আলাল রোজগার হালাল সংগে সেক্স সম্মত হয়।আবেগঘন কণ্ঠে সাকা জেলে একা আসিনি। মেশিন পুটুও সংগে এসেছে। তারাও বন্দী কারাগারে। ডান্ডু সর্বদা গান্ডু খুজে এটিই প্রকৃতির নিয়ম। আলালের সংগে সেক্স প্রকৃতির ইশারাতেই হচ্ছে। চট্টগ্রাম প্রকৃতির বাইরে প্রকৃতিরই অংশ।সাকা জেলের ভিতর কয়েদী ভাইয়ের মত। আমায় মাদারফাকার সাকা চলবে না। ব্রাদারফাকার সাকা।আলালের সংগে যোগাযোগ কাদতে কাদতে মতিবেদককে ব্রাদারফাকার সাকার সংগে সেক্স কারনে দুঃখিত নই। জেলের ভিতর থাকলে পুরুষে পুরুষে একটু আধটু চুদাচুদি থাকে। সেক্সের সাকা ঘন্টার ঘন্টা পিলু টক করেন। বুকে মাথা ঘেনর ঘেনর ঘেনর ঘেনর চট্টগ্রামের ভাষায় কথা থাকেন। দুইটি বছর ঘেনর ঘেনরের জালায় শান্তিতে ঘুমাতে না। আপনারা জলদি সাকাকে ফাসি দেন। অভিশাপ।শেষ খবর আলালকে কারাগারে সাকার কামরা উদ্ধার সরিয়ে হয়েছে। পরিবর্তে সাকা আন্দালিব পার্থকে সম্ভব কাশিমপুরে পাঠাতে সরকারের আর্জি জানিয়েছেন। সাকা আন্দালিব পার্থ সুইট আছে। \n",
      "বিয়ের সানাই বাজতে চলেছে শীঘ্রই জল্পনা কল্পনার অবসান ঘটিয়ে অবশেষে বিয়ের পিড়িতে বসতে যাচ্ছেন পশ্চিমের জনপ্রিয় অভিনেত্রী মিয়া খলিফা দীর্ঘদিন যাব‍ৎ ফেসবুকে রিফাত হোসেন নামে এক বাংলাদেশী তরুণের সাথে চুটিয়ে প্রেম অবশেষে বিয়ের সিদ্ধান্তের কথা জানালেন কিংবদন্তী তারকা। রিফাত হোসেন কুমিল্লার বেসরকারী প্রতিষ্ঠানে অফিস সহকারী হিসেবে কর্মরত আছেন। ভিডিওতে দেখুন মিয়া খলিফার সাক্ষাৎকার পরিচয়টা হয়েছিলো ওয়েবসাইটে। মিয়া খলিফার প্রামাণ্যচিত্র রিফাত ক্ষিপ্ত হন। মিয়ার আম্মু আব্বুকে অকথ্য ভাষায় গালাগাল করেন। মিয়া খলিফার নজরে আসলে রিফাতকে এসএমএস ক্ষিপ্ত জিজ্ঞেস করেন। কথোপকথনের সময় রিফাত মিয়া খলিফার ভূয়সী রুপের প্রশংসা আলোর পথে আসার আহ্বান জানান। রিফাতের প্রস্তাবেই মিয়া খলিফার জীবন। মিয়া চলচ্চিত্রের রঙ্গীন পর্দায় অভিনয় বাদ সাদাকালো জীবনে আসেন। গত দুবছরে সবকিছু দুরে সরে মিয়া খলিফা নিজেকে সংসারী মানসিকতার এসেছেন। শেষমেষ বাজতে চলেছে মিয়া খলিফার বিয়ের সানাই ঠিকঠাক থাকলে ১৯ সালের জানুয়ারীর সপ্তাহেই বাংলাদেশে বিয়ের আনুষ্ঠানিকতা সম্পন্ন মিয়া পরিবার। মিয়ার বাবা “ মেয়েকে দুশ্চিন্তায় ছিলাম ভালো পাত্র পাবো কিনা। উপরওয়ালার লাখ লাখ শুকরিয়া রিফাতের মত একটা ভালো ছেলে পেয়েছি। সুখী দোয়াই করি। ” সুত্রঃ Wedding News Worldwide \n",
      "এক গবেষণা বাংলাদেশের অন্যান্য জেলার নোয়াখালী জেলার তরুণরাই জুম্মার নামাজ পড়তে সবচেয়ে মসজিদে যান। কিনা শতকরার অন্যান্য জেলার চাইতে কয়েকশ গুণ পরিমাণে জুম্মার নামাজে নোয়াখালীর মানুষদের এরকম উপস্থিতির হার দেখেই স্পষ্ঠ ধারণা ইমানি শক্তি ভালো চারিত্রিক দিক সৎ।এই জরীপে জুম্মার নামাজে নোয়াখালীর মুসল্লির হার যায়৭৫ । পরপরই তালিকায় ঢাকা ৬৫ চট্টগ্রাম ৪০ রাজশাহী রংপুর ৩৮ বরিশাল ১১ নিমকি জিলাপির লোভেই নোয়াখালীর বাসিন্দারা শুক্রবারে নামাজে থাকেন। \n",
      "নিজস্ব মতিবেদকতেল গ্যাস খনিজ সম্পদ বিদ্যুৎ বন্দর রক্ষা জাতীয় কমিটির কঠোর সমালোচনা প্রধানমন্ত্রী শেখ হাসিনা প্রশ্ন ‘ আমনে আমাত্তে বড় দেশপ্রেমিক দেশের কল্যাণের কথা আমনে আমাত্তে ভাবেন ’ গতকাল শনিবার রাজধানীর আগারগাঁওয়ে বিনিয়োগ বোর্ডের প্রধান কার্যালয় ভবনের ভিত্তিপ্রস্তর স্থাপনকালে প্রধানমন্ত্রী ‘ প্রশ্ন দেশপ্রেমিক জিজ্ঞেস দেশের কল্যানের কথা সবাত্তে ভাবি খবর দৈনিক গোলালুর।প্রধানমন্ত্রীর দাবির সমর্থন জ্ঞাপন জোকারতেল গ্যাস খনিজ সম্পদ বিদ্যুৎ বন্দর রক্ষা জাতীয় কমিটির ইঙ্গিত প্রধানমন্ত্রী ‘ ক্ষমতায় থাকাকালীন বিএনপি জামায়াত জোট দেশের উন্নয়নের করেনি। আমনেরা কোথায় ’ শেখ হাসিনা ‘ দল বিদেশি কোম্পানির গ্যাস বিক্রি চায়নি ২০০১ সালের নির্বাচনে ভোট পেয়েও ক্ষমতায় পারেনি। ’ ‘ ভুল চাই না। আগামীবার ক্ষমতায় দরকার জাতীয় স্বার্থের মায়ের পুটু মেরে খাল বানিয়ে খালে নৌকাবাইচ আয়োজন হবে। ’ বঙ্গোপসাগরের ব্লকে তেল গ্যাস অনুসন্ধানের গত বৃহস্পতিবার মার্কিন কোম্পানি কনোকো ফিলিপসের সাথে চুক্তি সরকার। চুক্তির সমালোচনা তেল গ্যাস খনিজ সম্পদ বিদ্যুৎ বন্দর রক্ষা কমিটি বলেছে চুক্তির জাতীয় স্বার্থ পুটুমারা খাবে। আশু পুটুমারাকে সহনশীল তুলতে দেশের পুটু সামান্য ঢিলা লক্ষ্যে ৩ জুলাই আধা বেলা হরতাল ডেকেছে কমিটি।এদিকে প্রধানমন্ত্রী শেখ হাসিনার দাবিকে অন্যায্য অভিহিত বিরোধীদলীয় নেতা বিএনপি চেয়ারপারসন বেগম খালেদা জিয়া। শেখ হাসিনা শাড়ির সাথে লিপস্টিক ম্যাচ সবাত্তে বুজেন দাবি মোটেও গ্রহণযোগ্য না। এইট পাশ দেশের সমস্যা দেশের নারীদের শাড়ি লিপিস্টিকের সমস্যা ওনাত্তে বুজি। খালেদা জিয়া দাবি শহীদ প্রেসিডেন্ট জিয়াউর রহমান সবাত্তে বড় দেশপ্রেমিক। ‘ শহীদ প্রেসিডেন্ট জিয়াউর রহমান একাত্তরের র‍্যাম্বো একাই যুদ্ধ দেশকে হানাদারের কবল স্বাধীন করেছিলেন। ’ প্রধানমন্ত্রী শেখ হাসিনা তেল গ্যাস একটা বিজ্ঞানের বিষয়। যেহেতু স্বামী মরহুম ওয়াজেদ মিয়া একজন পরমাণুবিজ্ঞানী বিজ্ঞানের বিষয় সবাত্তে বুজেন। \n",
      "তেত্রিশ দেবতার এক একজন এক এক বেশে এক এক ক্ষমতার অধিকারী। তেত্রিশ দেবতার শিব ঠাকুরের পোশাক একেবারে ভিন্নরকম।মাথায় জটা জটায় সাপ বাঘছালে শিব ঠাকুন একেবারে ইউনিক।পুরাণ এক সাধু শিব ঠাকুরকে বাবা চাইলে প্রশ্নের উত্তরে শিব জানিয়েছিলেন ব্রহ্মাই বাবা৷ পরক্ষনে সাধুটি শিব ঠাকুরের দাদু শিব উত্তরে দাদু বিষ্ণু৷তবে থেমে নি সাধু৷ প্রশ্ন শিবের প্রপিতামহ প্রশ্নের শুনে চমকে সাধু৷ শিব জানান প্রপিতাম। শেষ নয়। শিব ঠাকুরের জন্মের পিছনে মজার ঘটনা৷পুরাণ ব্রহ্মা বিষ্ণুর শক্তিশালী ’ বাগবিতন্ডা হয়৷ সময় আচমকাই হালকা জ্বলন্ত বাতিস্তম্ভ যায়৷যে বাতিস্তম্ভের শেষ কোথায় কোনদিন নি ব্রহ্মা বিষ্ণুরও৷ হিন্দু ধর্মগ্রন্থ শিব ঠাকুরের জন্ম বাতিস্তম্ভ হয়েছিল৷ বাতিস্তম্ভের মতনই শিবঠাকুরের জন্ম মৃত্যু আজও অজানা।end \n",
      "ক্রীড়া মতিবেদকচলমান বিশ্বকাপ কৃকেটে পাকিস্তানের উপর্যুপরি শোচনীয় পরাজয়ের পিছনে বৃহত্তর জামায়াতে ইসলামীর বিএনপি শাখার মহিলা আমীর জাতীয়তাবাদী শক্তির মালিক আপোষহীন দেশনেত্রী মাদারে গনতন্ত্র বেগম খালেদা জিয়া জেএসসির দুয়া কালামে সমস্যাকে দায়ী পাকিস্তান কৃকেট দলের আমীর মিছবাউল হক মেডামের দুয়ায় সমস্যা আছে।আজ বৃসবেনের স্থানীয় কৃকেট মাঠে জিম্বাবুয়ের সংগে পরবর্তী মেচের পুর্বে বেটিং বলিং ফিলডিং মেচ ফিকসিং অনুশীলনের আয়জিত এক সংবাদ সম্মেলনে মাদারে গনতন্ত্রের দুয়ায় সমস্যার কথা ধরেন মিছবাউল।সংবাদ সম্মেলনে মিছবাউল হক ইতি পুর্বে পত্র পতৃকা পাঠ করিয়া পারছিলাম মাদারে গনতন্ত্র পাকিস্তান কৃকেট দলের জন্যি রোজা রাখিয়া ছিলেন। মালাউন ইনডিয়ার নিকট নির্মম পরাজিত হওয়ার রোজা ভংগ করেন।আবেগঘন কণ্ঠে মিছবাউল কৃকেটার ওয়েষ্ট ইন্ডিজের সংগে খেলতে নামিয়া মেডামের নায়েবে সাহাফা মারুফ কামাল খানের এছেমেছ পাইলাম এছেছছি পরীক্ষার পড়ালিখা বাদ দিয়া আমরার জন্যি একুশে ফেব্রুয়ারী মধ্য রাত্রে দুয়া মহাফিলের আয়জন করছেন। মেডামের দুয়ার ভরসা করিয়া খেলতে নামলাম। দুয়ার প্রতিক্রিয়ায় আমাদিগের জয় লাভ ত দুরের কথা পাইজামা পুটুতে রাখাই কঠিন হইয়া গেল। ১ রানে ৪ উইকেট হারানির বিশ্ব রেকড লইয়া ওয়েষ্ট ইন্ডিজের মত মালাউন দলের হাতে নির্মম পুটুমারা খাইয়া পেভিলনে ফিরত আইলাম।ইনডিয়া জিতে গেছেহুহু কেদে উঠে মিছবাউল মেডামের দুয়ায় কুন কাম হইত সাউথ আফৃকার সংগে ইনডিয়া শত শত রানের বেবধানে জয় লাভ পারত পারত না। প্রমান প্রমান মেডামের দুয়ায় সমস্যা আছে।অবিলম্বে বাংলাদেশের অভ্যন্তরে স্বাধীন রাস্ট্র হাটহাজারিস্তানের খলিফা হেফাজতে ইসলামের আমীর উপমহাদেশের সর্বাপেক্ষা হিট আলেম আল্লামা রাজ শাহ আহমদ শফীর তত্তাবধানে মাদারে গনতন্ত্রকে দুয়া কালাম প্রশিক্ষনের বেবস্থা বাংলাদেশের ক্ষমতাসীন বাকশাল সরকারের আহোভান জানিয়ে মিছবাউল হক মেডামের ভুল দুয়ার কারনে মেচ ফিকসিং বেবসায় চরম অবক্ষয় দিছে। মাদারে গনতন্ত্র অবিলম্বে সঠিক কার্যকরী দুয়া শিখিয়া দুয়া মহাফিলে বসলে বৃসবেন প্রেস ক্লাবের অনশন বাধ্য হইব।দুয়ার টেবিলে নারী পুরুষের অবাধ মিলামিশাপতৃকায় প্রকাশিত মেডামের দুয়া মহাফিলের ছবি দেখিয়ে মিছবাউল উপস্থিত সাংবাদিকগনের ক্ষুব্ধ কণ্ঠে প্রশ্ন দুয়ার টেবিলে নারী পুরুষের অবাধ মিলামিশা দুয়ায় কাম কেমন মহাফিল আল্লামা রাজের ১৩ দফার ইতনা অবমাননা কিউ হতা হায় এদিকে মিছবাউলের অভিযোগের জবাবে পাল্টা বিবৃতীতে মাদারে গনতন্ত্রের নায়েবে সাহাফা মারুফ কামাল খান পাকিস্তানের কৃকেট দলের আমীর শ্রীযুক্ত মিছবাউল হককে মেডামের পক্ষ পরিস্কার জানাইয়া চাই একুশে ফেব্রুয়ারী পাকিস্তান কৃকেট দল নহে ভাষা শহীদ গোলাম আজম ভাষা শহীদ ইউছুপ ভাষা শহীদ আবদুল আলীম ভাষা শহীদ আবদুল কাদের মোল্লা হবু ভাষা শহীদ কামারুজ্জামানের জন্যি দুয়া মহাফিল বসাইয়াছিলাম। জিম্বাবুয়ের সংগে পাকিস্তানের মেচের পুর্বে মেডাম খাস দিলে ইস্পিশাল দুয়ায় বসবেন ইনশা আল্লাহ। আপুনি টেকাটুকা খাইয়া জিম্বাবুয়ের সংগে পরাজয়ের রাহে পা বাড়াইলে পাকিস্তানের ইজ্জত বাচবে মেডামের দুয়ার বদনামও কমবে। লাইনে আসুন।হাসতে হাসতে মারুফ নায়েব দুয়া দুয়া নহে। \n",
      "\n"
     ]
    },
    {
     "name": "stderr",
     "output_type": "stream",
     "text": [
      "[nltk_data] Downloading package punkt to /root/nltk_data...\n",
      "[nltk_data]   Package punkt is already up-to-date!\n"
     ]
    }
   ],
   "source": [
    "# from nltk.corpus import stopwords\n",
    "# nltk.download('stopwords')\n",
    "from nltk.tokenize import word_tokenize\n",
    "import nltk\n",
    "nltk.download('punkt')\n",
    "\n",
    "# text = \"Nick likes to play football, however he is not too fond of tennis.\"\n",
    "ishan = \"\"\n",
    "for i in range(10):\n",
    "  text_tokens = word_tokenize((content[i]))\n",
    "  tokens_without_sw = [word for word in text_tokens if not word in stop_words]\n",
    "  string = \"\"\n",
    "  for j in range(len(tokens_without_sw)):\n",
    "    string += tokens_without_sw[j]\n",
    "\n",
    "    string = string + \" \"\n",
    "  ishan += string + \"\\n\"\n",
    "    \n",
    "  # print(string)\n",
    "print(ishan)\n",
    "\n",
    "  # print(tokens_without_sw)\n",
    "# text_tokens = word_tokenize('হট্টগোল করায় বাকৃবিতে অথবা দুইজন বরখাস্ত ৬ জনকে শোকজ')\n"
   ]
  },
  {
   "cell_type": "code",
   "execution_count": null,
   "metadata": {
    "id": "YL_fdxETfY0W"
   },
   "outputs": [],
   "source": [
    "for i in :\n"
   ]
  },
  {
   "cell_type": "markdown",
   "metadata": {
    "id": "nlDETy9UivxQ"
   },
   "source": [
    "**Explotory Data Analysis - **\n"
   ]
  },
  {
   "cell_type": "code",
   "execution_count": 4,
   "metadata": {
    "colab": {
     "base_uri": "https://localhost:8080/"
    },
    "id": "rIEeDyHKUE0r",
    "outputId": "20d2b6c4-95a4-416a-cbdf-f52da2be33ee"
   },
   "outputs": [
    {
     "name": "stdout",
     "output_type": "stream",
     "text": [
      "Mounted at /content/drive\n"
     ]
    }
   ],
   "source": [
    "from google.colab import drive\n",
    "drive.mount('/content/drive')"
   ]
  },
  {
   "cell_type": "code",
   "execution_count": 4,
   "metadata": {
    "id": "M5hZuBy4ifLK"
   },
   "outputs": [],
   "source": [
    "df_fake = pd.read_csv(\"/content/drive/MyDrive/CSE 4214 (Pattern Recognition Lab)/Banfake/Fake-1K.csv\")\n",
    "df_true = pd.read_csv(\"/content/drive/MyDrive/CSE 4214 (Pattern Recognition Lab)/Banfake/Authentic-48K.csv\")\n"
   ]
  },
  {
   "cell_type": "code",
   "execution_count": 5,
   "metadata": {
    "colab": {
     "base_uri": "https://localhost:8080/",
     "height": 423
    },
    "id": "K_-vE312mxPr",
    "outputId": "b9518f41-101d-4596-b300-5618f9e0d2f4"
   },
   "outputs": [
    {
     "data": {
      "text/html": [
       "\n",
       "  <div id=\"df-72436dc3-5c17-42b7-8ac6-2d8f73a22957\">\n",
       "    <div class=\"colab-df-container\">\n",
       "      <div>\n",
       "<style scoped>\n",
       "    .dataframe tbody tr th:only-of-type {\n",
       "        vertical-align: middle;\n",
       "    }\n",
       "\n",
       "    .dataframe tbody tr th {\n",
       "        vertical-align: top;\n",
       "    }\n",
       "\n",
       "    .dataframe thead th {\n",
       "        text-align: right;\n",
       "    }\n",
       "</style>\n",
       "<table border=\"1\" class=\"dataframe\">\n",
       "  <thead>\n",
       "    <tr style=\"text-align: right;\">\n",
       "      <th></th>\n",
       "      <th>articleID</th>\n",
       "      <th>domain</th>\n",
       "      <th>date</th>\n",
       "      <th>category</th>\n",
       "      <th>headline</th>\n",
       "      <th>content</th>\n",
       "      <th>label</th>\n",
       "    </tr>\n",
       "  </thead>\n",
       "  <tbody>\n",
       "    <tr>\n",
       "      <th>0</th>\n",
       "      <td>1</td>\n",
       "      <td>jagonews24.com</td>\n",
       "      <td>2018-09-19 17:48:18</td>\n",
       "      <td>Education</td>\n",
       "      <td>হট্টগোল করায় বাকৃবিতে দুইজন বরখাস্ত, ৬ জনকে শোকজ</td>\n",
       "      <td>গত ১৭ সেপ্টেম্বর বাংলাদেশ কৃষি বিশ্ববিদ্যালয়ে ...</td>\n",
       "      <td>1</td>\n",
       "    </tr>\n",
       "    <tr>\n",
       "      <th>1</th>\n",
       "      <td>2</td>\n",
       "      <td>jagonews24.com</td>\n",
       "      <td>2018-09-19 17:48:19</td>\n",
       "      <td>National</td>\n",
       "      <td>মালয়েশিয়ায় কর্মী পাঠানোর ব্যবস্থা নেয়ার সুপারিশ</td>\n",
       "      <td>বাংলাদেশের বৃহৎ শ্রমবাজার মালয়েশিয়ায় আবার শ্রম...</td>\n",
       "      <td>1</td>\n",
       "    </tr>\n",
       "    <tr>\n",
       "      <th>2</th>\n",
       "      <td>3</td>\n",
       "      <td>jagonews24.com</td>\n",
       "      <td>2018-09-19 17:48:20</td>\n",
       "      <td>National</td>\n",
       "      <td>প্রেমের প্রস্তাবে রাজি না হওয়ায় স্কুলছাত্রীকে ...</td>\n",
       "      <td>নরসিংদীর মনোহরদীতে প্রেমের প্রস্তাবে রাজি না হ...</td>\n",
       "      <td>1</td>\n",
       "    </tr>\n",
       "    <tr>\n",
       "      <th>3</th>\n",
       "      <td>4</td>\n",
       "      <td>jagonews24.com</td>\n",
       "      <td>2018-09-19 17:48:21</td>\n",
       "      <td>Crime</td>\n",
       "      <td>মেডিয়েশনই মামলাজট নিরসনের পথ : বিচারপতি আহমেদ ...</td>\n",
       "      <td>সুপ্রিম কোর্টের হাইকোর্ট বিভাগের বিচারপতি আহমে...</td>\n",
       "      <td>1</td>\n",
       "    </tr>\n",
       "    <tr>\n",
       "      <th>4</th>\n",
       "      <td>5</td>\n",
       "      <td>jagonews24.com</td>\n",
       "      <td>2018-09-19 17:48:21</td>\n",
       "      <td>National</td>\n",
       "      <td>টকশোতে বক্তব্য দিতে গিয়ে জাপা নেতার মৃত্যু</td>\n",
       "      <td>মাদারীপুর সদরের উপজেলার লেকেরপাড়ে একটি বেসরকার...</td>\n",
       "      <td>1</td>\n",
       "    </tr>\n",
       "    <tr>\n",
       "      <th>...</th>\n",
       "      <td>...</td>\n",
       "      <td>...</td>\n",
       "      <td>...</td>\n",
       "      <td>...</td>\n",
       "      <td>...</td>\n",
       "      <td>...</td>\n",
       "      <td>...</td>\n",
       "    </tr>\n",
       "    <tr>\n",
       "      <th>48673</th>\n",
       "      <td>61776</td>\n",
       "      <td>banglanews24.com</td>\n",
       "      <td>2018-10-11 16:39:23</td>\n",
       "      <td>Sports</td>\n",
       "      <td>এনসিএলে তিতলির প্রভাব, সব ম্যাচ ড্র</td>\n",
       "      <td>প্রথমে বাংলাদেশের কাছ দিয়ে যাওয়ার কথা থাকলেও ঘ...</td>\n",
       "      <td>1</td>\n",
       "    </tr>\n",
       "    <tr>\n",
       "      <th>48674</th>\n",
       "      <td>61777</td>\n",
       "      <td>banglanews24.com</td>\n",
       "      <td>2018-10-11 16:39:27</td>\n",
       "      <td>International</td>\n",
       "      <td>কর্ম-বসবাসে সেরা সিঙ্গাপুর, আয়ে সুইজারল্যান্ড</td>\n",
       "      <td>উন্নত জীবনযাপনের জন্য অনেকেই বিদেশে পাড়ি দেন। ...</td>\n",
       "      <td>1</td>\n",
       "    </tr>\n",
       "    <tr>\n",
       "      <th>48675</th>\n",
       "      <td>61778</td>\n",
       "      <td>banglanews24.com</td>\n",
       "      <td>2018-10-11 16:39:30</td>\n",
       "      <td>Politics</td>\n",
       "      <td>জয়পুরহাটে জামায়াতের ১৯ নেতাকর্মী আটক</td>\n",
       "      <td>জয়পুরহাট: সরকার বিরোধী গোপন বৈঠকের সময় জয়পুরহা...</td>\n",
       "      <td>1</td>\n",
       "    </tr>\n",
       "    <tr>\n",
       "      <th>48676</th>\n",
       "      <td>61779</td>\n",
       "      <td>banglanews24.com</td>\n",
       "      <td>2018-10-11 16:39:32</td>\n",
       "      <td>National</td>\n",
       "      <td>ভ্যানগার্ড পোশাক কারখানাকে জরিমানা</td>\n",
       "      <td>চট্টগ্রাম: পরিবেশ দূষণের দায়ে নগরের আগ্রাবাদ এ...</td>\n",
       "      <td>1</td>\n",
       "    </tr>\n",
       "    <tr>\n",
       "      <th>48677</th>\n",
       "      <td>61780</td>\n",
       "      <td>banglanews24.com</td>\n",
       "      <td>2018-10-11 16:39:36</td>\n",
       "      <td>National</td>\n",
       "      <td>উল্লাপাড়ায় ভেজাল সার-কীটনাশক তৈরির কারখানা সিল...</td>\n",
       "      <td>সিরাজগঞ্জ: সিরাজগঞ্জের উল্লাপাড়ায় অভিযান চালিয়...</td>\n",
       "      <td>1</td>\n",
       "    </tr>\n",
       "  </tbody>\n",
       "</table>\n",
       "<p>48678 rows × 7 columns</p>\n",
       "</div>\n",
       "      <button class=\"colab-df-convert\" onclick=\"convertToInteractive('df-72436dc3-5c17-42b7-8ac6-2d8f73a22957')\"\n",
       "              title=\"Convert this dataframe to an interactive table.\"\n",
       "              style=\"display:none;\">\n",
       "        \n",
       "  <svg xmlns=\"http://www.w3.org/2000/svg\" height=\"24px\"viewBox=\"0 0 24 24\"\n",
       "       width=\"24px\">\n",
       "    <path d=\"M0 0h24v24H0V0z\" fill=\"none\"/>\n",
       "    <path d=\"M18.56 5.44l.94 2.06.94-2.06 2.06-.94-2.06-.94-.94-2.06-.94 2.06-2.06.94zm-11 1L8.5 8.5l.94-2.06 2.06-.94-2.06-.94L8.5 2.5l-.94 2.06-2.06.94zm10 10l.94 2.06.94-2.06 2.06-.94-2.06-.94-.94-2.06-.94 2.06-2.06.94z\"/><path d=\"M17.41 7.96l-1.37-1.37c-.4-.4-.92-.59-1.43-.59-.52 0-1.04.2-1.43.59L10.3 9.45l-7.72 7.72c-.78.78-.78 2.05 0 2.83L4 21.41c.39.39.9.59 1.41.59.51 0 1.02-.2 1.41-.59l7.78-7.78 2.81-2.81c.8-.78.8-2.07 0-2.86zM5.41 20L4 18.59l7.72-7.72 1.47 1.35L5.41 20z\"/>\n",
       "  </svg>\n",
       "      </button>\n",
       "      \n",
       "  <style>\n",
       "    .colab-df-container {\n",
       "      display:flex;\n",
       "      flex-wrap:wrap;\n",
       "      gap: 12px;\n",
       "    }\n",
       "\n",
       "    .colab-df-convert {\n",
       "      background-color: #E8F0FE;\n",
       "      border: none;\n",
       "      border-radius: 50%;\n",
       "      cursor: pointer;\n",
       "      display: none;\n",
       "      fill: #1967D2;\n",
       "      height: 32px;\n",
       "      padding: 0 0 0 0;\n",
       "      width: 32px;\n",
       "    }\n",
       "\n",
       "    .colab-df-convert:hover {\n",
       "      background-color: #E2EBFA;\n",
       "      box-shadow: 0px 1px 2px rgba(60, 64, 67, 0.3), 0px 1px 3px 1px rgba(60, 64, 67, 0.15);\n",
       "      fill: #174EA6;\n",
       "    }\n",
       "\n",
       "    [theme=dark] .colab-df-convert {\n",
       "      background-color: #3B4455;\n",
       "      fill: #D2E3FC;\n",
       "    }\n",
       "\n",
       "    [theme=dark] .colab-df-convert:hover {\n",
       "      background-color: #434B5C;\n",
       "      box-shadow: 0px 1px 3px 1px rgba(0, 0, 0, 0.15);\n",
       "      filter: drop-shadow(0px 1px 2px rgba(0, 0, 0, 0.3));\n",
       "      fill: #FFFFFF;\n",
       "    }\n",
       "  </style>\n",
       "\n",
       "      <script>\n",
       "        const buttonEl =\n",
       "          document.querySelector('#df-72436dc3-5c17-42b7-8ac6-2d8f73a22957 button.colab-df-convert');\n",
       "        buttonEl.style.display =\n",
       "          google.colab.kernel.accessAllowed ? 'block' : 'none';\n",
       "\n",
       "        async function convertToInteractive(key) {\n",
       "          const element = document.querySelector('#df-72436dc3-5c17-42b7-8ac6-2d8f73a22957');\n",
       "          const dataTable =\n",
       "            await google.colab.kernel.invokeFunction('convertToInteractive',\n",
       "                                                     [key], {});\n",
       "          if (!dataTable) return;\n",
       "\n",
       "          const docLinkHtml = 'Like what you see? Visit the ' +\n",
       "            '<a target=\"_blank\" href=https://colab.research.google.com/notebooks/data_table.ipynb>data table notebook</a>'\n",
       "            + ' to learn more about interactive tables.';\n",
       "          element.innerHTML = '';\n",
       "          dataTable['output_type'] = 'display_data';\n",
       "          await google.colab.output.renderOutput(dataTable, element);\n",
       "          const docLink = document.createElement('div');\n",
       "          docLink.innerHTML = docLinkHtml;\n",
       "          element.appendChild(docLink);\n",
       "        }\n",
       "      </script>\n",
       "    </div>\n",
       "  </div>\n",
       "  "
      ],
      "text/plain": [
       "       articleID            domain                 date       category  \\\n",
       "0              1    jagonews24.com  2018-09-19 17:48:18      Education   \n",
       "1              2    jagonews24.com  2018-09-19 17:48:19       National   \n",
       "2              3    jagonews24.com  2018-09-19 17:48:20       National   \n",
       "3              4    jagonews24.com  2018-09-19 17:48:21          Crime   \n",
       "4              5    jagonews24.com  2018-09-19 17:48:21       National   \n",
       "...          ...               ...                  ...            ...   \n",
       "48673      61776  banglanews24.com  2018-10-11 16:39:23         Sports   \n",
       "48674      61777  banglanews24.com  2018-10-11 16:39:27  International   \n",
       "48675      61778  banglanews24.com  2018-10-11 16:39:30       Politics   \n",
       "48676      61779  banglanews24.com  2018-10-11 16:39:32       National   \n",
       "48677      61780  banglanews24.com  2018-10-11 16:39:36       National   \n",
       "\n",
       "                                                headline  \\\n",
       "0       হট্টগোল করায় বাকৃবিতে দুইজন বরখাস্ত, ৬ জনকে শোকজ   \n",
       "1        মালয়েশিয়ায় কর্মী পাঠানোর ব্যবস্থা নেয়ার সুপারিশ   \n",
       "2      প্রেমের প্রস্তাবে রাজি না হওয়ায় স্কুলছাত্রীকে ...   \n",
       "3      মেডিয়েশনই মামলাজট নিরসনের পথ : বিচারপতি আহমেদ ...   \n",
       "4             টকশোতে বক্তব্য দিতে গিয়ে জাপা নেতার মৃত্যু   \n",
       "...                                                  ...   \n",
       "48673                এনসিএলে তিতলির প্রভাব, সব ম্যাচ ড্র   \n",
       "48674      কর্ম-বসবাসে সেরা সিঙ্গাপুর, আয়ে সুইজারল্যান্ড   \n",
       "48675               জয়পুরহাটে জামায়াতের ১৯ নেতাকর্মী আটক   \n",
       "48676                 ভ্যানগার্ড পোশাক কারখানাকে জরিমানা   \n",
       "48677  উল্লাপাড়ায় ভেজাল সার-কীটনাশক তৈরির কারখানা সিল...   \n",
       "\n",
       "                                                 content  label  \n",
       "0      গত ১৭ সেপ্টেম্বর বাংলাদেশ কৃষি বিশ্ববিদ্যালয়ে ...      1  \n",
       "1      বাংলাদেশের বৃহৎ শ্রমবাজার মালয়েশিয়ায় আবার শ্রম...      1  \n",
       "2      নরসিংদীর মনোহরদীতে প্রেমের প্রস্তাবে রাজি না হ...      1  \n",
       "3      সুপ্রিম কোর্টের হাইকোর্ট বিভাগের বিচারপতি আহমে...      1  \n",
       "4      মাদারীপুর সদরের উপজেলার লেকেরপাড়ে একটি বেসরকার...      1  \n",
       "...                                                  ...    ...  \n",
       "48673  প্রথমে বাংলাদেশের কাছ দিয়ে যাওয়ার কথা থাকলেও ঘ...      1  \n",
       "48674  উন্নত জীবনযাপনের জন্য অনেকেই বিদেশে পাড়ি দেন। ...      1  \n",
       "48675  জয়পুরহাট: সরকার বিরোধী গোপন বৈঠকের সময় জয়পুরহা...      1  \n",
       "48676  চট্টগ্রাম: পরিবেশ দূষণের দায়ে নগরের আগ্রাবাদ এ...      1  \n",
       "48677  সিরাজগঞ্জ: সিরাজগঞ্জের উল্লাপাড়ায় অভিযান চালিয়...      1  \n",
       "\n",
       "[48678 rows x 7 columns]"
      ]
     },
     "execution_count": 5,
     "metadata": {},
     "output_type": "execute_result"
    }
   ],
   "source": [
    "df_true"
   ]
  },
  {
   "cell_type": "code",
   "execution_count": 6,
   "metadata": {
    "colab": {
     "base_uri": "https://localhost:8080/",
     "height": 423
    },
    "id": "vDPvZBZim2g5",
    "outputId": "1dfee10a-8d5a-4dc5-f674-a27abfb7bae5"
   },
   "outputs": [
    {
     "data": {
      "text/html": [
       "\n",
       "  <div id=\"df-f18e4980-1513-4141-a957-892497413ade\">\n",
       "    <div class=\"colab-df-container\">\n",
       "      <div>\n",
       "<style scoped>\n",
       "    .dataframe tbody tr th:only-of-type {\n",
       "        vertical-align: middle;\n",
       "    }\n",
       "\n",
       "    .dataframe tbody tr th {\n",
       "        vertical-align: top;\n",
       "    }\n",
       "\n",
       "    .dataframe thead th {\n",
       "        text-align: right;\n",
       "    }\n",
       "</style>\n",
       "<table border=\"1\" class=\"dataframe\">\n",
       "  <thead>\n",
       "    <tr style=\"text-align: right;\">\n",
       "      <th></th>\n",
       "      <th>articleID</th>\n",
       "      <th>domain</th>\n",
       "      <th>date</th>\n",
       "      <th>category</th>\n",
       "      <th>headline</th>\n",
       "      <th>content</th>\n",
       "      <th>label</th>\n",
       "    </tr>\n",
       "  </thead>\n",
       "  <tbody>\n",
       "    <tr>\n",
       "      <th>0</th>\n",
       "      <td>1</td>\n",
       "      <td>channeldhaka.news</td>\n",
       "      <td>2019-03-14T13:34:14+00:00</td>\n",
       "      <td>International</td>\n",
       "      <td>মুরগির হামলায় শেয়াল নিহত</td>\n",
       "      <td>বাংলায় একটা প্রবাদ আছে, শেয়ালের কাছে মুরগী বর্...</td>\n",
       "      <td>0</td>\n",
       "    </tr>\n",
       "    <tr>\n",
       "      <th>1</th>\n",
       "      <td>2</td>\n",
       "      <td>earki.com</td>\n",
       "      <td>সেম্বর ১৭, ২০১৮</td>\n",
       "      <td>Miscellaneous</td>\n",
       "      <td>বিটিভিতে যেবার আমি ইন্টারভিউ দিতে গেলাম</td>\n",
       "      <td>BTV থেকে লোকজন আসছে, ইন্টারভিউ নিবে।চারজনের টি...</td>\n",
       "      <td>0</td>\n",
       "    </tr>\n",
       "    <tr>\n",
       "      <th>2</th>\n",
       "      <td>3</td>\n",
       "      <td>earki.com</td>\n",
       "      <td>২০:৩৯, জানুয়ারি ১৪, ২০১৯</td>\n",
       "      <td>Miscellaneous</td>\n",
       "      <td>বিদেশ থেকে উন্নতমানের বিরোধীদল আমদানি করার পরা...</td>\n",
       "      <td>অদ্ভুত বিরোধীদলহীনতায় ভুগছে সরকার। এ এক অন্যরক...</td>\n",
       "      <td>0</td>\n",
       "    </tr>\n",
       "    <tr>\n",
       "      <th>3</th>\n",
       "      <td>4</td>\n",
       "      <td>channeldhaka.news</td>\n",
       "      <td>2018-06-30T15:56:47+00:00</td>\n",
       "      <td>Sports</td>\n",
       "      <td>অবসর নেয়ার ঘোষণা দিলেন মেসি !</td>\n",
       "      <td>রাশিয়া বিশ্বকাপ নকআউট পর্বে ফ্রান্সের সাথে ৪-৩...</td>\n",
       "      <td>0</td>\n",
       "    </tr>\n",
       "    <tr>\n",
       "      <th>4</th>\n",
       "      <td>5</td>\n",
       "      <td>motikontho.wordpress.com</td>\n",
       "      <td>2013-03-05T21:55:45+00:00</td>\n",
       "      <td>Miscellaneous</td>\n",
       "      <td>মাদারফাকার নহে, ব্রাদারফাকার: সাকা | দৈনিক মতি...</td>\n",
       "      <td>নিজস্ব মতিবেদক‘মাদারফাকার নহে, আমি ব্রাদারফাকা...</td>\n",
       "      <td>0</td>\n",
       "    </tr>\n",
       "    <tr>\n",
       "      <th>...</th>\n",
       "      <td>...</td>\n",
       "      <td>...</td>\n",
       "      <td>...</td>\n",
       "      <td>...</td>\n",
       "      <td>...</td>\n",
       "      <td>...</td>\n",
       "      <td>...</td>\n",
       "    </tr>\n",
       "    <tr>\n",
       "      <th>1294</th>\n",
       "      <td>1303</td>\n",
       "      <td>bengalbeats.com</td>\n",
       "      <td>2019-03-31T21:34:42+00:00</td>\n",
       "      <td>Miscellaneous</td>\n",
       "      <td>রাজশাহীতে স্বামীর হাঁচির আওয়াজে ঘুমের মধ্যেই স...</td>\n",
       "      <td>রাজশাহীর সাহেব বাজার মোড়ে রাতে ঘুমের মধ্যে হাস...</td>\n",
       "      <td>0</td>\n",
       "    </tr>\n",
       "    <tr>\n",
       "      <th>1295</th>\n",
       "      <td>1304</td>\n",
       "      <td>bengaliviralnews.com</td>\n",
       "      <td>2018-01-16T15:36:12+00:00</td>\n",
       "      <td>Miscellaneous</td>\n",
       "      <td>IAS ইন্টারভিউ এ মেয়েটিকে জিজ্ঞসা করা হল মেয়েদে...</td>\n",
       "      <td>IAS পরীক্ষায় এমন এমন অবাক করে দেওয়া প্রশ্ন এসে...</td>\n",
       "      <td>0</td>\n",
       "    </tr>\n",
       "    <tr>\n",
       "      <th>1296</th>\n",
       "      <td>1305</td>\n",
       "      <td>channeldhaka.news</td>\n",
       "      <td>2018-12-03T18:09:08+00:00</td>\n",
       "      <td>Crime</td>\n",
       "      <td>শাওমি মোবাইল বিস্ফোরণে কলেজছাত্রের মৃত্যু!</td>\n",
       "      <td>শাওমি মোবাইল ফোন বিস্ফোরণ হয়ে স্বপ্নীল মজুমদা...</td>\n",
       "      <td>0</td>\n",
       "    </tr>\n",
       "    <tr>\n",
       "      <th>1297</th>\n",
       "      <td>1306</td>\n",
       "      <td>earki.com</td>\n",
       "      <td>১৭:৩৬, জানুয়ারি ০৭, ২০১৯</td>\n",
       "      <td>Miscellaneous</td>\n",
       "      <td>ফেসবুকে যেভাবে নতুন মন্ত্রীদের অভিনন্দন বার্তা...</td>\n",
       "      <td>আপনাকে নতুন মন্ত্রিসভার সদস্যদের অভিনন্দন জানা...</td>\n",
       "      <td>0</td>\n",
       "    </tr>\n",
       "    <tr>\n",
       "      <th>1298</th>\n",
       "      <td>1307</td>\n",
       "      <td>channeldhaka.news</td>\n",
       "      <td>2019-03-09T23:00:05+00:00</td>\n",
       "      <td>International</td>\n",
       "      <td>মাঝ আকাশে পর্ন দেখার অভিযোগে পাইলট আটক!</td>\n",
       "      <td>বিমান যখন আকাশে তখন আর কোনও দিকে খেয়াল না রেখ...</td>\n",
       "      <td>0</td>\n",
       "    </tr>\n",
       "  </tbody>\n",
       "</table>\n",
       "<p>1299 rows × 7 columns</p>\n",
       "</div>\n",
       "      <button class=\"colab-df-convert\" onclick=\"convertToInteractive('df-f18e4980-1513-4141-a957-892497413ade')\"\n",
       "              title=\"Convert this dataframe to an interactive table.\"\n",
       "              style=\"display:none;\">\n",
       "        \n",
       "  <svg xmlns=\"http://www.w3.org/2000/svg\" height=\"24px\"viewBox=\"0 0 24 24\"\n",
       "       width=\"24px\">\n",
       "    <path d=\"M0 0h24v24H0V0z\" fill=\"none\"/>\n",
       "    <path d=\"M18.56 5.44l.94 2.06.94-2.06 2.06-.94-2.06-.94-.94-2.06-.94 2.06-2.06.94zm-11 1L8.5 8.5l.94-2.06 2.06-.94-2.06-.94L8.5 2.5l-.94 2.06-2.06.94zm10 10l.94 2.06.94-2.06 2.06-.94-2.06-.94-.94-2.06-.94 2.06-2.06.94z\"/><path d=\"M17.41 7.96l-1.37-1.37c-.4-.4-.92-.59-1.43-.59-.52 0-1.04.2-1.43.59L10.3 9.45l-7.72 7.72c-.78.78-.78 2.05 0 2.83L4 21.41c.39.39.9.59 1.41.59.51 0 1.02-.2 1.41-.59l7.78-7.78 2.81-2.81c.8-.78.8-2.07 0-2.86zM5.41 20L4 18.59l7.72-7.72 1.47 1.35L5.41 20z\"/>\n",
       "  </svg>\n",
       "      </button>\n",
       "      \n",
       "  <style>\n",
       "    .colab-df-container {\n",
       "      display:flex;\n",
       "      flex-wrap:wrap;\n",
       "      gap: 12px;\n",
       "    }\n",
       "\n",
       "    .colab-df-convert {\n",
       "      background-color: #E8F0FE;\n",
       "      border: none;\n",
       "      border-radius: 50%;\n",
       "      cursor: pointer;\n",
       "      display: none;\n",
       "      fill: #1967D2;\n",
       "      height: 32px;\n",
       "      padding: 0 0 0 0;\n",
       "      width: 32px;\n",
       "    }\n",
       "\n",
       "    .colab-df-convert:hover {\n",
       "      background-color: #E2EBFA;\n",
       "      box-shadow: 0px 1px 2px rgba(60, 64, 67, 0.3), 0px 1px 3px 1px rgba(60, 64, 67, 0.15);\n",
       "      fill: #174EA6;\n",
       "    }\n",
       "\n",
       "    [theme=dark] .colab-df-convert {\n",
       "      background-color: #3B4455;\n",
       "      fill: #D2E3FC;\n",
       "    }\n",
       "\n",
       "    [theme=dark] .colab-df-convert:hover {\n",
       "      background-color: #434B5C;\n",
       "      box-shadow: 0px 1px 3px 1px rgba(0, 0, 0, 0.15);\n",
       "      filter: drop-shadow(0px 1px 2px rgba(0, 0, 0, 0.3));\n",
       "      fill: #FFFFFF;\n",
       "    }\n",
       "  </style>\n",
       "\n",
       "      <script>\n",
       "        const buttonEl =\n",
       "          document.querySelector('#df-f18e4980-1513-4141-a957-892497413ade button.colab-df-convert');\n",
       "        buttonEl.style.display =\n",
       "          google.colab.kernel.accessAllowed ? 'block' : 'none';\n",
       "\n",
       "        async function convertToInteractive(key) {\n",
       "          const element = document.querySelector('#df-f18e4980-1513-4141-a957-892497413ade');\n",
       "          const dataTable =\n",
       "            await google.colab.kernel.invokeFunction('convertToInteractive',\n",
       "                                                     [key], {});\n",
       "          if (!dataTable) return;\n",
       "\n",
       "          const docLinkHtml = 'Like what you see? Visit the ' +\n",
       "            '<a target=\"_blank\" href=https://colab.research.google.com/notebooks/data_table.ipynb>data table notebook</a>'\n",
       "            + ' to learn more about interactive tables.';\n",
       "          element.innerHTML = '';\n",
       "          dataTable['output_type'] = 'display_data';\n",
       "          await google.colab.output.renderOutput(dataTable, element);\n",
       "          const docLink = document.createElement('div');\n",
       "          docLink.innerHTML = docLinkHtml;\n",
       "          element.appendChild(docLink);\n",
       "        }\n",
       "      </script>\n",
       "    </div>\n",
       "  </div>\n",
       "  "
      ],
      "text/plain": [
       "      articleID                    domain                        date  \\\n",
       "0             1         channeldhaka.news   2019-03-14T13:34:14+00:00   \n",
       "1             2                 earki.com            সেম্বর ১৭, ২০১৮    \n",
       "2             3                 earki.com  ২০:৩৯, জানুয়ারি ১৪, ২০১৯    \n",
       "3             4         channeldhaka.news   2018-06-30T15:56:47+00:00   \n",
       "4             5  motikontho.wordpress.com   2013-03-05T21:55:45+00:00   \n",
       "...         ...                       ...                         ...   \n",
       "1294       1303           bengalbeats.com   2019-03-31T21:34:42+00:00   \n",
       "1295       1304      bengaliviralnews.com   2018-01-16T15:36:12+00:00   \n",
       "1296       1305         channeldhaka.news   2018-12-03T18:09:08+00:00   \n",
       "1297       1306                 earki.com  ১৭:৩৬, জানুয়ারি ০৭, ২০১৯    \n",
       "1298       1307         channeldhaka.news   2019-03-09T23:00:05+00:00   \n",
       "\n",
       "           category                                           headline  \\\n",
       "0     International                           মুরগির হামলায় শেয়াল নিহত   \n",
       "1     Miscellaneous            বিটিভিতে যেবার আমি ইন্টারভিউ দিতে গেলাম   \n",
       "2     Miscellaneous  বিদেশ থেকে উন্নতমানের বিরোধীদল আমদানি করার পরা...   \n",
       "3            Sports                      অবসর নেয়ার ঘোষণা দিলেন মেসি !   \n",
       "4     Miscellaneous  মাদারফাকার নহে, ব্রাদারফাকার: সাকা | দৈনিক মতি...   \n",
       "...             ...                                                ...   \n",
       "1294  Miscellaneous  রাজশাহীতে স্বামীর হাঁচির আওয়াজে ঘুমের মধ্যেই স...   \n",
       "1295  Miscellaneous  IAS ইন্টারভিউ এ মেয়েটিকে জিজ্ঞসা করা হল মেয়েদে...   \n",
       "1296          Crime         শাওমি মোবাইল বিস্ফোরণে কলেজছাত্রের মৃত্যু!   \n",
       "1297  Miscellaneous  ফেসবুকে যেভাবে নতুন মন্ত্রীদের অভিনন্দন বার্তা...   \n",
       "1298  International            মাঝ আকাশে পর্ন দেখার অভিযোগে পাইলট আটক!   \n",
       "\n",
       "                                                content  label  \n",
       "0     বাংলায় একটা প্রবাদ আছে, শেয়ালের কাছে মুরগী বর্...      0  \n",
       "1     BTV থেকে লোকজন আসছে, ইন্টারভিউ নিবে।চারজনের টি...      0  \n",
       "2     অদ্ভুত বিরোধীদলহীনতায় ভুগছে সরকার। এ এক অন্যরক...      0  \n",
       "3     রাশিয়া বিশ্বকাপ নকআউট পর্বে ফ্রান্সের সাথে ৪-৩...      0  \n",
       "4     নিজস্ব মতিবেদক‘মাদারফাকার নহে, আমি ব্রাদারফাকা...      0  \n",
       "...                                                 ...    ...  \n",
       "1294  রাজশাহীর সাহেব বাজার মোড়ে রাতে ঘুমের মধ্যে হাস...      0  \n",
       "1295  IAS পরীক্ষায় এমন এমন অবাক করে দেওয়া প্রশ্ন এসে...      0  \n",
       "1296  শাওমি মোবাইল ফোন বিস্ফোরণ হয়ে স্বপ্নীল মজুমদা...      0  \n",
       "1297  আপনাকে নতুন মন্ত্রিসভার সদস্যদের অভিনন্দন জানা...      0  \n",
       "1298  বিমান যখন আকাশে তখন আর কোনও দিকে খেয়াল না রেখ...      0  \n",
       "\n",
       "[1299 rows x 7 columns]"
      ]
     },
     "execution_count": 6,
     "metadata": {},
     "output_type": "execute_result"
    }
   ],
   "source": [
    "df_fake"
   ]
  },
  {
   "cell_type": "code",
   "execution_count": null,
   "metadata": {
    "id": "sVTbQ_avm6S_"
   },
   "outputs": [],
   "source": [
    "import matplotlib.pyplot as plt\n",
    "\n",
    "def show_bar(column, title, top=100):\n",
    "  plt.figure(figsize=(20,5))\n",
    "  column[:top].plot(kind='bar')\n",
    "  plt.title(title)\n",
    "  plt.xlabel(\"ID\")\n",
    "  plt.ylabel(\"Count\")\n",
    "  plt.show()\n",
    "\n",
    "\n",
    "import seaborn as sns\n",
    "\n",
    "def show_dist(column):\n",
    "  plt.figure(figsize=(10,5))\n",
    "  sns.distplot(column)\n",
    "  plt.show()"
   ]
  },
  {
   "cell_type": "code",
   "execution_count": null,
   "metadata": {
    "colab": {
     "base_uri": "https://localhost:8080/",
     "height": 705
    },
    "id": "04ewr4Ye53nU",
    "outputId": "fd61ef53-dc42-48e3-fd11-571094250041"
   },
   "outputs": [
    {
     "data": {
      "image/png": "[encoded data removed]",
      "text/plain": [
       "<Figure size 1440x360 with 1 Axes>"
      ]
     },
     "metadata": {
      "needs_background": "light"
     },
     "output_type": "display_data"
    },
    {
     "name": "stdout",
     "output_type": "stream",
     "text": [
      "\n"
     ]
    },
    {
     "data": {
      "image/png": "[encoded data removed]",
      "text/plain": [
       "<Figure size 1440x360 with 1 Axes>"
      ]
     },
     "metadata": {
      "needs_background": "light"
     },
     "output_type": "display_data"
    }
   ],
   "source": [
    "df_true['head_lenght'] = df_true.headline.apply(lambda x : len(x.split()))\n",
    "df_true['content_head_lenght'] = df_true.content.apply(lambda x : len(x.split()))\n",
    "\n",
    "\n",
    "show_bar(df_true.head_lenght, \"Authentic Headlines Length TOP 100\")\n",
    "print(\"\")\n",
    "show_bar(df_true.content_head_lenght, \"Authentic Content Length TOP 100\")"
   ]
  },
  {
   "cell_type": "code",
   "execution_count": null,
   "metadata": {
    "colab": {
     "base_uri": "https://localhost:8080/",
     "height": 765
    },
    "id": "RNcA7XL86RVz",
    "outputId": "e6a6b8b3-a9f8-411d-ca6c-e1f71e391c1f"
   },
   "outputs": [
    {
     "name": "stderr",
     "output_type": "stream",
     "text": [
      "/usr/local/lib/python3.8/dist-packages/seaborn/distributions.py:2619: FutureWarning: `distplot` is a deprecated function and will be removed in a future version. Please adapt your code to use either `displot` (a figure-level function with similar flexibility) or `histplot` (an axes-level function for histograms).\n",
      "  warnings.warn(msg, FutureWarning)\n"
     ]
    },
    {
     "data": {
      "image/png": "[encoded data removed]",
      "text/plain": [
       "<Figure size 720x360 with 1 Axes>"
      ]
     },
     "metadata": {
      "needs_background": "light"
     },
     "output_type": "display_data"
    },
    {
     "name": "stdout",
     "output_type": "stream",
     "text": [
      "\n"
     ]
    },
    {
     "name": "stderr",
     "output_type": "stream",
     "text": [
      "/usr/local/lib/python3.8/dist-packages/seaborn/distributions.py:2619: FutureWarning: `distplot` is a deprecated function and will be removed in a future version. Please adapt your code to use either `displot` (a figure-level function with similar flexibility) or `histplot` (an axes-level function for histograms).\n",
      "  warnings.warn(msg, FutureWarning)\n"
     ]
    },
    {
     "data": {
      "image/png": "[encoded data removed]",
      "text/plain": [
       "<Figure size 720x360 with 1 Axes>"
      ]
     },
     "metadata": {
      "needs_background": "light"
     },
     "output_type": "display_data"
    }
   ],
   "source": [
    "show_dist(df_true.head_lenght)\n",
    "print(\"\")\n",
    "show_dist(df_true.content_head_lenght)"
   ]
  },
  {
   "cell_type": "code",
   "execution_count": null,
   "metadata": {
    "colab": {
     "base_uri": "https://localhost:8080/",
     "height": 705
    },
    "id": "vlUCOZMW7hSe",
    "outputId": "3f2e7317-da55-4b1f-8fc8-35c31d08f5ff"
   },
   "outputs": [
    {
     "data": {
      "image/png": "[encoded data removed]",
      "text/plain": [
       "<Figure size 1440x360 with 1 Axes>"
      ]
     },
     "metadata": {
      "needs_background": "light"
     },
     "output_type": "display_data"
    },
    {
     "name": "stdout",
     "output_type": "stream",
     "text": [
      "\n"
     ]
    },
    {
     "data": {
      "image/png": "[encoded data removed]",
      "text/plain": [
       "<Figure size 1440x360 with 1 Axes>"
      ]
     },
     "metadata": {
      "needs_background": "light"
     },
     "output_type": "display_data"
    }
   ],
   "source": [
    "df_fake['head_lenght'] = df_fake.headline.apply(lambda x : len(x.split()))\n",
    "df_fake['content_head_lenght'] = df_fake.content.apply(lambda x : len(x.split()))\n",
    "\n",
    "show_bar(df_fake.head_lenght, \"Fake Headlines Length TOP 100\")\n",
    "print(\"\")\n",
    "show_bar(df_fake.content_head_lenght, \"Fake Content Length TOP 100\")"
   ]
  },
  {
   "cell_type": "code",
   "execution_count": null,
   "metadata": {
    "colab": {
     "base_uri": "https://localhost:8080/",
     "height": 765
    },
    "id": "L52V4Pnm8MMq",
    "outputId": "5dd9aa68-df36-4b03-d538-86b90538646e"
   },
   "outputs": [
    {
     "name": "stderr",
     "output_type": "stream",
     "text": [
      "/usr/local/lib/python3.8/dist-packages/seaborn/distributions.py:2619: FutureWarning: `distplot` is a deprecated function and will be removed in a future version. Please adapt your code to use either `displot` (a figure-level function with similar flexibility) or `histplot` (an axes-level function for histograms).\n",
      "  warnings.warn(msg, FutureWarning)\n"
     ]
    },
    {
     "data": {
      "image/png": "[encoded data removed]",
      "text/plain": [
       "<Figure size 720x360 with 1 Axes>"
      ]
     },
     "metadata": {
      "needs_background": "light"
     },
     "output_type": "display_data"
    },
    {
     "name": "stdout",
     "output_type": "stream",
     "text": [
      "\n"
     ]
    },
    {
     "name": "stderr",
     "output_type": "stream",
     "text": [
      "/usr/local/lib/python3.8/dist-packages/seaborn/distributions.py:2619: FutureWarning: `distplot` is a deprecated function and will be removed in a future version. Please adapt your code to use either `displot` (a figure-level function with similar flexibility) or `histplot` (an axes-level function for histograms).\n",
      "  warnings.warn(msg, FutureWarning)\n"
     ]
    },
    {
     "data": {
      "image/png": "[encoded data removed]",
      "text/plain": [
       "<Figure size 720x360 with 1 Axes>"
      ]
     },
     "metadata": {
      "needs_background": "light"
     },
     "output_type": "display_data"
    }
   ],
   "source": [
    "show_dist(df_fake.head_lenght)\n",
    "print(\"\")\n",
    "show_dist(df_fake.content_head_lenght)"
   ]
  },
  {
   "cell_type": "markdown",
   "metadata": {
    "id": "kX8eFkYtlKmc"
   },
   "source": [
    "**Word Cloud**"
   ]
  },
  {
   "cell_type": "code",
   "execution_count": null,
   "metadata": {
    "colab": {
     "base_uri": "https://localhost:8080/"
    },
    "id": "cuRpn3uJ8Mle",
    "outputId": "dec2a09a-b20d-461d-c1d3-3a912b92c253"
   },
   "outputs": [
    {
     "name": "stdout",
     "output_type": "stream",
     "text": [
      "--2023-01-06 14:59:16--  https://www.easynepalityping.com/resource/font/bangla/06-nikosh-bangla-font.zip\n",
      "Resolving www.easynepalityping.com (www.easynepalityping.com)... 104.21.11.66, 172.67.165.83, 2606:4700:3035::ac43:a553, ...\n",
      "Connecting to www.easynepalityping.com (www.easynepalityping.com)|104.21.11.66|:443... connected.\n",
      "HTTP request sent, awaiting response... 200 OK\n",
      "Length: 317905 (310K) [application/zip]\n",
      "Saving to: ‘06-nikosh-bangla-font.zip’\n",
      "\n",
      "06-nikosh-bangla-fo 100%[===================>] 310.45K  --.-KB/s    in 0.04s   \n",
      "\n",
      "2023-01-06 14:59:16 (8.54 MB/s) - ‘06-nikosh-bangla-font.zip’ saved [317905/317905]\n",
      "\n"
     ]
    }
   ],
   "source": [
    "!wget https://www.easynepalityping.com/resource/font/bangla/06-nikosh-bangla-font.zip"
   ]
  },
  {
   "cell_type": "code",
   "execution_count": null,
   "metadata": {
    "colab": {
     "base_uri": "https://localhost:8080/"
    },
    "id": "VslR23XdlQuO",
    "outputId": "fe10668b-5157-4589-c270-bb1166478a64"
   },
   "outputs": [
    {
     "name": "stdout",
     "output_type": "stream",
     "text": [
      "Archive:  06-nikosh-bangla-font.zip\n",
      "  inflating: Nikosh.ttf              \n"
     ]
    }
   ],
   "source": [
    "!unzip 06-nikosh-bangla-font.zip"
   ]
  },
  {
   "cell_type": "code",
   "execution_count": null,
   "metadata": {
    "id": "kMqVdIaVlRbV"
   },
   "outputs": [],
   "source": [
    "from wordcloud import WordCloud, STOPWORDS\n",
    "\n",
    "def plot_world(text):\n",
    "\n",
    "    wordcloud = WordCloud(width = 500, height = 500, \n",
    "                    background_color ='black', \n",
    "                    font_path=\"Nikosh.ttf\",\n",
    "                    min_font_size = 10).generate(text) \n",
    "\n",
    "    # plot the WordCloud image                        \n",
    "    plt.figure(figsize = (5, 5), facecolor = 'r', edgecolor = 'r' ) \n",
    "    plt.imshow(wordcloud) \n",
    "    plt.axis(\"off\") \n",
    "    plt.tight_layout(pad = 0) \n",
    "\n",
    "    plt.show() "
   ]
  },
  {
   "cell_type": "code",
   "execution_count": null,
   "metadata": {
    "colab": {
     "base_uri": "https://localhost:8080/",
     "height": 391
    },
    "id": "RJOT6EbKlXAg",
    "outputId": "b0276799-3bcb-4a6f-bf98-91ad0a706cc6"
   },
   "outputs": [
    {
     "data": {
      "image/png": "[encoded data removed]",
      "text/plain": [
       "<Figure size 360x360 with 1 Axes>"
      ]
     },
     "metadata": {},
     "output_type": "display_data"
    }
   ],
   "source": [
    "s= \" \".join(df_true.headline[:100])\n",
    "plot_world(s)"
   ]
  },
  {
   "cell_type": "code",
   "execution_count": null,
   "metadata": {
    "colab": {
     "base_uri": "https://localhost:8080/",
     "height": 391
    },
    "id": "QNywasw1lZxA",
    "outputId": "25994e3c-431b-47dc-fe8e-71a7089fa5b8"
   },
   "outputs": [
    {
     "data": {
      "image/png": "[encoded data removed]",
      "text/plain": [
       "<Figure size 360x360 with 1 Axes>"
      ]
     },
     "metadata": {},
     "output_type": "display_data"
    }
   ],
   "source": [
    "s= \" \".join(df_fake.headline[:100])\n",
    "plot_world(s)"
   ]
  },
  {
   "cell_type": "markdown",
   "metadata": {
    "id": "HEPMsKs4oSFX"
   },
   "source": [
    "**Analysis Words**"
   ]
  },
  {
   "cell_type": "code",
   "execution_count": null,
   "metadata": {
    "colab": {
     "base_uri": "https://localhost:8080/"
    },
    "id": "BAAas1mNoURB",
    "outputId": "5fc39671-b880-4f35-b04f-6412e819d5a6"
   },
   "outputs": [
    {
     "name": "stdout",
     "output_type": "stream",
     "text": [
      "Looking in indexes: https://pypi.org/simple, https://us-python.pkg.dev/colab-wheels/public/simple/\n",
      "Collecting bnlp_toolkit\n",
      "  Downloading bnlp_toolkit-3.2.0-py3-none-any.whl (19 kB)\n",
      "Collecting sentencepiece\n",
      "  Downloading sentencepiece-0.1.97-cp38-cp38-manylinux_2_17_x86_64.manylinux2014_x86_64.whl (1.3 MB)\n",
      "\u001b[2K     \u001b[90m━━━━━━━━━━━━━━━━━━━━━━━━━━━━━━━━━━━━━━━━\u001b[0m \u001b[32m1.3/1.3 MB\u001b[0m \u001b[31m19.3 MB/s\u001b[0m eta \u001b[36m0:00:00\u001b[0m\n",
      "\u001b[?25hRequirement already satisfied: scipy in /usr/local/lib/python3.8/dist-packages (from bnlp_toolkit) (1.7.3)\n",
      "Requirement already satisfied: numpy in /usr/local/lib/python3.8/dist-packages (from bnlp_toolkit) (1.21.6)\n",
      "Requirement already satisfied: wasabi in /usr/local/lib/python3.8/dist-packages (from bnlp_toolkit) (0.10.1)\n",
      "Collecting sklearn-crfsuite\n",
      "  Downloading sklearn_crfsuite-0.3.6-py2.py3-none-any.whl (12 kB)\n",
      "Collecting gensim==4.0.1\n",
      "  Downloading gensim-4.0.1-cp38-cp38-manylinux1_x86_64.whl (23.9 MB)\n",
      "\u001b[2K     \u001b[90m━━━━━━━━━━━━━━━━━━━━━━━━━━━━━━━━━━━━━━━━\u001b[0m \u001b[32m23.9/23.9 MB\u001b[0m \u001b[31m39.6 MB/s\u001b[0m eta \u001b[36m0:00:00\u001b[0m\n",
      "\u001b[?25hRequirement already satisfied: tqdm in /usr/local/lib/python3.8/dist-packages (from bnlp_toolkit) (4.64.1)\n",
      "Requirement already satisfied: nltk in /usr/local/lib/python3.8/dist-packages (from bnlp_toolkit) (3.7)\n",
      "Requirement already satisfied: smart-open>=1.8.1 in /usr/local/lib/python3.8/dist-packages (from gensim==4.0.1->bnlp_toolkit) (6.3.0)\n",
      "Requirement already satisfied: joblib in /usr/local/lib/python3.8/dist-packages (from nltk->bnlp_toolkit) (1.2.0)\n",
      "Requirement already satisfied: click in /usr/local/lib/python3.8/dist-packages (from nltk->bnlp_toolkit) (7.1.2)\n",
      "Requirement already satisfied: regex>=2021.8.3 in /usr/local/lib/python3.8/dist-packages (from nltk->bnlp_toolkit) (2022.6.2)\n",
      "Requirement already satisfied: six in /usr/local/lib/python3.8/dist-packages (from sklearn-crfsuite->bnlp_toolkit) (1.15.0)\n",
      "Requirement already satisfied: tabulate in /usr/local/lib/python3.8/dist-packages (from sklearn-crfsuite->bnlp_toolkit) (0.8.10)\n",
      "Collecting python-crfsuite>=0.8.3\n",
      "  Downloading python_crfsuite-0.9.8-cp38-cp38-manylinux_2_17_x86_64.manylinux2014_x86_64.whl (1.0 MB)\n",
      "\u001b[2K     \u001b[90m━━━━━━━━━━━━━━━━━━━━━━━━━━━━━━━━━━━━━━━━\u001b[0m \u001b[32m1.0/1.0 MB\u001b[0m \u001b[31m49.0 MB/s\u001b[0m eta \u001b[36m0:00:00\u001b[0m\n",
      "\u001b[?25hInstalling collected packages: sentencepiece, python-crfsuite, sklearn-crfsuite, gensim, bnlp_toolkit\n",
      "  Attempting uninstall: gensim\n",
      "    Found existing installation: gensim 3.6.0\n",
      "    Uninstalling gensim-3.6.0:\n",
      "      Successfully uninstalled gensim-3.6.0\n",
      "Successfully installed bnlp_toolkit-3.2.0 gensim-4.0.1 python-crfsuite-0.9.8 sentencepiece-0.1.97 sklearn-crfsuite-0.3.6\n"
     ]
    }
   ],
   "source": [
    "!pip install bnlp_toolkit"
   ]
  },
  {
   "cell_type": "code",
   "execution_count": null,
   "metadata": {
    "colab": {
     "base_uri": "https://localhost:8080/"
    },
    "id": "TT2YJeeDxkUJ",
    "outputId": "d622d0c7-c77d-4532-deaf-47e52f96a0b9"
   },
   "outputs": [
    {
     "name": "stdout",
     "output_type": "stream",
     "text": [
      "punkt not found. downloading...\n"
     ]
    },
    {
     "name": "stderr",
     "output_type": "stream",
     "text": [
      "[nltk_data] Downloading package punkt to /root/nltk_data...\n",
      "[nltk_data]   Unzipping tokenizers/punkt.zip.\n"
     ]
    },
    {
     "name": "stdout",
     "output_type": "stream",
     "text": [
      "['আমি', 'বাংলায়', 'গান', 'গাই', 'আমি', 'বাংলার', 'গান', 'গাই', '।', 'আমি', 'আমার', 'আমিকে', 'চিরদিন', 'এই', 'বাংলায়', 'খুঁজে', 'পাই', '।']\n"
     ]
    },
    {
     "name": "stderr",
     "output_type": "stream",
     "text": [
      "/usr/local/lib/python3.8/dist-packages/gensim/similarities/__init__.py:15: UserWarning: The gensim.similarities.levenshtein submodule is disabled, because the optional Levenshtein package <https://pypi.org/project/python-Levenshtein/> is unavailable. Install Levenhstein (e.g. `pip install python-Levenshtein`) to suppress this warning.\n",
      "  warnings.warn(msg)\n"
     ]
    }
   ],
   "source": [
    "from bnlp import BasicTokenizer\n",
    "tokenizer = BasicTokenizer()\n",
    "\n",
    "s = \"\"\"আমি বাংলায় গান গাই\n",
    "    আমি বাংলার গান গাই।\n",
    "    আমি আমার আমিকে চিরদিন\n",
    "    এই বাংলায় খুঁজে পাই।\"\"\"\n",
    "\n",
    "print(tokenizer.tokenize(s))"
   ]
  },
  {
   "cell_type": "code",
   "execution_count": null,
   "metadata": {
    "id": "rHybUtRLxq7N"
   },
   "outputs": [],
   "source": [
    "def create_corpus(texts):\n",
    "    corpus=[]\n",
    "\n",
    "    for txt in texts:\n",
    "      tokens = tokenizer.tokenize(txt)\n",
    "      corpus.extend(tokens)\n",
    "\n",
    "    return corpus"
   ]
  },
  {
   "cell_type": "code",
   "execution_count": null,
   "metadata": {
    "colab": {
     "base_uri": "https://localhost:8080/"
    },
    "id": "FMZPfluwx6-S",
    "outputId": "d0ffdc6e-6406-4cdd-cfee-643dd17d08dd"
   },
   "outputs": [
    {
     "name": "stdout",
     "output_type": "stream",
     "text": [
      "Total true tokens in 1000 10525\n",
      "Total fake tokens in 1000 7482\n"
     ]
    }
   ],
   "source": [
    "true_corpus = create_corpus(df_true.headline[:1000])\n",
    "print(\"Total true tokens in 1000\", len(true_corpus))\n",
    "\n",
    "fake_corpus = create_corpus(df_fake.headline[:1000])\n",
    "print(\"Total fake tokens in 1000\", len(fake_corpus))"
   ]
  },
  {
   "cell_type": "code",
   "execution_count": null,
   "metadata": {
    "id": "Xtp7zwEHydsR"
   },
   "outputs": [],
   "source": [
    "from matplotlib import font_manager\n",
    "# set font\n",
    "font_manager.fontManager.addfont(\"Nikosh.ttf\")\n",
    "plt.rcParams['font.family'] = 'Nikosh'\n",
    "plt.rcParams['font.sans-serif']=['Nikosh']\n",
    "plt.rcParams['axes.unicode_minus']=False"
   ]
  },
  {
   "cell_type": "code",
   "execution_count": null,
   "metadata": {
    "id": "j2HKLY1Eyr_w"
   },
   "outputs": [],
   "source": [
    "from collections import defaultdict\n",
    "from collections import  Counter\n",
    "from bnlp.corpus import stopwords\n",
    "import matplotlib.font_manager as fm\n",
    "\n",
    "def show_stop_words(corpus, length=20):\n",
    "  dic = defaultdict(int)\n",
    "\n",
    "  for word in corpus:\n",
    "      if word in stopwords:\n",
    "          dic[word]+=1\n",
    "\n",
    "  top=sorted(dic.items(), key=lambda x:x[1],reverse=True)[:length]\n",
    "  x,y=zip(*top)\n",
    "  print(x)\n",
    "  print(y)\n",
    "  plt.figure(figsize=(10,5))\n",
    "  plt.bar(x,y)\n",
    "  plt.show()"
   ]
  },
  {
   "cell_type": "code",
   "execution_count": null,
   "metadata": {
    "colab": {
     "base_uri": "https://localhost:8080/",
     "height": 357
    },
    "id": "vq5a3ntpyubc",
    "outputId": "21c48377-1fef-463d-a3e3-18b419fc8633"
   },
   "outputs": [
    {
     "name": "stdout",
     "output_type": "stream",
     "text": [
      "('না', 'যে', 'করে', 'ও', 'থেকে', 'নিয়ে', 'এই', 'জন্য', 'দিলেন', 'করলেন', 'এবার', 'করতে', 'কি', 'করা', 'বেশি', 'হবে', 'দুই', 'যা', 'পর', 'আমার')\n",
      "(101, 58, 53, 40, 36, 36, 36, 28, 26, 25, 25, 25, 25, 22, 20, 20, 20, 18, 17, 17)\n"
     ]
    },
    {
     "data": {
      "image/png": "[encoded data removed]",
      "text/plain": [
       "<Figure size 720x360 with 1 Axes>"
      ]
     },
     "metadata": {
      "needs_background": "light"
     },
     "output_type": "display_data"
    }
   ],
   "source": [
    "show_stop_words(true_corpus)"
   ]
  },
  {
   "cell_type": "code",
   "execution_count": null,
   "metadata": {
    "colab": {
     "base_uri": "https://localhost:8080/",
     "height": 357
    },
    "id": "P4zr37Fgy3Zl",
    "outputId": "83c47a1d-596b-43bf-d809-dcab8d0900c6"
   },
   "outputs": [
    {
     "name": "stdout",
     "output_type": "stream",
     "text": [
      "('না', 'ও', 'শুরু', 'হবে', 'করে', 'নিয়ে', 'জন্য', 'থেকে', 'দুই', 'নতুন', 'সঙ্গে', 'কোটি', 'করা', 'করতে', 'হচ্ছে', 'দিতে', 'পর', 'প্রথম', 'কাজ', 'হাজার')\n",
      "(57, 34, 23, 23, 23, 22, 21, 21, 19, 17, 17, 16, 16, 14, 14, 11, 11, 11, 11, 11)\n"
     ]
    },
    {
     "data": {
      "image/png": "[encoded data removed]",
      "text/plain": [
       "<Figure size 720x360 with 1 Axes>"
      ]
     },
     "metadata": {
      "needs_background": "light"
     },
     "output_type": "display_data"
    }
   ],
   "source": [
    "show_stop_words(fake_corpus)"
   ]
  },
  {
   "cell_type": "code",
   "execution_count": null,
   "metadata": {
    "id": "IbVyEvCMy379"
   },
   "outputs": [],
   "source": [
    "from bnlp.corpus import stopwords, punctuations, digits\n",
    "\n",
    "def filters(corpus):\n",
    "  res = []\n",
    "  for i in corpus:\n",
    "    if i in stopwords:\n",
    "      continue\n",
    "\n",
    "    if i in punctuations + '‘' + '’':\n",
    "      continue\n",
    "\n",
    "    if i in digits:\n",
    "      continue\n",
    "\n",
    "    res.append(i)\n",
    "\n",
    "  return res"
   ]
  },
  {
   "cell_type": "code",
   "execution_count": null,
   "metadata": {
    "id": "wI2lDoP2y_wB"
   },
   "outputs": [],
   "source": [
    "true_corpus_filtered = filters(true_corpus)\n",
    "fake_corpus_filtered = filters(fake_corpus)"
   ]
  },
  {
   "cell_type": "code",
   "execution_count": null,
   "metadata": {
    "id": "A5iXNkmszFI7"
   },
   "outputs": [],
   "source": [
    "def get_top_words(corpus):\n",
    "  dic = defaultdict(int)\n",
    "\n",
    "  for word in corpus:\n",
    "      dic[word] +=1\n",
    "\n",
    "  top = sorted(dic.items(), key=lambda x:x[1],reverse=True)\n",
    "  x,y=zip(*top)\n",
    "  return x, y"
   ]
  },
  {
   "cell_type": "code",
   "execution_count": null,
   "metadata": {
    "colab": {
     "base_uri": "https://localhost:8080/"
    },
    "id": "yZsyL0UczH2w",
    "outputId": "ce593fd5-4fc5-4f9a-8fab-096ebb9f41ae"
   },
   "outputs": [
    {
     "name": "stdout",
     "output_type": "stream",
     "text": [
      "Top 10 words\n",
      "('দৈনিক', 'মতিকণ্ঠ', 'Bengal', 'Beats', 'এক', 'হয়ে', 'সাথে', 'দিয়ে', 'কারণে', 'শেখ')\n",
      "(151, 151, 139, 139, 41, 29, 24, 21, 20, 19)\n"
     ]
    }
   ],
   "source": [
    "x, y = get_top_words(true_corpus_filtered)\n",
    "\n",
    "print(\"Top 10 words\")\n",
    "print(x[:10])\n",
    "print(y[:10])"
   ]
  },
  {
   "cell_type": "code",
   "execution_count": null,
   "metadata": {
    "colab": {
     "base_uri": "https://localhost:8080/"
    },
    "id": "2Lw-Bz5rzJiE",
    "outputId": "28e72548-019e-4d97-ef02-6eee602d6e1b"
   },
   "outputs": [
    {
     "name": "stdout",
     "output_type": "stream",
     "text": [
      "Top 10 words\n",
      "('১৯', 'সেপ্টেম্বর', '২০১৮', 'প্রধানমন্ত্রী', 'পাকিস্তান', 'লাখ', 'ভারত', 'আটক', 'বাংলাদেশ', 'উদ্ধার')\n",
      "(56, 52, 51, 45, 33, 25, 23, 21, 20, 20)\n"
     ]
    }
   ],
   "source": [
    "x, y = get_top_words(fake_corpus_filtered)\n",
    "\n",
    "print(\"Top 10 words\")\n",
    "print(x[:10])\n",
    "print(y[:10])"
   ]
  },
  {
   "cell_type": "code",
   "execution_count": null,
   "metadata": {
    "id": "t4D1pP28zNul"
   },
   "outputs": [],
   "source": []
  }
 ],
 "metadata": {
  "accelerator": "GPU",
  "colab": {
   "provenance": []
  },
  "gpuClass": "standard",
  "kernelspec": {
   "display_name": "Python 3 (ipykernel)",
   "language": "python",
   "name": "python3"
  },
  "language_info": {
   "codemirror_mode": {
    "name": "ipython",
    "version": 3
   },
   "file_extension": ".py",
   "mimetype": "text/x-python",
   "name": "python",
   "nbconvert_exporter": "python",
   "pygments_lexer": "ipython3",
   "version": "3.9.12"
  }
 },
 "nbformat": 4,
 "nbformat_minor": 1
}
